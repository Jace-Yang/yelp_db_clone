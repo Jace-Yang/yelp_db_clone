{
 "cells": [
  {
   "cell_type": "markdown",
   "metadata": {},
   "source": [
    "# Converting Yelp Dataset json files to CSV\n",
    "\n",
    "Medium Article - [Convert Yelp Dataset to CSV using Pandas](https://link.medium.com/0k0DEb3Qy1)\n",
    "\n",
    "[GitHub Repo](https://github.com/gyhou/yelp_dataset)"
   ]
  },
  {
   "cell_type": "markdown",
   "metadata": {
    "tags": []
   },
   "source": [
    "## Data Source\n",
    "https://www.yelp.com/dataset/\n",
    "- Unzip the first .tar file, it will extract a single file\n",
    "- Add .tar to the end of the file's name to unzip it again\n",
    "- The second file will extract 6 json files"
   ]
  },
  {
   "cell_type": "code",
   "execution_count": 3,
   "metadata": {},
   "outputs": [],
   "source": [
    "# Need to upgrade pandas to version 0.25 to use \"explode\" function\n",
    "# !pip install --upgrade pandas"
   ]
  },
  {
   "cell_type": "code",
   "execution_count": 1,
   "metadata": {},
   "outputs": [
    {
     "data": {
      "text/plain": [
       "'1.4.1'"
      ]
     },
     "execution_count": 1,
     "metadata": {},
     "output_type": "execute_result"
    }
   ],
   "source": [
    "import pandas as pd\n",
    "pd.__version__"
   ]
  },
  {
   "cell_type": "markdown",
   "metadata": {},
   "source": [
    "## To match the review texts with business info, we need to merge the two json files"
   ]
  },
  {
   "cell_type": "raw",
   "metadata": {},
   "source": [
    "import pandas as pd### Load and Clean Business.json file"
   ]
  },
  {
   "cell_type": "code",
   "execution_count": 3,
   "metadata": {},
   "outputs": [
    {
     "name": "stdout",
     "output_type": "stream",
     "text": [
      "(192609, 14)\n"
     ]
    },
    {
     "data": {
      "text/html": [
       "<div>\n",
       "<style scoped>\n",
       "    .dataframe tbody tr th:only-of-type {\n",
       "        vertical-align: middle;\n",
       "    }\n",
       "\n",
       "    .dataframe tbody tr th {\n",
       "        vertical-align: top;\n",
       "    }\n",
       "\n",
       "    .dataframe thead th {\n",
       "        text-align: right;\n",
       "    }\n",
       "</style>\n",
       "<table border=\"1\" class=\"dataframe\">\n",
       "  <thead>\n",
       "    <tr style=\"text-align: right;\">\n",
       "      <th></th>\n",
       "      <th>business_id</th>\n",
       "      <th>name</th>\n",
       "      <th>address</th>\n",
       "      <th>city</th>\n",
       "      <th>state</th>\n",
       "      <th>postal_code</th>\n",
       "      <th>latitude</th>\n",
       "      <th>longitude</th>\n",
       "      <th>stars</th>\n",
       "      <th>review_count</th>\n",
       "      <th>is_open</th>\n",
       "      <th>attributes</th>\n",
       "      <th>categories</th>\n",
       "      <th>hours</th>\n",
       "    </tr>\n",
       "  </thead>\n",
       "  <tbody>\n",
       "    <tr>\n",
       "      <th>0</th>\n",
       "      <td>1SWheh84yJXfytovILXOAQ</td>\n",
       "      <td>Arizona Biltmore Golf Club</td>\n",
       "      <td>2818 E Camino Acequia Drive</td>\n",
       "      <td>Phoenix</td>\n",
       "      <td>AZ</td>\n",
       "      <td>85016</td>\n",
       "      <td>33.522143</td>\n",
       "      <td>-112.018481</td>\n",
       "      <td>3.0</td>\n",
       "      <td>5</td>\n",
       "      <td>0</td>\n",
       "      <td>{'GoodForKids': 'False'}</td>\n",
       "      <td>Golf, Active Life</td>\n",
       "      <td>None</td>\n",
       "    </tr>\n",
       "    <tr>\n",
       "      <th>1</th>\n",
       "      <td>QXAEGFB4oINsVuTFxEYKFQ</td>\n",
       "      <td>Emerald Chinese Restaurant</td>\n",
       "      <td>30 Eglinton Avenue W</td>\n",
       "      <td>Mississauga</td>\n",
       "      <td>ON</td>\n",
       "      <td>L5R 3E7</td>\n",
       "      <td>43.605499</td>\n",
       "      <td>-79.652289</td>\n",
       "      <td>2.5</td>\n",
       "      <td>128</td>\n",
       "      <td>1</td>\n",
       "      <td>{'RestaurantsReservations': 'True', 'GoodForMe...</td>\n",
       "      <td>Specialty Food, Restaurants, Dim Sum, Imported...</td>\n",
       "      <td>{'Monday': '9:0-0:0', 'Tuesday': '9:0-0:0', 'W...</td>\n",
       "    </tr>\n",
       "    <tr>\n",
       "      <th>2</th>\n",
       "      <td>gnKjwL_1w79qoiV3IC_xQQ</td>\n",
       "      <td>Musashi Japanese Restaurant</td>\n",
       "      <td>10110 Johnston Rd, Ste 15</td>\n",
       "      <td>Charlotte</td>\n",
       "      <td>NC</td>\n",
       "      <td>28210</td>\n",
       "      <td>35.092564</td>\n",
       "      <td>-80.859132</td>\n",
       "      <td>4.0</td>\n",
       "      <td>170</td>\n",
       "      <td>1</td>\n",
       "      <td>{'GoodForKids': 'True', 'NoiseLevel': 'u'avera...</td>\n",
       "      <td>Sushi Bars, Restaurants, Japanese</td>\n",
       "      <td>{'Monday': '17:30-21:30', 'Wednesday': '17:30-...</td>\n",
       "    </tr>\n",
       "    <tr>\n",
       "      <th>3</th>\n",
       "      <td>xvX2CttrVhyG2z1dFg_0xw</td>\n",
       "      <td>Farmers Insurance - Paul Lorenz</td>\n",
       "      <td>15655 W Roosevelt St, Ste 237</td>\n",
       "      <td>Goodyear</td>\n",
       "      <td>AZ</td>\n",
       "      <td>85338</td>\n",
       "      <td>33.455613</td>\n",
       "      <td>-112.395596</td>\n",
       "      <td>5.0</td>\n",
       "      <td>3</td>\n",
       "      <td>1</td>\n",
       "      <td>None</td>\n",
       "      <td>Insurance, Financial Services</td>\n",
       "      <td>{'Monday': '8:0-17:0', 'Tuesday': '8:0-17:0', ...</td>\n",
       "    </tr>\n",
       "    <tr>\n",
       "      <th>4</th>\n",
       "      <td>HhyxOkGAM07SRYtlQ4wMFQ</td>\n",
       "      <td>Queen City Plumbing</td>\n",
       "      <td>4209 Stuart Andrew Blvd, Ste F</td>\n",
       "      <td>Charlotte</td>\n",
       "      <td>NC</td>\n",
       "      <td>28217</td>\n",
       "      <td>35.190012</td>\n",
       "      <td>-80.887223</td>\n",
       "      <td>4.0</td>\n",
       "      <td>4</td>\n",
       "      <td>1</td>\n",
       "      <td>{'BusinessAcceptsBitcoin': 'False', 'ByAppoint...</td>\n",
       "      <td>Plumbing, Shopping, Local Services, Home Servi...</td>\n",
       "      <td>{'Monday': '7:0-23:0', 'Tuesday': '7:0-23:0', ...</td>\n",
       "    </tr>\n",
       "  </tbody>\n",
       "</table>\n",
       "</div>"
      ],
      "text/plain": [
       "              business_id                             name  \\\n",
       "0  1SWheh84yJXfytovILXOAQ       Arizona Biltmore Golf Club   \n",
       "1  QXAEGFB4oINsVuTFxEYKFQ       Emerald Chinese Restaurant   \n",
       "2  gnKjwL_1w79qoiV3IC_xQQ      Musashi Japanese Restaurant   \n",
       "3  xvX2CttrVhyG2z1dFg_0xw  Farmers Insurance - Paul Lorenz   \n",
       "4  HhyxOkGAM07SRYtlQ4wMFQ              Queen City Plumbing   \n",
       "\n",
       "                          address         city state postal_code   latitude  \\\n",
       "0     2818 E Camino Acequia Drive      Phoenix    AZ       85016  33.522143   \n",
       "1            30 Eglinton Avenue W  Mississauga    ON     L5R 3E7  43.605499   \n",
       "2       10110 Johnston Rd, Ste 15    Charlotte    NC       28210  35.092564   \n",
       "3   15655 W Roosevelt St, Ste 237     Goodyear    AZ       85338  33.455613   \n",
       "4  4209 Stuart Andrew Blvd, Ste F    Charlotte    NC       28217  35.190012   \n",
       "\n",
       "    longitude  stars  review_count  is_open  \\\n",
       "0 -112.018481    3.0             5        0   \n",
       "1  -79.652289    2.5           128        1   \n",
       "2  -80.859132    4.0           170        1   \n",
       "3 -112.395596    5.0             3        1   \n",
       "4  -80.887223    4.0             4        1   \n",
       "\n",
       "                                          attributes  \\\n",
       "0                           {'GoodForKids': 'False'}   \n",
       "1  {'RestaurantsReservations': 'True', 'GoodForMe...   \n",
       "2  {'GoodForKids': 'True', 'NoiseLevel': 'u'avera...   \n",
       "3                                               None   \n",
       "4  {'BusinessAcceptsBitcoin': 'False', 'ByAppoint...   \n",
       "\n",
       "                                          categories  \\\n",
       "0                                  Golf, Active Life   \n",
       "1  Specialty Food, Restaurants, Dim Sum, Imported...   \n",
       "2                  Sushi Bars, Restaurants, Japanese   \n",
       "3                      Insurance, Financial Services   \n",
       "4  Plumbing, Shopping, Local Services, Home Servi...   \n",
       "\n",
       "                                               hours  \n",
       "0                                               None  \n",
       "1  {'Monday': '9:0-0:0', 'Tuesday': '9:0-0:0', 'W...  \n",
       "2  {'Monday': '17:30-21:30', 'Wednesday': '17:30-...  \n",
       "3  {'Monday': '8:0-17:0', 'Tuesday': '8:0-17:0', ...  \n",
       "4  {'Monday': '7:0-23:0', 'Tuesday': '7:0-23:0', ...  "
      ]
     },
     "execution_count": 3,
     "metadata": {},
     "output_type": "execute_result"
    }
   ],
   "source": [
    "# Set up your local path\n",
    "business_json_path = 'business.json'\n",
    "business = pd.read_json(business_json_path, lines=True)\n",
    "print(business.shape)\n",
    "business.head()"
   ]
  },
  {
   "cell_type": "code",
   "execution_count": 5,
   "metadata": {},
   "outputs": [
    {
     "data": {
      "text/plain": [
       "1    158525\n",
       "0     34084\n",
       "Name: is_open, dtype: int64"
      ]
     },
     "execution_count": 5,
     "metadata": {},
     "output_type": "execute_result"
    }
   ],
   "source": [
    "# There are significant amount of businesses that are not open anymore\n",
    "business.is_open.value_counts()"
   ]
  },
  {
   "cell_type": "code",
   "execution_count": 4,
   "metadata": {},
   "outputs": [
    {
     "name": "stdout",
     "output_type": "stream",
     "text": [
      "(158525, 11)\n"
     ]
    },
    {
     "data": {
      "text/html": [
       "<div>\n",
       "<style scoped>\n",
       "    .dataframe tbody tr th:only-of-type {\n",
       "        vertical-align: middle;\n",
       "    }\n",
       "\n",
       "    .dataframe tbody tr th {\n",
       "        vertical-align: top;\n",
       "    }\n",
       "\n",
       "    .dataframe thead th {\n",
       "        text-align: right;\n",
       "    }\n",
       "</style>\n",
       "<table border=\"1\" class=\"dataframe\">\n",
       "  <thead>\n",
       "    <tr style=\"text-align: right;\">\n",
       "      <th></th>\n",
       "      <th>business_id</th>\n",
       "      <th>name</th>\n",
       "      <th>address</th>\n",
       "      <th>city</th>\n",
       "      <th>state</th>\n",
       "      <th>postal_code</th>\n",
       "      <th>latitude</th>\n",
       "      <th>longitude</th>\n",
       "      <th>stars</th>\n",
       "      <th>attributes</th>\n",
       "      <th>categories</th>\n",
       "    </tr>\n",
       "  </thead>\n",
       "  <tbody>\n",
       "    <tr>\n",
       "      <th>1</th>\n",
       "      <td>QXAEGFB4oINsVuTFxEYKFQ</td>\n",
       "      <td>Emerald Chinese Restaurant</td>\n",
       "      <td>30 Eglinton Avenue W</td>\n",
       "      <td>Mississauga</td>\n",
       "      <td>ON</td>\n",
       "      <td>L5R 3E7</td>\n",
       "      <td>43.605499</td>\n",
       "      <td>-79.652289</td>\n",
       "      <td>2.5</td>\n",
       "      <td>{'RestaurantsReservations': 'True', 'GoodForMe...</td>\n",
       "      <td>Specialty Food, Restaurants, Dim Sum, Imported...</td>\n",
       "    </tr>\n",
       "    <tr>\n",
       "      <th>2</th>\n",
       "      <td>gnKjwL_1w79qoiV3IC_xQQ</td>\n",
       "      <td>Musashi Japanese Restaurant</td>\n",
       "      <td>10110 Johnston Rd, Ste 15</td>\n",
       "      <td>Charlotte</td>\n",
       "      <td>NC</td>\n",
       "      <td>28210</td>\n",
       "      <td>35.092564</td>\n",
       "      <td>-80.859132</td>\n",
       "      <td>4.0</td>\n",
       "      <td>{'GoodForKids': 'True', 'NoiseLevel': 'u'avera...</td>\n",
       "      <td>Sushi Bars, Restaurants, Japanese</td>\n",
       "    </tr>\n",
       "    <tr>\n",
       "      <th>3</th>\n",
       "      <td>xvX2CttrVhyG2z1dFg_0xw</td>\n",
       "      <td>Farmers Insurance - Paul Lorenz</td>\n",
       "      <td>15655 W Roosevelt St, Ste 237</td>\n",
       "      <td>Goodyear</td>\n",
       "      <td>AZ</td>\n",
       "      <td>85338</td>\n",
       "      <td>33.455613</td>\n",
       "      <td>-112.395596</td>\n",
       "      <td>5.0</td>\n",
       "      <td>None</td>\n",
       "      <td>Insurance, Financial Services</td>\n",
       "    </tr>\n",
       "    <tr>\n",
       "      <th>4</th>\n",
       "      <td>HhyxOkGAM07SRYtlQ4wMFQ</td>\n",
       "      <td>Queen City Plumbing</td>\n",
       "      <td>4209 Stuart Andrew Blvd, Ste F</td>\n",
       "      <td>Charlotte</td>\n",
       "      <td>NC</td>\n",
       "      <td>28217</td>\n",
       "      <td>35.190012</td>\n",
       "      <td>-80.887223</td>\n",
       "      <td>4.0</td>\n",
       "      <td>{'BusinessAcceptsBitcoin': 'False', 'ByAppoint...</td>\n",
       "      <td>Plumbing, Shopping, Local Services, Home Servi...</td>\n",
       "    </tr>\n",
       "    <tr>\n",
       "      <th>5</th>\n",
       "      <td>68dUKd8_8liJ7in4aWOSEA</td>\n",
       "      <td>The UPS Store</td>\n",
       "      <td>Credit Valley Town Plaza, F2 - 6045 Creditview Rd</td>\n",
       "      <td>Mississauga</td>\n",
       "      <td>ON</td>\n",
       "      <td>L5V 0B1</td>\n",
       "      <td>43.599475</td>\n",
       "      <td>-79.711584</td>\n",
       "      <td>2.5</td>\n",
       "      <td>{'BusinessParking': '{'garage': False, 'street...</td>\n",
       "      <td>Shipping Centers, Couriers &amp; Delivery Services...</td>\n",
       "    </tr>\n",
       "  </tbody>\n",
       "</table>\n",
       "</div>"
      ],
      "text/plain": [
       "              business_id                             name  \\\n",
       "1  QXAEGFB4oINsVuTFxEYKFQ       Emerald Chinese Restaurant   \n",
       "2  gnKjwL_1w79qoiV3IC_xQQ      Musashi Japanese Restaurant   \n",
       "3  xvX2CttrVhyG2z1dFg_0xw  Farmers Insurance - Paul Lorenz   \n",
       "4  HhyxOkGAM07SRYtlQ4wMFQ              Queen City Plumbing   \n",
       "5  68dUKd8_8liJ7in4aWOSEA                    The UPS Store   \n",
       "\n",
       "                                             address         city state  \\\n",
       "1                               30 Eglinton Avenue W  Mississauga    ON   \n",
       "2                          10110 Johnston Rd, Ste 15    Charlotte    NC   \n",
       "3                      15655 W Roosevelt St, Ste 237     Goodyear    AZ   \n",
       "4                     4209 Stuart Andrew Blvd, Ste F    Charlotte    NC   \n",
       "5  Credit Valley Town Plaza, F2 - 6045 Creditview Rd  Mississauga    ON   \n",
       "\n",
       "  postal_code   latitude   longitude  stars  \\\n",
       "1     L5R 3E7  43.605499  -79.652289    2.5   \n",
       "2       28210  35.092564  -80.859132    4.0   \n",
       "3       85338  33.455613 -112.395596    5.0   \n",
       "4       28217  35.190012  -80.887223    4.0   \n",
       "5     L5V 0B1  43.599475  -79.711584    2.5   \n",
       "\n",
       "                                          attributes  \\\n",
       "1  {'RestaurantsReservations': 'True', 'GoodForMe...   \n",
       "2  {'GoodForKids': 'True', 'NoiseLevel': 'u'avera...   \n",
       "3                                               None   \n",
       "4  {'BusinessAcceptsBitcoin': 'False', 'ByAppoint...   \n",
       "5  {'BusinessParking': '{'garage': False, 'street...   \n",
       "\n",
       "                                          categories  \n",
       "1  Specialty Food, Restaurants, Dim Sum, Imported...  \n",
       "2                  Sushi Bars, Restaurants, Japanese  \n",
       "3                      Insurance, Financial Services  \n",
       "4  Plumbing, Shopping, Local Services, Home Servi...  \n",
       "5  Shipping Centers, Couriers & Delivery Services...  "
      ]
     },
     "execution_count": 4,
     "metadata": {},
     "output_type": "execute_result"
    }
   ],
   "source": [
    "# Keep only business that are still open\n",
    "# Drop columns that may not be relavent\n",
    "df_business = business[business['is_open']==1].drop(['hours','is_open','review_count'], axis=1)\n",
    "print(df_business.shape)\n",
    "df_business.head()"
   ]
  },
  {
   "cell_type": "markdown",
   "metadata": {},
   "source": [
    "### Find relevant categories\n",
    "\n",
    "One way to split the reviews is by category"
   ]
  },
  {
   "cell_type": "code",
   "execution_count": 7,
   "metadata": {},
   "outputs": [
    {
     "data": {
      "text/html": [
       "<div>\n",
       "<style scoped>\n",
       "    .dataframe tbody tr th:only-of-type {\n",
       "        vertical-align: middle;\n",
       "    }\n",
       "\n",
       "    .dataframe tbody tr th {\n",
       "        vertical-align: top;\n",
       "    }\n",
       "\n",
       "    .dataframe thead th {\n",
       "        text-align: right;\n",
       "    }\n",
       "</style>\n",
       "<table border=\"1\" class=\"dataframe\">\n",
       "  <thead>\n",
       "    <tr style=\"text-align: right;\">\n",
       "      <th></th>\n",
       "      <th>business_id</th>\n",
       "      <th>name</th>\n",
       "      <th>address</th>\n",
       "      <th>city</th>\n",
       "      <th>state</th>\n",
       "      <th>postal_code</th>\n",
       "      <th>latitude</th>\n",
       "      <th>longitude</th>\n",
       "      <th>stars</th>\n",
       "      <th>attributes</th>\n",
       "      <th>categories</th>\n",
       "    </tr>\n",
       "  </thead>\n",
       "  <tbody>\n",
       "    <tr>\n",
       "      <th>161086</th>\n",
       "      <td>6u0rUgAS7PfjFTx5jHFGog</td>\n",
       "      <td>Panera Bread</td>\n",
       "      <td>14035 E Independence Expy</td>\n",
       "      <td>Indian Trail</td>\n",
       "      <td>NC</td>\n",
       "      <td>28079</td>\n",
       "      <td>35.078224</td>\n",
       "      <td>-80.653957</td>\n",
       "      <td>2.5</td>\n",
       "      <td>{'RestaurantsGoodForGroups': 'True', 'GoodForK...</td>\n",
       "      <td>Soup</td>\n",
       "    </tr>\n",
       "    <tr>\n",
       "      <th>26653</th>\n",
       "      <td>35JoA_jX8eoenORiOVwe9Q</td>\n",
       "      <td>Southwestern Eye Center</td>\n",
       "      <td>5251 W Campbell Ave, Ste 102</td>\n",
       "      <td>Phoenix</td>\n",
       "      <td>AZ</td>\n",
       "      <td>85031</td>\n",
       "      <td>33.501887</td>\n",
       "      <td>-112.172220</td>\n",
       "      <td>5.0</td>\n",
       "      <td>{'BusinessParking': '{'garage': False, 'street...</td>\n",
       "      <td>Shopping</td>\n",
       "    </tr>\n",
       "    <tr>\n",
       "      <th>86822</th>\n",
       "      <td>CW2RlvudJ1Q18_dzett5KA</td>\n",
       "      <td>Atomic Air</td>\n",
       "      <td>3570 W Dewey Dr</td>\n",
       "      <td>Las Vegas</td>\n",
       "      <td>NV</td>\n",
       "      <td>89118</td>\n",
       "      <td>36.231208</td>\n",
       "      <td>-115.215509</td>\n",
       "      <td>5.0</td>\n",
       "      <td>{'BusinessAcceptsCreditCards': 'True'}</td>\n",
       "      <td>Heating &amp; Air Conditioning/HVAC</td>\n",
       "    </tr>\n",
       "  </tbody>\n",
       "</table>\n",
       "</div>"
      ],
      "text/plain": [
       "                   business_id                     name  \\\n",
       "161086  6u0rUgAS7PfjFTx5jHFGog             Panera Bread   \n",
       "26653   35JoA_jX8eoenORiOVwe9Q  Southwestern Eye Center   \n",
       "86822   CW2RlvudJ1Q18_dzett5KA               Atomic Air   \n",
       "\n",
       "                             address          city state postal_code  \\\n",
       "161086     14035 E Independence Expy  Indian Trail    NC       28079   \n",
       "26653   5251 W Campbell Ave, Ste 102       Phoenix    AZ       85031   \n",
       "86822                3570 W Dewey Dr     Las Vegas    NV       89118   \n",
       "\n",
       "         latitude   longitude  stars  \\\n",
       "161086  35.078224  -80.653957    2.5   \n",
       "26653   33.501887 -112.172220    5.0   \n",
       "86822   36.231208 -115.215509    5.0   \n",
       "\n",
       "                                               attributes  \\\n",
       "161086  {'RestaurantsGoodForGroups': 'True', 'GoodForK...   \n",
       "26653   {'BusinessParking': '{'garage': False, 'street...   \n",
       "86822              {'BusinessAcceptsCreditCards': 'True'}   \n",
       "\n",
       "                             categories  \n",
       "161086                             Soup  \n",
       "26653                          Shopping  \n",
       "86822   Heating & Air Conditioning/HVAC  "
      ]
     },
     "execution_count": 7,
     "metadata": {},
     "output_type": "execute_result"
    }
   ],
   "source": [
    "# df.explode requires pandas ver 0.25\n",
    "# Create one row for each series that contain comma-separated items\n",
    "df_explode = df_business.assign(categories = df_business.categories.str.split(', ')).explode('categories')\n",
    "df_explode.sample(3)"
   ]
  },
  {
   "cell_type": "code",
   "execution_count": 11,
   "metadata": {},
   "outputs": [
    {
     "name": "stdout",
     "output_type": "stream",
     "text": [
      "Total number of categories: 1290\n",
      "Top 10 categories:\n"
     ]
    },
    {
     "data": {
      "text/plain": [
       "Restaurants                  42237\n",
       "Shopping                     26734\n",
       "Food                         23208\n",
       "Home Services                18455\n",
       "Beauty & Spas                16545\n",
       "Health & Medical             15875\n",
       "Local Services               12830\n",
       "Automotive                   11955\n",
       "Nightlife                     9396\n",
       "Event Planning & Services     8960\n",
       "Name: categories, dtype: int64"
      ]
     },
     "execution_count": 11,
     "metadata": {},
     "output_type": "execute_result"
    }
   ],
   "source": [
    "print('Total number of categories:', len(df_explode.categories.value_counts()))\n",
    "print('Top 10 categories:')\n",
    "df_explode.categories.value_counts()[:10]"
   ]
  },
  {
   "cell_type": "code",
   "execution_count": 13,
   "metadata": {},
   "outputs": [
    {
     "data": {
      "text/plain": [
       "RV Repair     146\n",
       "RV Dealers    123\n",
       "RV Rental      81\n",
       "RV Parks       60\n",
       "Name: categories, dtype: int64"
      ]
     },
     "execution_count": 13,
     "metadata": {},
     "output_type": "execute_result"
    }
   ],
   "source": [
    "# Finding categories that contains RV\n",
    "df_explode[df_explode['categories'].str.contains('RV', case=True, na=False)].categories.value_counts()"
   ]
  },
  {
   "cell_type": "code",
   "execution_count": 7,
   "metadata": {},
   "outputs": [
    {
     "name": "stdout",
     "output_type": "stream",
     "text": [
      "(320, 11)\n"
     ]
    },
    {
     "data": {
      "text/html": [
       "<div>\n",
       "<style scoped>\n",
       "    .dataframe tbody tr th:only-of-type {\n",
       "        vertical-align: middle;\n",
       "    }\n",
       "\n",
       "    .dataframe tbody tr th {\n",
       "        vertical-align: top;\n",
       "    }\n",
       "\n",
       "    .dataframe thead th {\n",
       "        text-align: right;\n",
       "    }\n",
       "</style>\n",
       "<table border=\"1\" class=\"dataframe\">\n",
       "  <thead>\n",
       "    <tr style=\"text-align: right;\">\n",
       "      <th></th>\n",
       "      <th>business_id</th>\n",
       "      <th>name</th>\n",
       "      <th>address</th>\n",
       "      <th>city</th>\n",
       "      <th>state</th>\n",
       "      <th>postal_code</th>\n",
       "      <th>latitude</th>\n",
       "      <th>longitude</th>\n",
       "      <th>stars</th>\n",
       "      <th>attributes</th>\n",
       "      <th>categories</th>\n",
       "    </tr>\n",
       "  </thead>\n",
       "  <tbody>\n",
       "    <tr>\n",
       "      <th>1143</th>\n",
       "      <td>q0B39iv1bs16PO--eiMfIw</td>\n",
       "      <td>Hobo Camper Country</td>\n",
       "      <td>4020 Edmonton Trail NE</td>\n",
       "      <td>Calgary</td>\n",
       "      <td>AB</td>\n",
       "      <td>T2E 3P6</td>\n",
       "      <td>51.088523</td>\n",
       "      <td>-114.051507</td>\n",
       "      <td>1.5</td>\n",
       "      <td>None</td>\n",
       "      <td>RV Repair, Auto Repair, Automotive</td>\n",
       "    </tr>\n",
       "    <tr>\n",
       "      <th>1458</th>\n",
       "      <td>SW_bePWPlMZJZGQ4eT9vrA</td>\n",
       "      <td>E's RV Appliance Repair</td>\n",
       "      <td>1959 S Power Rd, Ste 103-238</td>\n",
       "      <td>Mesa</td>\n",
       "      <td>AZ</td>\n",
       "      <td>85206</td>\n",
       "      <td>33.379981</td>\n",
       "      <td>-111.687220</td>\n",
       "      <td>5.0</td>\n",
       "      <td>{'ByAppointmentOnly': 'True', 'BusinessAccepts...</td>\n",
       "      <td>Automotive, Water Heater Installation/Repair, ...</td>\n",
       "    </tr>\n",
       "    <tr>\n",
       "      <th>2292</th>\n",
       "      <td>4mIyRDV4a1krLYC7Nfn_DQ</td>\n",
       "      <td>Montréal Sud KOA</td>\n",
       "      <td>130 Montée Monette</td>\n",
       "      <td>Saint-Philippe</td>\n",
       "      <td>QC</td>\n",
       "      <td>J0L 2K0</td>\n",
       "      <td>45.346753</td>\n",
       "      <td>-73.489582</td>\n",
       "      <td>3.5</td>\n",
       "      <td>None</td>\n",
       "      <td>Campgrounds, Hotels &amp; Travel, RV Parks, Event ...</td>\n",
       "    </tr>\n",
       "    <tr>\n",
       "      <th>3180</th>\n",
       "      <td>AtIyt5nYQ_eLPdOnLukmXQ</td>\n",
       "      <td>Mini Self Storage Stephanie</td>\n",
       "      <td>5280 Stephanie St</td>\n",
       "      <td>Las Vegas</td>\n",
       "      <td>NV</td>\n",
       "      <td>89122</td>\n",
       "      <td>36.093833</td>\n",
       "      <td>-115.045345</td>\n",
       "      <td>4.0</td>\n",
       "      <td>{'BusinessAcceptsCreditCards': 'True'}</td>\n",
       "      <td>Local Services, RV Parks, Self Storage, Hotels...</td>\n",
       "    </tr>\n",
       "    <tr>\n",
       "      <th>3482</th>\n",
       "      <td>4Yj5O3Jl3w9tcw844fEzoQ</td>\n",
       "      <td>Latham RV Phoenix</td>\n",
       "      <td>1039 E Broadway Rd</td>\n",
       "      <td>Mesa</td>\n",
       "      <td>AZ</td>\n",
       "      <td>85204</td>\n",
       "      <td>33.399033</td>\n",
       "      <td>-111.797238</td>\n",
       "      <td>2.5</td>\n",
       "      <td>None</td>\n",
       "      <td>Hotels &amp; Travel, RV Dealers, Active Life, RV R...</td>\n",
       "    </tr>\n",
       "  </tbody>\n",
       "</table>\n",
       "</div>"
      ],
      "text/plain": [
       "                 business_id                         name  \\\n",
       "1143  q0B39iv1bs16PO--eiMfIw          Hobo Camper Country   \n",
       "1458  SW_bePWPlMZJZGQ4eT9vrA      E's RV Appliance Repair   \n",
       "2292  4mIyRDV4a1krLYC7Nfn_DQ             Montréal Sud KOA   \n",
       "3180  AtIyt5nYQ_eLPdOnLukmXQ  Mini Self Storage Stephanie   \n",
       "3482  4Yj5O3Jl3w9tcw844fEzoQ            Latham RV Phoenix   \n",
       "\n",
       "                           address            city state postal_code  \\\n",
       "1143        4020 Edmonton Trail NE         Calgary    AB     T2E 3P6   \n",
       "1458  1959 S Power Rd, Ste 103-238            Mesa    AZ       85206   \n",
       "2292            130 Montée Monette  Saint-Philippe    QC     J0L 2K0   \n",
       "3180             5280 Stephanie St       Las Vegas    NV       89122   \n",
       "3482            1039 E Broadway Rd            Mesa    AZ       85204   \n",
       "\n",
       "       latitude   longitude  stars  \\\n",
       "1143  51.088523 -114.051507    1.5   \n",
       "1458  33.379981 -111.687220    5.0   \n",
       "2292  45.346753  -73.489582    3.5   \n",
       "3180  36.093833 -115.045345    4.0   \n",
       "3482  33.399033 -111.797238    2.5   \n",
       "\n",
       "                                             attributes  \\\n",
       "1143                                               None   \n",
       "1458  {'ByAppointmentOnly': 'True', 'BusinessAccepts...   \n",
       "2292                                               None   \n",
       "3180             {'BusinessAcceptsCreditCards': 'True'}   \n",
       "3482                                               None   \n",
       "\n",
       "                                             categories  \n",
       "1143                 RV Repair, Auto Repair, Automotive  \n",
       "1458  Automotive, Water Heater Installation/Repair, ...  \n",
       "2292  Campgrounds, Hotels & Travel, RV Parks, Event ...  \n",
       "3180  Local Services, RV Parks, Self Storage, Hotels...  \n",
       "3482  Hotels & Travel, RV Dealers, Active Life, RV R...  "
      ]
     },
     "execution_count": 7,
     "metadata": {},
     "output_type": "execute_result"
    }
   ],
   "source": [
    "# Keep only business with categories that are RV related (including Campgrounds)\n",
    "business_RV = df_business[df_business['categories'].str.contains(\n",
    "                         'RV Repair|RV Dealers|RV Rental|RV Parks|Campgrounds', case=False, na=False)]\n",
    "print(business_RV.shape)\n",
    "business_RV.head()"
   ]
  },
  {
   "cell_type": "markdown",
   "metadata": {},
   "source": [
    "### Loading Massive file as chunks in Pandas\n",
    "\n",
    "With a huge file like yelp dataset, loading all the data at once will most likely crash your computer.\n",
    "\n",
    "Luckily, pandas has an option to load large data by segmenting the file into smaller chunks."
   ]
  },
  {
   "cell_type": "code",
   "execution_count": 2,
   "metadata": {},
   "outputs": [],
   "source": [
    "# Set up your local path\n",
    "review_json_path = '../data/yelp_dataset/yelp_academic_dataset_review.json'"
   ]
  },
  {
   "cell_type": "code",
   "execution_count": 3,
   "metadata": {},
   "outputs": [],
   "source": [
    "import pandas as pd\n",
    "\n",
    "# Set chunk size (smaller if dataset is smaller)\n",
    "# 2019 Yelp review.json has more than 6 million reviews(rows)\n",
    "size = 100000\n",
    "review = pd.read_json(review_json_path, lines=True,\n",
    "                      # identifying the data type of each column can reduce memory usage\n",
    "                      dtype={'review_id':str,'user_id':str,'business_id':str,'stars':int,\n",
    "                             'date':str,'text':str,'useful':int,'funny':int,'cool':int},\n",
    "                      chunksize=size)"
   ]
  },
  {
   "cell_type": "markdown",
   "metadata": {},
   "source": [
    "### Merge Review.json and Business.json file\n",
    "\n",
    "By merging only the relevant businesses to the review file, the final dataset will only consist of reviews from those businesses"
   ]
  },
  {
   "cell_type": "code",
   "execution_count": 6,
   "metadata": {},
   "outputs": [],
   "source": [
    "from tqdm import tqdm"
   ]
  },
  {
   "cell_type": "code",
   "execution_count": 7,
   "metadata": {},
   "outputs": [
    {
     "name": "stderr",
     "output_type": "stream",
     "text": [
      "0it [00:00, ?it/s]"
     ]
    },
    {
     "name": "stdout",
     "output_type": "stream",
     "text": [
      "                    review_id                 user_id             business_id  \\\n",
      "0      KU_O5udG6zpxOg-VcAEodg  mh_-eMZ6K5RLWhZyISBhwA  XQfwVwDr-v0ZS3_CbbE5Xw   \n",
      "1      BiTunyQ73aT9WBnpR9DZGw  OyoGAe7OKpv6SyGZT5g77Q  7ATYjTIgM3jUlt4UM3IypQ   \n",
      "2      saUsX_uimxRlCVr67Z4Jig  8g_iMtfSiwikVnbP2etR0A  YjUWPpI6HXG530lwP-fb2A   \n",
      "3      AqPFMleE6RsU23_auESxiA  _7bHUi9Uuf5__HHc_Q8guQ  kxX2SOes4o-D3ZQBkiMRfA   \n",
      "4      Sx8TMOWLNuJBWer-0pcmoA  bcjbaE6dDog4jkNY91ncLQ  e4Vwtrqf-wpJfwesgvdgxQ   \n",
      "...                       ...                     ...                     ...   \n",
      "99995  pAEbIxvr6ebx2bHc1XvguA  SMH5CeiLvKx61lKwtLZ_PA  lV0k3BnslFRkuWD_kbKd0Q   \n",
      "99996  xH1AoE-4nf2ECGQJRjO4_g  2clTdtp-BjphxLjN83CpUA  G0xz3kyRhRi6oZl7KfR0pA   \n",
      "99997  GatIbXTz-WDru5emONUSIg  MRrN6DH3QGCFcDv5RENYVg  C4lZdhasjZVQyDlOiXY1sA   \n",
      "99998  6NfkodAdhvI89xONXuBC3A  rnNQzeKJbvqVCsYsL10mkQ  dChRGpit9fM_kZK5pafNyA   \n",
      "99999  sJ1BMq7lkKgOWEFx3n6ZRw  _BcWyKQL16ndpBdggh2kNA  hMcgO98QaOFmQVTfCUeGzw   \n",
      "\n",
      "       stars  useful  funny  cool  \\\n",
      "0          3       0      0     0   \n",
      "1          5       1      0     1   \n",
      "2          3       0      0     0   \n",
      "3          5       1      0     1   \n",
      "4          4       1      0     1   \n",
      "...      ...     ...    ...   ...   \n",
      "99995      4       0      0     0   \n",
      "99996      1       1      0     0   \n",
      "99997      4       0      0     0   \n",
      "99998      2       0      0     0   \n",
      "99999      5       0      0     0   \n",
      "\n",
      "                                                    text                 date  \n",
      "0      If you decide to eat here, just be aware it is...  2018-07-07 22:09:11  \n",
      "1      I've taken a lot of spin classes over the year...  2012-01-03 15:28:18  \n",
      "2      Family diner. Had the buffet. Eclectic assortm...  2014-02-05 20:30:30  \n",
      "3      Wow!  Yummy, different,  delicious.   Our favo...  2015-01-04 00:01:03  \n",
      "4      Cute interior and owner (?) gave us tour of up...  2017-01-14 20:54:15  \n",
      "...                                                  ...                  ...  \n",
      "99995  Came here for lunch with a group. They were bu...  2018-05-30 22:28:56  \n",
      "99996  The equipment is so old and so felty! I just u...  2015-04-05 23:31:52  \n",
      "99997  This is one of my favorite Mexican restaurants...  2016-06-04 00:59:15  \n",
      "99998  Came here for brunch - had an omlette ($19 + t...  2018-06-11 12:45:08  \n",
      "99999  Came in for my 5-6 month prophy and saw Kara -...  2013-06-06 10:10:33  \n",
      "\n",
      "[100000 rows x 9 columns]\n"
     ]
    },
    {
     "name": "stderr",
     "output_type": "stream",
     "text": [
      "\n"
     ]
    },
    {
     "ename": "NameError",
     "evalue": "name 'chunk_merged' is not defined",
     "output_type": "error",
     "traceback": [
      "\u001b[0;31m---------------------------------------------------------------------------\u001b[0m",
      "\u001b[0;31mNameError\u001b[0m                                 Traceback (most recent call last)",
      "Input \u001b[0;32mIn [7]\u001b[0m, in \u001b[0;36m<module>\u001b[0;34m\u001b[0m\n\u001b[1;32m      8\u001b[0m     chunk \u001b[38;5;241m=\u001b[39m chunk\u001b[38;5;241m.\u001b[39mrename(columns\u001b[38;5;241m=\u001b[39m{\u001b[38;5;124m'\u001b[39m\u001b[38;5;124mstars\u001b[39m\u001b[38;5;124m'\u001b[39m: \u001b[38;5;124m'\u001b[39m\u001b[38;5;124mreview_stars\u001b[39m\u001b[38;5;124m'\u001b[39m})\n\u001b[1;32m      9\u001b[0m     \u001b[38;5;66;03m# Inner merge with edited business file so only reviews related to the business remain\u001b[39;00m\n\u001b[1;32m     10\u001b[0m    \u001b[38;5;66;03m# chunk_merged = pd.merge(business_RV, chunk, on='business_id', how='inner')\u001b[39;00m\n\u001b[1;32m     11\u001b[0m     \u001b[38;5;66;03m# Show feedback on progress\u001b[39;00m\n\u001b[0;32m---> 12\u001b[0m     \u001b[38;5;28mprint\u001b[39m(\u001b[38;5;124mf\u001b[39m\u001b[38;5;124m\"\u001b[39m\u001b[38;5;132;01m{\u001b[39;00mchunk_merged\u001b[38;5;241m.\u001b[39mshape[\u001b[38;5;241m0\u001b[39m]\u001b[38;5;132;01m}\u001b[39;00m\u001b[38;5;124m out of \u001b[39m\u001b[38;5;132;01m{\u001b[39;00msize\u001b[38;5;132;01m:\u001b[39;00m\u001b[38;5;124m,\u001b[39m\u001b[38;5;132;01m}\u001b[39;00m\u001b[38;5;124m related reviews\u001b[39m\u001b[38;5;124m\"\u001b[39m)\n\u001b[1;32m     13\u001b[0m     chunk_list\u001b[38;5;241m.\u001b[39mappend(chunk_merged)\n\u001b[1;32m     15\u001b[0m \u001b[38;5;66;03m# After trimming down the review file, concatenate all relevant data back to one dataframe\u001b[39;00m\n",
      "\u001b[0;31mNameError\u001b[0m: name 'chunk_merged' is not defined"
     ]
    }
   ],
   "source": [
    "# There are multiple chunks to be read\n",
    "chunk_list = []\n",
    "for chunk in tqdm(review):\n",
    "    print(chunk)\n",
    "    # Drop columns that aren't needed\n",
    "    chunk = chunk.drop(['review_id','useful','funny','cool'], axis=1)\n",
    "    # Renaming column name to avoid conflict with business overall star rating\n",
    "    chunk = chunk.rename(columns={'stars': 'review_stars'})\n",
    "    # Inner merge with edited business file so only reviews related to the business remain\n",
    "   # chunk_merged = pd.merge(business_RV, chunk, on='business_id', how='inner')\n",
    "    # Show feedback on progress\n",
    "    print(f\"{chunk_merged.shape[0]} out of {size:,} related reviews\")\n",
    "    chunk_list.append(chunk_merged)\n",
    "    \n",
    "# After trimming down the review file, concatenate all relevant data back to one dataframe\n",
    "df = pd.concat(chunk_list, ignore_index=True, join='outer', axis=0)\n",
    "print(df.shape)\n",
    "df.sample(3)"
   ]
  },
  {
   "cell_type": "markdown",
   "metadata": {},
   "source": [
    "### Convert the new dataframe into a CSV file\n",
    "\n",
    "By doing so, the smaller dataset can be loaded and shared much more readily"
   ]
  },
  {
   "cell_type": "code",
   "execution_count": 10,
   "metadata": {},
   "outputs": [],
   "source": [
    "df.to_csv(\"yelp_reviews_RV_categories.csv\", index=False)"
   ]
  }
 ],
 "metadata": {
  "kernelspec": {
   "display_name": "Python 3",
   "language": "python",
   "name": "python3"
  },
  "language_info": {
   "codemirror_mode": {
    "name": "ipython",
    "version": 3
   },
   "file_extension": ".py",
   "mimetype": "text/x-python",
   "name": "python",
   "nbconvert_exporter": "python",
   "pygments_lexer": "ipython3",
   "version": "3.8.13"
  }
 },
 "nbformat": 4,
 "nbformat_minor": 4
}
