{
 "cells": [
  {
   "cell_type": "markdown",
   "id": "b8655333-4f07-4e9b-95c2-139845ac6196",
   "metadata": {
    "id": "b8655333-4f07-4e9b-95c2-139845ac6196"
   },
   "source": [
    "## 2. Data Preparation"
   ]
  },
  {
   "cell_type": "markdown",
   "id": "x6ntpPJY00-0",
   "metadata": {
    "id": "x6ntpPJY00-0"
   },
   "source": [
    "In this part, we clean the Yelp dataset which contains mostly real-word data. That being said, we still need to generate some of the features, like `password` of User but all with reasonable assumptions described.\n",
    "\n",
    "To re-run the code, download the [Yelp Dataset](https://www.yelp.com/dataset/documentation/main) into a folder named \"data\" in the parent level of this file.\n",
    "\n",
    "To access the cleaned data output from this part, we upload the dataframes in pickle format into a [Google Drive](https://drive.google.com/drive/folders/1RvL6q7U1eeMvFVpNyH-dJ1AdkIf_E7l0?usp=sharing)."
   ]
  },
  {
   "cell_type": "code",
   "execution_count": 1,
   "id": "Q9ouISV50zsV",
   "metadata": {
    "id": "Q9ouISV50zsV"
   },
   "outputs": [],
   "source": [
    "import pickle\n",
    "pickle.HIGHEST_PROTOCOL = 4\n",
    "import pandas as pd\n",
    "import numpy as np\n",
    "import random, string\n",
    "from tqdm import tqdm\n",
    "from datetime import datetime"
   ]
  },
  {
   "cell_type": "markdown",
   "id": "78c42c30-e35d-4497-acf4-1dd91b21b12d",
   "metadata": {
    "id": "78c42c30-e35d-4497-acf4-1dd91b21b12d"
   },
   "source": [
    "### 2.1 Entity"
   ]
  },
  {
   "cell_type": "markdown",
   "id": "deed236b-6e44-4fe3-b388-1f1dd66eae5b",
   "metadata": {
    "id": "deed236b-6e44-4fe3-b388-1f1dd66eae5b",
    "tags": []
   },
   "source": [
    "#### Business"
   ]
  },
  {
   "cell_type": "code",
   "execution_count": 2,
   "id": "493b55f3-1540-4e7f-8e24-91fdf1026330",
   "metadata": {
    "id": "493b55f3-1540-4e7f-8e24-91fdf1026330"
   },
   "outputs": [],
   "source": [
    "business = pd.read_json(\"../data/yelp_dataset/yelp_academic_dataset_business.json\", lines=True)"
   ]
  },
  {
   "cell_type": "code",
   "execution_count": 3,
   "id": "2d026f50-9f61-489c-b12c-a07ce209574f",
   "metadata": {
    "id": "2d026f50-9f61-489c-b12c-a07ce209574f"
   },
   "outputs": [],
   "source": [
    "# Only include restaurant of main category\n",
    "business_category = business[['business_id', 'categories']]\n",
    "business_category = business_category.assign(category = business.categories.str.split(', ')).explode('category').drop('categories', axis=1)\n",
    "MAIN_FOOD_CATEGORIES = \"\"\"Bars\n",
    "Sandwiches\n",
    "Fast Food\n",
    "Pizza\n",
    "Coffee & Tea\n",
    "Breakfast & Brunch\n",
    "Burgers\n",
    "Mexican\n",
    "Specialty Food\n",
    "Italian\n",
    "Seafood\n",
    "Chicken Wings\n",
    "Chinese\n",
    "Salad\n",
    "Bakeries\n",
    "Cafes\"\"\".split('\\n')\n",
    "business_category = business_category[business_category.category.isin(MAIN_FOOD_CATEGORIES)]\n",
    "business = business.merge(business_category[['business_id']].drop_duplicates(),\n",
    "                          on=\"business_id\",\n",
    "                          how=\"inner\").drop(['categories'], axis=1)\n",
    "\n",
    "# Select N_USER business with moderate amount of reviews\n",
    "## Note: We finished the data cleaning pipeline, but for the purpose of this homework, we only includes 100 restaurant and 200 users that has wrote reviews on them!\n",
    "## For project 1 part 3, we will request more resources to allow us populate the whole dataset ^.^\n",
    "N_BUSINESS = 100\n",
    "business = business[(business['review_count'] >= business['review_count'].quantile(.25)) & \n",
    "                    (business['review_count'] <= business['review_count'].quantile(.75))].sample(n=N_BUSINESS, random_state=4111)\n",
    "business = business.drop(['review_count', 'stars', 'hours'], axis=1).reset_index(drop=True)\n",
    "\n",
    "# Extract whether allow takeout information\n",
    "attribute_values = ['False' if attributes is None else attributes.get('RestaurantsTakeOut') for attributes in business.attributes]\n",
    "business['is_takeout'] =  ['False' if value is None or value == 'None' else value for value in attribute_values]\n",
    "business['is_open'] = business['is_open'].astype(bool)\n",
    "business = business.drop('attributes', axis=1)"
   ]
  },
  {
   "cell_type": "code",
   "execution_count": 4,
   "id": "9df66521-add3-42bd-9bfc-2ce6a8c3b477",
   "metadata": {
    "id": "9df66521-add3-42bd-9bfc-2ce6a8c3b477",
    "outputId": "c300c6d1-e5e3-4dcf-d24a-1c214547f679"
   },
   "outputs": [
    {
     "data": {
      "text/html": [
       "<div>\n",
       "<style scoped>\n",
       "    .dataframe tbody tr th:only-of-type {\n",
       "        vertical-align: middle;\n",
       "    }\n",
       "\n",
       "    .dataframe tbody tr th {\n",
       "        vertical-align: top;\n",
       "    }\n",
       "\n",
       "    .dataframe thead th {\n",
       "        text-align: right;\n",
       "    }\n",
       "</style>\n",
       "<table border=\"1\" class=\"dataframe\">\n",
       "  <thead>\n",
       "    <tr style=\"text-align: right;\">\n",
       "      <th></th>\n",
       "      <th>business_id</th>\n",
       "      <th>name</th>\n",
       "      <th>address</th>\n",
       "      <th>city</th>\n",
       "      <th>state</th>\n",
       "      <th>postal_code</th>\n",
       "      <th>latitude</th>\n",
       "      <th>longitude</th>\n",
       "      <th>is_open</th>\n",
       "      <th>is_takeout</th>\n",
       "    </tr>\n",
       "  </thead>\n",
       "  <tbody>\n",
       "    <tr>\n",
       "      <th>0</th>\n",
       "      <td>2gTQ0X9iRTs5zIKs97IWOA</td>\n",
       "      <td>Wayback Burgers</td>\n",
       "      <td>200 West Alexander St</td>\n",
       "      <td>Plant City</td>\n",
       "      <td>FL</td>\n",
       "      <td>33563</td>\n",
       "      <td>27.989818</td>\n",
       "      <td>-82.122716</td>\n",
       "      <td>True</td>\n",
       "      <td>True</td>\n",
       "    </tr>\n",
       "    <tr>\n",
       "      <th>1</th>\n",
       "      <td>TlaXeIvS_0yQhjWTLHCLSA</td>\n",
       "      <td>Sciarrinos Pizza</td>\n",
       "      <td>2310 Carpenter Station Rd</td>\n",
       "      <td>Wilmington</td>\n",
       "      <td>DE</td>\n",
       "      <td>19810</td>\n",
       "      <td>39.818019</td>\n",
       "      <td>-75.466534</td>\n",
       "      <td>True</td>\n",
       "      <td>True</td>\n",
       "    </tr>\n",
       "    <tr>\n",
       "      <th>2</th>\n",
       "      <td>sBRKxVbRBmeXY9mVwliqYw</td>\n",
       "      <td>Someone's in the Kitchen</td>\n",
       "      <td>109 Walton Ferry Rd</td>\n",
       "      <td>Hendersonville</td>\n",
       "      <td>TN</td>\n",
       "      <td>37075</td>\n",
       "      <td>36.303316</td>\n",
       "      <td>-86.619735</td>\n",
       "      <td>True</td>\n",
       "      <td>True</td>\n",
       "    </tr>\n",
       "    <tr>\n",
       "      <th>3</th>\n",
       "      <td>KfBpr_NoldM9w0CugY32ow</td>\n",
       "      <td>Wawa</td>\n",
       "      <td>2177 Gulf To Bay Blvd</td>\n",
       "      <td>Clearwater</td>\n",
       "      <td>FL</td>\n",
       "      <td>33765</td>\n",
       "      <td>27.959926</td>\n",
       "      <td>-82.747455</td>\n",
       "      <td>True</td>\n",
       "      <td>True</td>\n",
       "    </tr>\n",
       "    <tr>\n",
       "      <th>4</th>\n",
       "      <td>t24_JnNptChMXityiA6mgQ</td>\n",
       "      <td>Forest Hills Brick Oven Pizza</td>\n",
       "      <td>905 W Linebaugh Ave</td>\n",
       "      <td>Tampa</td>\n",
       "      <td>FL</td>\n",
       "      <td>33612</td>\n",
       "      <td>28.040184</td>\n",
       "      <td>-82.468059</td>\n",
       "      <td>True</td>\n",
       "      <td>True</td>\n",
       "    </tr>\n",
       "  </tbody>\n",
       "</table>\n",
       "</div>"
      ],
      "text/plain": [
       "              business_id                           name  \\\n",
       "0  2gTQ0X9iRTs5zIKs97IWOA                Wayback Burgers   \n",
       "1  TlaXeIvS_0yQhjWTLHCLSA               Sciarrinos Pizza   \n",
       "2  sBRKxVbRBmeXY9mVwliqYw       Someone's in the Kitchen   \n",
       "3  KfBpr_NoldM9w0CugY32ow                           Wawa   \n",
       "4  t24_JnNptChMXityiA6mgQ  Forest Hills Brick Oven Pizza   \n",
       "\n",
       "                     address            city state postal_code   latitude  \\\n",
       "0      200 West Alexander St      Plant City    FL       33563  27.989818   \n",
       "1  2310 Carpenter Station Rd      Wilmington    DE       19810  39.818019   \n",
       "2        109 Walton Ferry Rd  Hendersonville    TN       37075  36.303316   \n",
       "3      2177 Gulf To Bay Blvd      Clearwater    FL       33765  27.959926   \n",
       "4        905 W Linebaugh Ave           Tampa    FL       33612  28.040184   \n",
       "\n",
       "   longitude  is_open is_takeout  \n",
       "0 -82.122716     True       True  \n",
       "1 -75.466534     True       True  \n",
       "2 -86.619735     True       True  \n",
       "3 -82.747455     True       True  \n",
       "4 -82.468059     True       True  "
      ]
     },
     "execution_count": 4,
     "metadata": {},
     "output_type": "execute_result"
    }
   ],
   "source": [
    "business.head(5)"
   ]
  },
  {
   "cell_type": "code",
   "execution_count": 5,
   "id": "3461aeb6-a281-409d-a14c-b246c0d5aa17",
   "metadata": {
    "id": "3461aeb6-a281-409d-a14c-b246c0d5aa17"
   },
   "outputs": [],
   "source": [
    "business.to_pickle('data/Business.pickle')"
   ]
  },
  {
   "cell_type": "markdown",
   "id": "794ae636-9b07-4fe1-951a-7569e3114c91",
   "metadata": {
    "id": "794ae636-9b07-4fe1-951a-7569e3114c91"
   },
   "source": [
    "##### Business_tagged_Category"
   ]
  },
  {
   "cell_type": "code",
   "execution_count": 6,
   "id": "3f6240db-1ec7-4e2e-a3b7-6caf85eeddab",
   "metadata": {
    "id": "3f6240db-1ec7-4e2e-a3b7-6caf85eeddab"
   },
   "outputs": [],
   "source": [
    "business_category = business_category.merge(business[['business_id']],\n",
    "                                            on=\"business_id\",\n",
    "                                            how=\"inner\")"
   ]
  },
  {
   "cell_type": "code",
   "execution_count": 7,
   "id": "8c8a340a-28c5-4e28-8b47-471d5b625c64",
   "metadata": {
    "id": "8c8a340a-28c5-4e28-8b47-471d5b625c64",
    "outputId": "8306a959-5484-4f39-abf3-472c713d54e3"
   },
   "outputs": [
    {
     "data": {
      "text/html": [
       "<div>\n",
       "<style scoped>\n",
       "    .dataframe tbody tr th:only-of-type {\n",
       "        vertical-align: middle;\n",
       "    }\n",
       "\n",
       "    .dataframe tbody tr th {\n",
       "        vertical-align: top;\n",
       "    }\n",
       "\n",
       "    .dataframe thead th {\n",
       "        text-align: right;\n",
       "    }\n",
       "</style>\n",
       "<table border=\"1\" class=\"dataframe\">\n",
       "  <thead>\n",
       "    <tr style=\"text-align: right;\">\n",
       "      <th></th>\n",
       "      <th>business_id</th>\n",
       "      <th>category</th>\n",
       "    </tr>\n",
       "  </thead>\n",
       "  <tbody>\n",
       "    <tr>\n",
       "      <th>0</th>\n",
       "      <td>TEP-73fGvgSUmtQFaOTA_g</td>\n",
       "      <td>Burgers</td>\n",
       "    </tr>\n",
       "    <tr>\n",
       "      <th>1</th>\n",
       "      <td>L0-MS0MbQhEWAPLkjCqhpg</td>\n",
       "      <td>Mexican</td>\n",
       "    </tr>\n",
       "    <tr>\n",
       "      <th>2</th>\n",
       "      <td>L0-MS0MbQhEWAPLkjCqhpg</td>\n",
       "      <td>Seafood</td>\n",
       "    </tr>\n",
       "    <tr>\n",
       "      <th>3</th>\n",
       "      <td>L0-MS0MbQhEWAPLkjCqhpg</td>\n",
       "      <td>Burgers</td>\n",
       "    </tr>\n",
       "    <tr>\n",
       "      <th>4</th>\n",
       "      <td>NKplFLr1UebQxMLQAxALPQ</td>\n",
       "      <td>Pizza</td>\n",
       "    </tr>\n",
       "  </tbody>\n",
       "</table>\n",
       "</div>"
      ],
      "text/plain": [
       "              business_id category\n",
       "0  TEP-73fGvgSUmtQFaOTA_g  Burgers\n",
       "1  L0-MS0MbQhEWAPLkjCqhpg  Mexican\n",
       "2  L0-MS0MbQhEWAPLkjCqhpg  Seafood\n",
       "3  L0-MS0MbQhEWAPLkjCqhpg  Burgers\n",
       "4  NKplFLr1UebQxMLQAxALPQ    Pizza"
      ]
     },
     "execution_count": 7,
     "metadata": {},
     "output_type": "execute_result"
    }
   ],
   "source": [
    "business_category.head(5)"
   ]
  },
  {
   "cell_type": "code",
   "execution_count": 8,
   "id": "f81aa6e6-dd6c-4654-a7ea-6827072a472d",
   "metadata": {
    "id": "f81aa6e6-dd6c-4654-a7ea-6827072a472d"
   },
   "outputs": [],
   "source": [
    "business_category.to_pickle('data/Business_tagged_Category.pickle')"
   ]
  },
  {
   "cell_type": "markdown",
   "id": "140e23af-bdff-49d1-8e23-f1e9117deca1",
   "metadata": {
    "id": "140e23af-bdff-49d1-8e23-f1e9117deca1",
    "tags": []
   },
   "source": [
    "#### Category"
   ]
  },
  {
   "cell_type": "code",
   "execution_count": 9,
   "id": "e6b106e2-2b3c-4f3a-a16c-c5485a71b908",
   "metadata": {
    "id": "e6b106e2-2b3c-4f3a-a16c-c5485a71b908"
   },
   "outputs": [],
   "source": [
    "category = pd.DataFrame({'name': MAIN_FOOD_CATEGORIES})"
   ]
  },
  {
   "cell_type": "code",
   "execution_count": 10,
   "id": "ef3bbf02-c34a-4db0-b0e0-c63be9eaea25",
   "metadata": {
    "id": "ef3bbf02-c34a-4db0-b0e0-c63be9eaea25",
    "outputId": "5a1b36d0-7964-4acf-dddc-43a979ec8b1a"
   },
   "outputs": [
    {
     "data": {
      "text/html": [
       "<div>\n",
       "<style scoped>\n",
       "    .dataframe tbody tr th:only-of-type {\n",
       "        vertical-align: middle;\n",
       "    }\n",
       "\n",
       "    .dataframe tbody tr th {\n",
       "        vertical-align: top;\n",
       "    }\n",
       "\n",
       "    .dataframe thead th {\n",
       "        text-align: right;\n",
       "    }\n",
       "</style>\n",
       "<table border=\"1\" class=\"dataframe\">\n",
       "  <thead>\n",
       "    <tr style=\"text-align: right;\">\n",
       "      <th></th>\n",
       "      <th>name</th>\n",
       "    </tr>\n",
       "  </thead>\n",
       "  <tbody>\n",
       "    <tr>\n",
       "      <th>0</th>\n",
       "      <td>Bars</td>\n",
       "    </tr>\n",
       "    <tr>\n",
       "      <th>1</th>\n",
       "      <td>Sandwiches</td>\n",
       "    </tr>\n",
       "    <tr>\n",
       "      <th>2</th>\n",
       "      <td>Fast Food</td>\n",
       "    </tr>\n",
       "    <tr>\n",
       "      <th>3</th>\n",
       "      <td>Pizza</td>\n",
       "    </tr>\n",
       "    <tr>\n",
       "      <th>4</th>\n",
       "      <td>Coffee &amp; Tea</td>\n",
       "    </tr>\n",
       "  </tbody>\n",
       "</table>\n",
       "</div>"
      ],
      "text/plain": [
       "           name\n",
       "0          Bars\n",
       "1    Sandwiches\n",
       "2     Fast Food\n",
       "3         Pizza\n",
       "4  Coffee & Tea"
      ]
     },
     "execution_count": 10,
     "metadata": {},
     "output_type": "execute_result"
    }
   ],
   "source": [
    "category.head(5)"
   ]
  },
  {
   "cell_type": "code",
   "execution_count": 11,
   "id": "6a71ab53",
   "metadata": {
    "id": "6a71ab53"
   },
   "outputs": [],
   "source": [
    "category.to_pickle('data/Category.pickle')"
   ]
  },
  {
   "cell_type": "markdown",
   "id": "7df932a3-9f5a-4fa3-823c-6aeaa13e505e",
   "metadata": {
    "id": "7df932a3-9f5a-4fa3-823c-6aeaa13e505e"
   },
   "source": [
    "#### Users"
   ]
  },
  {
   "cell_type": "code",
   "execution_count": 12,
   "id": "53a2095b-49ab-47f8-b45d-c987dc1136eb",
   "metadata": {
    "id": "53a2095b-49ab-47f8-b45d-c987dc1136eb",
    "outputId": "7f6557a3-b53b-4d4b-f133-cf6ee445f861"
   },
   "outputs": [
    {
     "name": "stderr",
     "output_type": "stream",
     "text": [
      "14it [01:17,  5.55s/it]\n"
     ]
    }
   ],
   "source": [
    "N_USER = 200 \n",
    "size = 500000\n",
    "# Sample N_USER users among those who have commented on those business \n",
    "review_json_path = '../data/yelp_dataset/yelp_academic_dataset_review.json'\n",
    "review = pd.read_json(review_json_path, lines=True, \n",
    "                      dtype={'review_id':str,'user_id':str,\n",
    "                             'business_id':str,'stars':int,\n",
    "                             'date':str,'text':str,'useful':int,\n",
    "                             'funny':int,'cool':int},\n",
    "                      chunksize=size)\n",
    "chunk_list = []\n",
    "for chunk in tqdm(review):\n",
    "    chunk = chunk[['business_id', 'user_id']].merge(business[['business_id']], how='inner')\n",
    "    chunk_list.append(chunk)\n",
    "user_id_list = pd.concat(chunk_list, ignore_index=True, axis=0)[[\"user_id\"]].drop_duplicates().sample(n=N_USER)"
   ]
  },
  {
   "cell_type": "code",
   "execution_count": 13,
   "id": "d28c4d55-9726-4f7f-9e69-bea76a0910c7",
   "metadata": {
    "id": "d28c4d55-9726-4f7f-9e69-bea76a0910c7"
   },
   "outputs": [],
   "source": [
    "#users_raw = pd.read_json(\"../data/yelp_dataset/yelp_academic_dataset_user.json\", lines=True)\n",
    "#users_raw.to_pickle(\"../data/users_raw.pickle\")\n",
    "users_raw = pd.read_pickle('../data/users_raw.pickle')\n",
    "users = pd.merge(users_raw, user_id_list, how=\"inner\")"
   ]
  },
  {
   "cell_type": "code",
   "execution_count": 14,
   "id": "582a5989-70b9-44e2-aed1-f276442f4372",
   "metadata": {
    "id": "582a5989-70b9-44e2-aed1-f276442f4372"
   },
   "outputs": [],
   "source": [
    "# Extract date of registrating\n",
    "users[\"yealping_since\"] = pd.to_datetime(users[\"yelping_since\"]).dt.date\n",
    "\n",
    "# Generate a password for existing users\n",
    "def password_generator(prefix, length_min=8, length_max=16):\n",
    "    chars = string.ascii_letters + string.digits + '!@#$%*'\n",
    "    # Generate a [1, 6], but mostly 1~3 random suffix\n",
    "    random_suffix_length = round(np.clip(np.random.normal(2, 1), a_min=1, a_max=6))\n",
    "    random_suffix_length = max(length_min-len(prefix), random_suffix_length)\n",
    "    random_suffix_length = min(length_max-len(prefix), random_suffix_length)\n",
    "    random_suffix = ''.join(random.choice(chars) for _ in range(random_suffix_length))\n",
    "    return prefix+random_suffix\n",
    "\n",
    "users[\"password\"] = users.apply(lambda x: password_generator(prefix=x['name']), axis=1)\n",
    "\n",
    "# Generate an email address for existing users\n",
    "EMAIL_DOMAIN_OPTIONS = [\"@gmail.com\", \"@hotmail.com\", \"@outlook.com\", \"@inbox.com\", \"@qq.com\"]\n",
    "users['email'] = users.groupby(\"name\")[\"name\"].rank(method=\"first\", ascending=True).astype(int)\n",
    "users['email'] = users.apply(lambda x: x['name'] + \"_\" +str(x['email']) + random.choice(EMAIL_DOMAIN_OPTIONS), axis=1).str.replace(\"_1@\", \"@\", regex=False)\n",
    "\n",
    "# Select the columns\n",
    "users = users[[\"user_id\", \"email\", \"name\", \"password\", \"yealping_since\"]].reset_index(drop=True)"
   ]
  },
  {
   "cell_type": "code",
   "execution_count": 15,
   "id": "24a47122-4f95-4d2d-b980-c4e0e73c4fd9",
   "metadata": {
    "id": "24a47122-4f95-4d2d-b980-c4e0e73c4fd9"
   },
   "outputs": [],
   "source": [
    "users.to_pickle('data/Users.pickle')"
   ]
  },
  {
   "cell_type": "markdown",
   "id": "2a9f98f4-c84d-491f-ac12-b0b66928aeee",
   "metadata": {
    "id": "2a9f98f4-c84d-491f-ac12-b0b66928aeee",
    "tags": []
   },
   "source": [
    "#### Collection_of_User"
   ]
  },
  {
   "cell_type": "markdown",
   "id": "2829ca4a-d61e-46ec-8dad-16a68464385c",
   "metadata": {
    "id": "2829ca4a-d61e-46ec-8dad-16a68464385c"
   },
   "source": [
    "Assume 85% of users don't have collection, and 15% of the active users have min(1, $N(2, 4)$) collections that created from a random date from after signup date till the globally maximum signup date."
   ]
  },
  {
   "cell_type": "code",
   "execution_count": 16,
   "id": "8b4226c4-9f71-4646-a7b0-5a3afa9498e6",
   "metadata": {
    "id": "8b4226c4-9f71-4646-a7b0-5a3afa9498e6"
   },
   "outputs": [],
   "source": [
    "collection = users[['user_id', 'yealping_since']].sample(frac=0.15).reset_index(drop=True)\n",
    "\n",
    "# Generate local id for each user_id\n",
    "collection['n_collection'] = pd.Series(np.around(np.random.normal(2, 4, len(collection)))).clip(1, 20)\n",
    "collection['collection_id'] = collection['n_collection'].apply(lambda x: list(range(1, int(x)+1)))\n",
    "collection = collection.explode('collection_id').reset_index(drop=True)\n",
    "\n",
    "# Generate a random collection create date\n",
    "def random_dates(start, end=max(users.yealping_since), n=10):\n",
    "    random.seed(4111)\n",
    "    d = random.randint(0, (end - start).days)\n",
    "    return start + pd.DateOffset(days=d)\n",
    "collection['created_time'] = collection.apply(lambda x: random_dates(x['yealping_since']), axis=1)\n",
    "\n",
    "# Select columns\n",
    "collection = collection[[\"user_id\", \"collection_id\", \"created_time\"]]"
   ]
  },
  {
   "cell_type": "code",
   "execution_count": 17,
   "id": "49d1c4a7-9334-41cf-965d-d27e18d946b0",
   "metadata": {
    "id": "49d1c4a7-9334-41cf-965d-d27e18d946b0",
    "outputId": "23d17af9-4124-4431-8c1b-9d80bcc75bc0"
   },
   "outputs": [
    {
     "data": {
      "text/html": [
       "<div>\n",
       "<style scoped>\n",
       "    .dataframe tbody tr th:only-of-type {\n",
       "        vertical-align: middle;\n",
       "    }\n",
       "\n",
       "    .dataframe tbody tr th {\n",
       "        vertical-align: top;\n",
       "    }\n",
       "\n",
       "    .dataframe thead th {\n",
       "        text-align: right;\n",
       "    }\n",
       "</style>\n",
       "<table border=\"1\" class=\"dataframe\">\n",
       "  <thead>\n",
       "    <tr style=\"text-align: right;\">\n",
       "      <th></th>\n",
       "      <th>user_id</th>\n",
       "      <th>collection_id</th>\n",
       "      <th>created_time</th>\n",
       "    </tr>\n",
       "  </thead>\n",
       "  <tbody>\n",
       "    <tr>\n",
       "      <th>0</th>\n",
       "      <td>k6AwCajLT06J6cwC3SqFcg</td>\n",
       "      <td>1</td>\n",
       "      <td>2020-10-07</td>\n",
       "    </tr>\n",
       "    <tr>\n",
       "      <th>1</th>\n",
       "      <td>73oVGO52bkKmjgx4Nwat4Q</td>\n",
       "      <td>1</td>\n",
       "      <td>2021-01-11</td>\n",
       "    </tr>\n",
       "    <tr>\n",
       "      <th>2</th>\n",
       "      <td>73oVGO52bkKmjgx4Nwat4Q</td>\n",
       "      <td>2</td>\n",
       "      <td>2021-01-11</td>\n",
       "    </tr>\n",
       "    <tr>\n",
       "      <th>3</th>\n",
       "      <td>73oVGO52bkKmjgx4Nwat4Q</td>\n",
       "      <td>3</td>\n",
       "      <td>2021-01-11</td>\n",
       "    </tr>\n",
       "    <tr>\n",
       "      <th>4</th>\n",
       "      <td>73oVGO52bkKmjgx4Nwat4Q</td>\n",
       "      <td>4</td>\n",
       "      <td>2021-01-11</td>\n",
       "    </tr>\n",
       "  </tbody>\n",
       "</table>\n",
       "</div>"
      ],
      "text/plain": [
       "                  user_id collection_id created_time\n",
       "0  k6AwCajLT06J6cwC3SqFcg             1   2020-10-07\n",
       "1  73oVGO52bkKmjgx4Nwat4Q             1   2021-01-11\n",
       "2  73oVGO52bkKmjgx4Nwat4Q             2   2021-01-11\n",
       "3  73oVGO52bkKmjgx4Nwat4Q             3   2021-01-11\n",
       "4  73oVGO52bkKmjgx4Nwat4Q             4   2021-01-11"
      ]
     },
     "execution_count": 17,
     "metadata": {},
     "output_type": "execute_result"
    }
   ],
   "source": [
    "collection.head()"
   ]
  },
  {
   "cell_type": "code",
   "execution_count": 18,
   "id": "f5b1aa2a-f9c1-4ee3-bd41-b093a03b12a9",
   "metadata": {
    "id": "f5b1aa2a-f9c1-4ee3-bd41-b093a03b12a9"
   },
   "outputs": [],
   "source": [
    "collection.to_pickle(\"data/Collection_of_User.pickle\")"
   ]
  },
  {
   "cell_type": "markdown",
   "id": "b27b0ae6-bdf1-48f1-8aa6-58f0fe68ac7a",
   "metadata": {
    "id": "b27b0ae6-bdf1-48f1-8aa6-58f0fe68ac7a"
   },
   "source": [
    "#### Review_of_Business"
   ]
  },
  {
   "cell_type": "code",
   "execution_count": 19,
   "id": "4fce8d51-ff97-4e68-b946-6ab9a7d480fa",
   "metadata": {
    "id": "4fce8d51-ff97-4e68-b946-6ab9a7d480fa",
    "outputId": "238f7ef3-5f12-47b0-e845-4e20ad46e55b"
   },
   "outputs": [
    {
     "name": "stdout",
     "output_type": "stream",
     "text": [
      "16 out of 500,000 related reviews\n",
      "17 out of 500,000 related reviews\n",
      "9 out of 500,000 related reviews\n",
      "10 out of 500,000 related reviews\n",
      "16 out of 500,000 related reviews\n",
      "15 out of 500,000 related reviews\n",
      "15 out of 500,000 related reviews\n",
      "10 out of 500,000 related reviews\n",
      "15 out of 500,000 related reviews\n",
      "30 out of 500,000 related reviews\n",
      "23 out of 500,000 related reviews\n",
      "5 out of 500,000 related reviews\n",
      "14 out of 500,000 related reviews\n",
      "14 out of 500,000 related reviews\n"
     ]
    }
   ],
   "source": [
    "size = 500000\n",
    "review_json_path = '../data/yelp_dataset/yelp_academic_dataset_review.json'\n",
    "review = pd.read_json(review_json_path, lines=True, dtype={'review_id':str,'user_id':str,'business_id':str,'stars':int,'date':str,'text':str,'useful':int,'funny':int,'cool':int},chunksize=size)\n",
    "\n",
    "chunk_list = []\n",
    "for chunk in review:\n",
    "    chunk = chunk.drop(['review_id'], axis=1)\n",
    "    chunk = chunk.rename(columns={'stars': 'review_stars'})\n",
    "    chunk = chunk.rename(columns={'text': 'review'})\n",
    "    chunk_merged = pd.merge(chunk, business[['business_id']], on='business_id', how='inner')\n",
    "    chunk_merged = pd.merge(chunk_merged, users[['user_id']], on='user_id', how='inner')\n",
    "    print(f\"{chunk_merged.shape[0]} out of {size:,} related reviews\")\n",
    "    chunk_list.append(chunk_merged)\n",
    "\n",
    "review_df = pd.concat(chunk_list, ignore_index=True, join='outer', axis=0)\n"
   ]
  },
  {
   "cell_type": "code",
   "execution_count": 20,
   "id": "4528c073-e05a-48ad-8705-ab9ae387efbe",
   "metadata": {
    "id": "4528c073-e05a-48ad-8705-ab9ae387efbe",
    "outputId": "6342a2a2-d794-4c8d-a22b-a8a6b99a946e"
   },
   "outputs": [
    {
     "name": "stdout",
     "output_type": "stream",
     "text": [
      "8 out of 500,000 related tips\n",
      "2 out of 500,000 related tips\n"
     ]
    }
   ],
   "source": [
    "size = 500000\n",
    "tip_json_path = '../data/yelp_dataset/yelp_academic_dataset_tip.json'\n",
    "tip = pd.read_json(tip_json_path, lines=True, dtype={'text':str,'date':str,'compliment_count':int,'business_id':str,'user_id': int},chunksize=size)\n",
    "\n",
    "chunk_list_tip = []\n",
    "for chunk in tip:\n",
    "    chunk = chunk.rename(columns={'text': 'tip'})\n",
    "    chunk_merged = pd.merge(chunk, business[['business_id']], on='business_id', how='inner')\n",
    "    chunk_merged = pd.merge(chunk_merged, users[['user_id']], on='user_id', how='inner')\n",
    "    print(f\"{chunk_merged.shape[0]} out of {size:,} related tips\")\n",
    "    chunk_list_tip.append(chunk_merged)\n",
    "\n",
    "tip_df = pd.concat(chunk_list_tip, ignore_index=True, join='outer', axis=0)"
   ]
  },
  {
   "cell_type": "code",
   "execution_count": 21,
   "id": "3620e9b4-030b-4f38-afa6-2d6f16eafb95",
   "metadata": {
    "id": "3620e9b4-030b-4f38-afa6-2d6f16eafb95",
    "outputId": "34abcfe2-b471-48e3-9957-038a9211aa5e"
   },
   "outputs": [],
   "source": [
    "review_df = review_df[review_df['review'].str.len()>=30]\n",
    "review_dfs = pd.merge(tip_df, review_df, on=['user_id','business_id','date'], how='outer')\n",
    "review_dfs = review_dfs.rename(columns={'tip': 'short_tip','date':'review_date','review_stars':'stars','review':'detailed_review','compliment_count':'likes'})\n",
    "review_dfs['review_date'] =  pd.to_datetime(review_dfs['review_date']).dt.date\n",
    "# review_dfs[['likes','stars','useful','funny','cool','detailed_review']] = review_dfs[['likes','stars','useful','funny','cool', 'detailed_review']]\n",
    "#review_dfs= review_dfs.where(review_dfs.notnull(),None)"
   ]
  },
  {
   "cell_type": "code",
   "execution_count": 22,
   "id": "8d475ac7-3a8e-49e6-87fc-6a2947e04bab",
   "metadata": {
    "id": "8d475ac7-3a8e-49e6-87fc-6a2947e04bab"
   },
   "outputs": [],
   "source": [
    "# Add globally unique review_id\n",
    "review_dfs['review_id'] = [i + 100000 for i in range(len(review_dfs))]\n",
    "\n",
    "# Select columns\n",
    "review = review_dfs[['review_id','review_date','business_id','short_tip','likes','detailed_review','stars','useful','funny','cool']]"
   ]
  },
  {
   "cell_type": "code",
   "execution_count": 23,
   "id": "32341ee3-c57a-4a37-a7eb-ff06c1e3e9cb",
   "metadata": {
    "id": "32341ee3-c57a-4a37-a7eb-ff06c1e3e9cb",
    "outputId": "e69a6aaf-09c6-4ecc-e61c-70ebcdc15e3d"
   },
   "outputs": [
    {
     "data": {
      "text/html": [
       "<div>\n",
       "<style scoped>\n",
       "    .dataframe tbody tr th:only-of-type {\n",
       "        vertical-align: middle;\n",
       "    }\n",
       "\n",
       "    .dataframe tbody tr th {\n",
       "        vertical-align: top;\n",
       "    }\n",
       "\n",
       "    .dataframe thead th {\n",
       "        text-align: right;\n",
       "    }\n",
       "</style>\n",
       "<table border=\"1\" class=\"dataframe\">\n",
       "  <thead>\n",
       "    <tr style=\"text-align: right;\">\n",
       "      <th></th>\n",
       "      <th>review_id</th>\n",
       "      <th>review_date</th>\n",
       "      <th>business_id</th>\n",
       "      <th>short_tip</th>\n",
       "      <th>likes</th>\n",
       "      <th>detailed_review</th>\n",
       "      <th>stars</th>\n",
       "      <th>useful</th>\n",
       "      <th>funny</th>\n",
       "      <th>cool</th>\n",
       "    </tr>\n",
       "  </thead>\n",
       "  <tbody>\n",
       "    <tr>\n",
       "      <th>0</th>\n",
       "      <td>100000</td>\n",
       "      <td>2013-05-13</td>\n",
       "      <td>inyckJCTAiQ8ro5ShDi6OQ</td>\n",
       "      <td>What's not to like....fresh produce, vegetable...</td>\n",
       "      <td>0.0</td>\n",
       "      <td>NaN</td>\n",
       "      <td>NaN</td>\n",
       "      <td>NaN</td>\n",
       "      <td>NaN</td>\n",
       "      <td>NaN</td>\n",
       "    </tr>\n",
       "    <tr>\n",
       "      <th>1</th>\n",
       "      <td>100001</td>\n",
       "      <td>2013-06-11</td>\n",
       "      <td>BFPxxguGxBZQ0kR0rWePTQ</td>\n",
       "      <td>Good as any.....</td>\n",
       "      <td>0.0</td>\n",
       "      <td>NaN</td>\n",
       "      <td>NaN</td>\n",
       "      <td>NaN</td>\n",
       "      <td>NaN</td>\n",
       "      <td>NaN</td>\n",
       "    </tr>\n",
       "    <tr>\n",
       "      <th>2</th>\n",
       "      <td>100002</td>\n",
       "      <td>2015-09-03</td>\n",
       "      <td>xuFjcrdGxISZVfLVl0mttA</td>\n",
       "      <td>Starter menu trying out a few key entrees and ...</td>\n",
       "      <td>0.0</td>\n",
       "      <td>NaN</td>\n",
       "      <td>NaN</td>\n",
       "      <td>NaN</td>\n",
       "      <td>NaN</td>\n",
       "      <td>NaN</td>\n",
       "    </tr>\n",
       "    <tr>\n",
       "      <th>3</th>\n",
       "      <td>100003</td>\n",
       "      <td>2015-08-24</td>\n",
       "      <td>xuFjcrdGxISZVfLVl0mttA</td>\n",
       "      <td>If you need an accessible table I suggest call...</td>\n",
       "      <td>0.0</td>\n",
       "      <td>NaN</td>\n",
       "      <td>NaN</td>\n",
       "      <td>NaN</td>\n",
       "      <td>NaN</td>\n",
       "      <td>NaN</td>\n",
       "    </tr>\n",
       "    <tr>\n",
       "      <th>4</th>\n",
       "      <td>100004</td>\n",
       "      <td>2014-02-08</td>\n",
       "      <td>MN5A-cUnGnffkN2wf6Y6MQ</td>\n",
       "      <td>I have an addiction to their crab rangoons. No...</td>\n",
       "      <td>0.0</td>\n",
       "      <td>NaN</td>\n",
       "      <td>NaN</td>\n",
       "      <td>NaN</td>\n",
       "      <td>NaN</td>\n",
       "      <td>NaN</td>\n",
       "    </tr>\n",
       "  </tbody>\n",
       "</table>\n",
       "</div>"
      ],
      "text/plain": [
       "   review_id review_date             business_id  \\\n",
       "0     100000  2013-05-13  inyckJCTAiQ8ro5ShDi6OQ   \n",
       "1     100001  2013-06-11  BFPxxguGxBZQ0kR0rWePTQ   \n",
       "2     100002  2015-09-03  xuFjcrdGxISZVfLVl0mttA   \n",
       "3     100003  2015-08-24  xuFjcrdGxISZVfLVl0mttA   \n",
       "4     100004  2014-02-08  MN5A-cUnGnffkN2wf6Y6MQ   \n",
       "\n",
       "                                           short_tip  likes detailed_review  \\\n",
       "0  What's not to like....fresh produce, vegetable...    0.0             NaN   \n",
       "1                                   Good as any.....    0.0             NaN   \n",
       "2  Starter menu trying out a few key entrees and ...    0.0             NaN   \n",
       "3  If you need an accessible table I suggest call...    0.0             NaN   \n",
       "4  I have an addiction to their crab rangoons. No...    0.0             NaN   \n",
       "\n",
       "   stars  useful  funny  cool  \n",
       "0    NaN     NaN    NaN   NaN  \n",
       "1    NaN     NaN    NaN   NaN  \n",
       "2    NaN     NaN    NaN   NaN  \n",
       "3    NaN     NaN    NaN   NaN  \n",
       "4    NaN     NaN    NaN   NaN  "
      ]
     },
     "execution_count": 23,
     "metadata": {},
     "output_type": "execute_result"
    }
   ],
   "source": [
    "review.head()"
   ]
  },
  {
   "cell_type": "code",
   "execution_count": 24,
   "id": "55959c49-93a9-4de5-8e47-5b5ac3e64117",
   "metadata": {
    "id": "55959c49-93a9-4de5-8e47-5b5ac3e64117"
   },
   "outputs": [],
   "source": [
    "review.to_pickle('data/Review_of_Business.pickle')"
   ]
  },
  {
   "cell_type": "markdown",
   "id": "8413cd79-9968-4745-8401-4d226f084f58",
   "metadata": {
    "id": "8413cd79-9968-4745-8401-4d226f084f58"
   },
   "source": [
    "##### Users_write_Review"
   ]
  },
  {
   "cell_type": "code",
   "execution_count": 25,
   "id": "4efe8e5a-7ded-41bd-859e-3d61a499e4c9",
   "metadata": {
    "id": "4efe8e5a-7ded-41bd-859e-3d61a499e4c9"
   },
   "outputs": [],
   "source": [
    "users_write_review = review_dfs[['user_id', 'review_id']]"
   ]
  },
  {
   "cell_type": "code",
   "execution_count": 26,
   "id": "675dc2d9-0c22-4763-9a6c-2006dfbc305a",
   "metadata": {
    "id": "675dc2d9-0c22-4763-9a6c-2006dfbc305a",
    "outputId": "357dc0c0-dcf9-4f0e-be8c-36f1cf77f142"
   },
   "outputs": [
    {
     "data": {
      "text/html": [
       "<div>\n",
       "<style scoped>\n",
       "    .dataframe tbody tr th:only-of-type {\n",
       "        vertical-align: middle;\n",
       "    }\n",
       "\n",
       "    .dataframe tbody tr th {\n",
       "        vertical-align: top;\n",
       "    }\n",
       "\n",
       "    .dataframe thead th {\n",
       "        text-align: right;\n",
       "    }\n",
       "</style>\n",
       "<table border=\"1\" class=\"dataframe\">\n",
       "  <thead>\n",
       "    <tr style=\"text-align: right;\">\n",
       "      <th></th>\n",
       "      <th>user_id</th>\n",
       "      <th>review_id</th>\n",
       "    </tr>\n",
       "  </thead>\n",
       "  <tbody>\n",
       "    <tr>\n",
       "      <th>0</th>\n",
       "      <td>RKULSOrIvvYpDmtuYXEXzA</td>\n",
       "      <td>100000</td>\n",
       "    </tr>\n",
       "    <tr>\n",
       "      <th>1</th>\n",
       "      <td>RKULSOrIvvYpDmtuYXEXzA</td>\n",
       "      <td>100001</td>\n",
       "    </tr>\n",
       "    <tr>\n",
       "      <th>2</th>\n",
       "      <td>Kgb1KdaTrRnGqQ4misL12w</td>\n",
       "      <td>100002</td>\n",
       "    </tr>\n",
       "    <tr>\n",
       "      <th>3</th>\n",
       "      <td>96f2e36vpRvMBEZ92xiwIQ</td>\n",
       "      <td>100003</td>\n",
       "    </tr>\n",
       "    <tr>\n",
       "      <th>4</th>\n",
       "      <td>kkNFDL_bfM4BP65UEaDs_w</td>\n",
       "      <td>100004</td>\n",
       "    </tr>\n",
       "  </tbody>\n",
       "</table>\n",
       "</div>"
      ],
      "text/plain": [
       "                  user_id  review_id\n",
       "0  RKULSOrIvvYpDmtuYXEXzA     100000\n",
       "1  RKULSOrIvvYpDmtuYXEXzA     100001\n",
       "2  Kgb1KdaTrRnGqQ4misL12w     100002\n",
       "3  96f2e36vpRvMBEZ92xiwIQ     100003\n",
       "4  kkNFDL_bfM4BP65UEaDs_w     100004"
      ]
     },
     "execution_count": 26,
     "metadata": {},
     "output_type": "execute_result"
    }
   ],
   "source": [
    "users_write_review.head()"
   ]
  },
  {
   "cell_type": "code",
   "execution_count": 27,
   "id": "aba8b968-0479-4f70-89a9-0130aa9e5de0",
   "metadata": {
    "id": "aba8b968-0479-4f70-89a9-0130aa9e5de0"
   },
   "outputs": [],
   "source": [
    "users_write_review.to_pickle('data/Users_write_Review.pickle')"
   ]
  },
  {
   "cell_type": "markdown",
   "id": "5ea44965-a857-4aa9-9503-8b32afb6cea0",
   "metadata": {
    "id": "5ea44965-a857-4aa9-9503-8b32afb6cea0"
   },
   "source": [
    "#### Photo_contained_Business"
   ]
  },
  {
   "cell_type": "code",
   "execution_count": 28,
   "id": "e8cd2723-04cd-45fc-bb2d-7381b40ef8b1",
   "metadata": {
    "id": "e8cd2723-04cd-45fc-bb2d-7381b40ef8b1"
   },
   "outputs": [],
   "source": [
    "photo_json_path = '../data/yelp_photos/photos.json'\n",
    "photo = pd.read_json(photo_json_path, lines=True, dtype={'photo_id':str,'business_id':str,'caption':str,'label':str})                       \n",
    "photo = pd.merge(photo, business[['business_id']], on=['business_id'], how='inner')"
   ]
  },
  {
   "cell_type": "code",
   "execution_count": 29,
   "id": "bff42869-afd7-4589-a963-f649b1d9b540",
   "metadata": {
    "id": "bff42869-afd7-4589-a963-f649b1d9b540",
    "outputId": "a3fc4840-b88f-4065-b9d4-37c0b2d350cb"
   },
   "outputs": [
    {
     "data": {
      "text/html": [
       "<div>\n",
       "<style scoped>\n",
       "    .dataframe tbody tr th:only-of-type {\n",
       "        vertical-align: middle;\n",
       "    }\n",
       "\n",
       "    .dataframe tbody tr th {\n",
       "        vertical-align: top;\n",
       "    }\n",
       "\n",
       "    .dataframe thead th {\n",
       "        text-align: right;\n",
       "    }\n",
       "</style>\n",
       "<table border=\"1\" class=\"dataframe\">\n",
       "  <thead>\n",
       "    <tr style=\"text-align: right;\">\n",
       "      <th></th>\n",
       "      <th>photo_id</th>\n",
       "      <th>business_id</th>\n",
       "      <th>caption</th>\n",
       "      <th>label</th>\n",
       "    </tr>\n",
       "  </thead>\n",
       "  <tbody>\n",
       "    <tr>\n",
       "      <th>0</th>\n",
       "      <td>YytrZGwGLAscS-270DUU_w</td>\n",
       "      <td>tLMWVzUBGjklGIyEQQLxXQ</td>\n",
       "      <td></td>\n",
       "      <td>outside</td>\n",
       "    </tr>\n",
       "    <tr>\n",
       "      <th>1</th>\n",
       "      <td>26WQjQQO6dpXQh__MQfzfA</td>\n",
       "      <td>tLMWVzUBGjklGIyEQQLxXQ</td>\n",
       "      <td></td>\n",
       "      <td>inside</td>\n",
       "    </tr>\n",
       "    <tr>\n",
       "      <th>2</th>\n",
       "      <td>lPDxpMwbSldbX5atTBNUng</td>\n",
       "      <td>tLMWVzUBGjklGIyEQQLxXQ</td>\n",
       "      <td>Aja channelside in downtown Tampa</td>\n",
       "      <td>inside</td>\n",
       "    </tr>\n",
       "    <tr>\n",
       "      <th>3</th>\n",
       "      <td>AFo1Dt0NUc2MBcdBSahYSA</td>\n",
       "      <td>tLMWVzUBGjklGIyEQQLxXQ</td>\n",
       "      <td>Upstairs VIP</td>\n",
       "      <td>inside</td>\n",
       "    </tr>\n",
       "    <tr>\n",
       "      <th>4</th>\n",
       "      <td>L96SgH_HdVQe0y3XrdmcGg</td>\n",
       "      <td>OLGqB9dRca8Vib7lMdtC8A</td>\n",
       "      <td>NYE</td>\n",
       "      <td>drink</td>\n",
       "    </tr>\n",
       "  </tbody>\n",
       "</table>\n",
       "</div>"
      ],
      "text/plain": [
       "                 photo_id             business_id  \\\n",
       "0  YytrZGwGLAscS-270DUU_w  tLMWVzUBGjklGIyEQQLxXQ   \n",
       "1  26WQjQQO6dpXQh__MQfzfA  tLMWVzUBGjklGIyEQQLxXQ   \n",
       "2  lPDxpMwbSldbX5atTBNUng  tLMWVzUBGjklGIyEQQLxXQ   \n",
       "3  AFo1Dt0NUc2MBcdBSahYSA  tLMWVzUBGjklGIyEQQLxXQ   \n",
       "4  L96SgH_HdVQe0y3XrdmcGg  OLGqB9dRca8Vib7lMdtC8A   \n",
       "\n",
       "                             caption    label  \n",
       "0                                     outside  \n",
       "1                                      inside  \n",
       "2  Aja channelside in downtown Tampa   inside  \n",
       "3                       Upstairs VIP   inside  \n",
       "4                                NYE    drink  "
      ]
     },
     "execution_count": 29,
     "metadata": {},
     "output_type": "execute_result"
    }
   ],
   "source": [
    "photo.head()"
   ]
  },
  {
   "cell_type": "code",
   "execution_count": 30,
   "id": "d6a989cf-aa3b-43d4-beb3-59655a77d1bf",
   "metadata": {
    "id": "d6a989cf-aa3b-43d4-beb3-59655a77d1bf"
   },
   "outputs": [],
   "source": [
    "photo.to_pickle(\"data/Photo_contained_Business.pickle\")"
   ]
  },
  {
   "cell_type": "markdown",
   "id": "bf9214a5-9718-457e-8c95-73f0c7e2ef1e",
   "metadata": {
    "id": "bf9214a5-9718-457e-8c95-73f0c7e2ef1e"
   },
   "source": [
    "### 2.2 Relationship\n",
    "\n",
    "#### Users_favorite_Business"
   ]
  },
  {
   "cell_type": "markdown",
   "id": "d29f4bb7-43db-4707-b4b3-1d32119e1085",
   "metadata": {
    "id": "d29f4bb7-43db-4707-b4b3-1d32119e1085"
   },
   "source": [
    "Assume 60% of users don't have collection, and 40% of the active users have min(1,  𝑁(3, 5)) business favorated that they have reviewed, which happened at a random date from after signup date till the globally maximum signup date."
   ]
  },
  {
   "cell_type": "code",
   "execution_count": 31,
   "id": "4ce2bf30-16d8-4ac1-8947-f283d52c5030",
   "metadata": {
    "id": "4ce2bf30-16d8-4ac1-8947-f283d52c5030"
   },
   "outputs": [],
   "source": [
    "user_business = users[['user_id']].sample(frac=0.4).reset_index(drop=True)\n",
    "\n",
    "# Generate local id for each user_id\n",
    "user_business['n_bz_follow'] = pd.Series(np.around(np.random.normal(3, 5, len(user_business)))).clip(lower=1).astype('int')\n",
    "user_business['business_id'] = user_business['n_bz_follow'].apply(lambda n: business.sample(n).business_id.tolist())\n",
    "user_business = user_business.explode([\"business_id\"])\n",
    "user_business = user_business[['user_id', 'business_id']]"
   ]
  },
  {
   "cell_type": "code",
   "execution_count": 32,
   "id": "0552e355-69c2-4f7d-806d-46e3d210734f",
   "metadata": {
    "id": "0552e355-69c2-4f7d-806d-46e3d210734f",
    "outputId": "942b817c-7306-4e23-f9da-0d0664fad3e0"
   },
   "outputs": [
    {
     "data": {
      "text/html": [
       "<div>\n",
       "<style scoped>\n",
       "    .dataframe tbody tr th:only-of-type {\n",
       "        vertical-align: middle;\n",
       "    }\n",
       "\n",
       "    .dataframe tbody tr th {\n",
       "        vertical-align: top;\n",
       "    }\n",
       "\n",
       "    .dataframe thead th {\n",
       "        text-align: right;\n",
       "    }\n",
       "</style>\n",
       "<table border=\"1\" class=\"dataframe\">\n",
       "  <thead>\n",
       "    <tr style=\"text-align: right;\">\n",
       "      <th></th>\n",
       "      <th>user_id</th>\n",
       "      <th>business_id</th>\n",
       "    </tr>\n",
       "  </thead>\n",
       "  <tbody>\n",
       "    <tr>\n",
       "      <th>0</th>\n",
       "      <td>SyOG4eHZK3wv3MnpiZVX9w</td>\n",
       "      <td>HCUsFoHYsMc_-qvIVA19IA</td>\n",
       "    </tr>\n",
       "    <tr>\n",
       "      <th>1</th>\n",
       "      <td>K-B9Ir8e0B-aro8p1VYDqw</td>\n",
       "      <td>Kt6aKSP97edaiSs-hEZzNw</td>\n",
       "    </tr>\n",
       "    <tr>\n",
       "      <th>1</th>\n",
       "      <td>K-B9Ir8e0B-aro8p1VYDqw</td>\n",
       "      <td>u48EHQFGHF5FwDTqAFXVwQ</td>\n",
       "    </tr>\n",
       "    <tr>\n",
       "      <th>1</th>\n",
       "      <td>K-B9Ir8e0B-aro8p1VYDqw</td>\n",
       "      <td>79sRRGDXhjRvxvBkQ4W9CQ</td>\n",
       "    </tr>\n",
       "    <tr>\n",
       "      <th>1</th>\n",
       "      <td>K-B9Ir8e0B-aro8p1VYDqw</td>\n",
       "      <td>aq5Y8xr0pwrwRI9yL4KgoA</td>\n",
       "    </tr>\n",
       "  </tbody>\n",
       "</table>\n",
       "</div>"
      ],
      "text/plain": [
       "                  user_id             business_id\n",
       "0  SyOG4eHZK3wv3MnpiZVX9w  HCUsFoHYsMc_-qvIVA19IA\n",
       "1  K-B9Ir8e0B-aro8p1VYDqw  Kt6aKSP97edaiSs-hEZzNw\n",
       "1  K-B9Ir8e0B-aro8p1VYDqw  u48EHQFGHF5FwDTqAFXVwQ\n",
       "1  K-B9Ir8e0B-aro8p1VYDqw  79sRRGDXhjRvxvBkQ4W9CQ\n",
       "1  K-B9Ir8e0B-aro8p1VYDqw  aq5Y8xr0pwrwRI9yL4KgoA"
      ]
     },
     "execution_count": 32,
     "metadata": {},
     "output_type": "execute_result"
    }
   ],
   "source": [
    "user_business.head(5)"
   ]
  },
  {
   "cell_type": "code",
   "execution_count": 33,
   "id": "48001cb3-2816-45e7-a0e4-88a8569435ba",
   "metadata": {
    "id": "48001cb3-2816-45e7-a0e4-88a8569435ba"
   },
   "outputs": [],
   "source": [
    "user_business.to_pickle(\"data/Users_favorite_Business.pickle\")"
   ]
  },
  {
   "cell_type": "markdown",
   "id": "a923dc6a-b0fe-4eb9-9c59-d8d54af6e9c2",
   "metadata": {
    "id": "a923dc6a-b0fe-4eb9-9c59-d8d54af6e9c2",
    "tags": []
   },
   "source": [
    "#### Users_follow_Collection"
   ]
  },
  {
   "cell_type": "markdown",
   "id": "35e39acf-b82e-4982-9837-417adf3bb399",
   "metadata": {
    "id": "35e39acf-b82e-4982-9837-417adf3bb399"
   },
   "source": [
    "Assume 80% of users don't follow any collection, and 20% of the active users follow max(1, 𝑁(2, 5)) collections (include theirselves)>"
   ]
  },
  {
   "cell_type": "code",
   "execution_count": 34,
   "id": "2d2fb949-1b0f-4d3e-a741-5c0834b916c3",
   "metadata": {
    "id": "2d2fb949-1b0f-4d3e-a741-5c0834b916c3"
   },
   "outputs": [],
   "source": [
    "users_collection = pd.DataFrame()\n",
    "users_collection['fan_user_id'] = users[['user_id']]\n",
    "\n",
    "# Random some collections for user to follow\n",
    "users_collection['n_collection_follow'] = np.round(np.maximum(1, np.random.normal(2, 5, len(users_collection)))).astype('int')\n",
    "def get_collection(fan):\n",
    "    df = collection.sample(fan['n_collection_follow'])\n",
    "    fan['followee_user_id'] = df.user_id.tolist()\n",
    "    fan['collection_id'] = df.collection_id.tolist()\n",
    "    return fan\n",
    "users_collection = users_collection.apply(get_collection, axis=1).explode([\"followee_user_id\", \"collection_id\"])\n",
    "users_collection = users_collection[['fan_user_id','followee_user_id','collection_id']]"
   ]
  },
  {
   "cell_type": "code",
   "execution_count": 35,
   "id": "8b180e40-e491-4a71-a723-9d166f0168b1",
   "metadata": {
    "id": "8b180e40-e491-4a71-a723-9d166f0168b1",
    "outputId": "b765ba30-b9b3-451c-e862-647b21301f88"
   },
   "outputs": [
    {
     "data": {
      "text/html": [
       "<div>\n",
       "<style scoped>\n",
       "    .dataframe tbody tr th:only-of-type {\n",
       "        vertical-align: middle;\n",
       "    }\n",
       "\n",
       "    .dataframe tbody tr th {\n",
       "        vertical-align: top;\n",
       "    }\n",
       "\n",
       "    .dataframe thead th {\n",
       "        text-align: right;\n",
       "    }\n",
       "</style>\n",
       "<table border=\"1\" class=\"dataframe\">\n",
       "  <thead>\n",
       "    <tr style=\"text-align: right;\">\n",
       "      <th></th>\n",
       "      <th>user_id</th>\n",
       "      <th>collection_id</th>\n",
       "      <th>created_time</th>\n",
       "    </tr>\n",
       "  </thead>\n",
       "  <tbody>\n",
       "    <tr>\n",
       "      <th>0</th>\n",
       "      <td>k6AwCajLT06J6cwC3SqFcg</td>\n",
       "      <td>1</td>\n",
       "      <td>2020-10-07</td>\n",
       "    </tr>\n",
       "    <tr>\n",
       "      <th>1</th>\n",
       "      <td>73oVGO52bkKmjgx4Nwat4Q</td>\n",
       "      <td>1</td>\n",
       "      <td>2021-01-11</td>\n",
       "    </tr>\n",
       "    <tr>\n",
       "      <th>2</th>\n",
       "      <td>73oVGO52bkKmjgx4Nwat4Q</td>\n",
       "      <td>2</td>\n",
       "      <td>2021-01-11</td>\n",
       "    </tr>\n",
       "    <tr>\n",
       "      <th>3</th>\n",
       "      <td>73oVGO52bkKmjgx4Nwat4Q</td>\n",
       "      <td>3</td>\n",
       "      <td>2021-01-11</td>\n",
       "    </tr>\n",
       "    <tr>\n",
       "      <th>4</th>\n",
       "      <td>73oVGO52bkKmjgx4Nwat4Q</td>\n",
       "      <td>4</td>\n",
       "      <td>2021-01-11</td>\n",
       "    </tr>\n",
       "  </tbody>\n",
       "</table>\n",
       "</div>"
      ],
      "text/plain": [
       "                  user_id collection_id created_time\n",
       "0  k6AwCajLT06J6cwC3SqFcg             1   2020-10-07\n",
       "1  73oVGO52bkKmjgx4Nwat4Q             1   2021-01-11\n",
       "2  73oVGO52bkKmjgx4Nwat4Q             2   2021-01-11\n",
       "3  73oVGO52bkKmjgx4Nwat4Q             3   2021-01-11\n",
       "4  73oVGO52bkKmjgx4Nwat4Q             4   2021-01-11"
      ]
     },
     "execution_count": 35,
     "metadata": {},
     "output_type": "execute_result"
    }
   ],
   "source": [
    "collection.head()"
   ]
  },
  {
   "cell_type": "code",
   "execution_count": 36,
   "id": "2e6901c3-c8d6-4706-8264-eafbdfb738a9",
   "metadata": {
    "id": "2e6901c3-c8d6-4706-8264-eafbdfb738a9"
   },
   "outputs": [],
   "source": [
    "users_collection.to_pickle('data/Users_follow_Collection.pickle')"
   ]
  },
  {
   "cell_type": "markdown",
   "id": "ccae9488-f94b-467c-9757-8528b16243e2",
   "metadata": {
    "id": "ccae9488-f94b-467c-9757-8528b16243e2"
   },
   "source": [
    "#### Collection_contain_Business"
   ]
  },
  {
   "cell_type": "markdown",
   "id": "b6f9e17d-4bf8-401a-8498-4364606eff53",
   "metadata": {
    "id": "b6f9e17d-4bf8-401a-8498-4364606eff53"
   },
   "source": [
    "Assume every collections collects max(1, 𝑁(3, 5)) business."
   ]
  },
  {
   "cell_type": "code",
   "execution_count": 37,
   "id": "bd290b19-0adf-4a8d-b7a0-51fda972178f",
   "metadata": {
    "id": "bd290b19-0adf-4a8d-b7a0-51fda972178f"
   },
   "outputs": [],
   "source": [
    "collection_business = pd.DataFrame()\n",
    "collection_business['collection_owner_id'] = collection['user_id']\n",
    "collection_business['collection_id'] = collection['collection_id']\n",
    "collection_business['n_business_contain'] = np.round(np.maximum(1, np.random.normal(3, 5, len(collection_business)))).astype('int')\n",
    "collection_business['business_id'] = collection_business['n_business_contain'].apply(lambda n: business.sample(n).business_id.tolist())\n",
    "collection_business = collection_business.explode('business_id')\n",
    "collection_business = collection_business[['collection_owner_id','collection_id', 'business_id']]"
   ]
  },
  {
   "cell_type": "code",
   "execution_count": 38,
   "id": "19382ea8-f5cb-4912-a1b4-f832f5862b0e",
   "metadata": {
    "id": "19382ea8-f5cb-4912-a1b4-f832f5862b0e",
    "outputId": "8fc28ecd-7c0e-475b-ea48-2be626bc3a5d"
   },
   "outputs": [
    {
     "data": {
      "text/html": [
       "<div>\n",
       "<style scoped>\n",
       "    .dataframe tbody tr th:only-of-type {\n",
       "        vertical-align: middle;\n",
       "    }\n",
       "\n",
       "    .dataframe tbody tr th {\n",
       "        vertical-align: top;\n",
       "    }\n",
       "\n",
       "    .dataframe thead th {\n",
       "        text-align: right;\n",
       "    }\n",
       "</style>\n",
       "<table border=\"1\" class=\"dataframe\">\n",
       "  <thead>\n",
       "    <tr style=\"text-align: right;\">\n",
       "      <th></th>\n",
       "      <th>collection_owner_id</th>\n",
       "      <th>collection_id</th>\n",
       "      <th>business_id</th>\n",
       "    </tr>\n",
       "  </thead>\n",
       "  <tbody>\n",
       "    <tr>\n",
       "      <th>0</th>\n",
       "      <td>k6AwCajLT06J6cwC3SqFcg</td>\n",
       "      <td>1</td>\n",
       "      <td>kS-UWuhV8kxAdMN3RW0Ssw</td>\n",
       "    </tr>\n",
       "    <tr>\n",
       "      <th>0</th>\n",
       "      <td>k6AwCajLT06J6cwC3SqFcg</td>\n",
       "      <td>1</td>\n",
       "      <td>MSnWYdS0w5m9JLcr1wHO4w</td>\n",
       "    </tr>\n",
       "    <tr>\n",
       "      <th>0</th>\n",
       "      <td>k6AwCajLT06J6cwC3SqFcg</td>\n",
       "      <td>1</td>\n",
       "      <td>tLMWVzUBGjklGIyEQQLxXQ</td>\n",
       "    </tr>\n",
       "    <tr>\n",
       "      <th>0</th>\n",
       "      <td>k6AwCajLT06J6cwC3SqFcg</td>\n",
       "      <td>1</td>\n",
       "      <td>9TvKg94l4PA2xuViDlvOuA</td>\n",
       "    </tr>\n",
       "    <tr>\n",
       "      <th>0</th>\n",
       "      <td>k6AwCajLT06J6cwC3SqFcg</td>\n",
       "      <td>1</td>\n",
       "      <td>BXPyrf12pvtP6fXNvYZUeg</td>\n",
       "    </tr>\n",
       "  </tbody>\n",
       "</table>\n",
       "</div>"
      ],
      "text/plain": [
       "      collection_owner_id collection_id             business_id\n",
       "0  k6AwCajLT06J6cwC3SqFcg             1  kS-UWuhV8kxAdMN3RW0Ssw\n",
       "0  k6AwCajLT06J6cwC3SqFcg             1  MSnWYdS0w5m9JLcr1wHO4w\n",
       "0  k6AwCajLT06J6cwC3SqFcg             1  tLMWVzUBGjklGIyEQQLxXQ\n",
       "0  k6AwCajLT06J6cwC3SqFcg             1  9TvKg94l4PA2xuViDlvOuA\n",
       "0  k6AwCajLT06J6cwC3SqFcg             1  BXPyrf12pvtP6fXNvYZUeg"
      ]
     },
     "execution_count": 38,
     "metadata": {},
     "output_type": "execute_result"
    }
   ],
   "source": [
    "collection_business.head()"
   ]
  },
  {
   "cell_type": "code",
   "execution_count": 39,
   "id": "dd09a1d1-6361-4d24-9f1a-9c5fa514d29e",
   "metadata": {
    "id": "dd09a1d1-6361-4d24-9f1a-9c5fa514d29e"
   },
   "outputs": [],
   "source": [
    "collection_business.to_pickle('data/Collection_contain_Business.pickle')"
   ]
  },
  {
   "cell_type": "markdown",
   "id": "903419b7-692f-4071-8cba-aa6541a08a88",
   "metadata": {
    "id": "903419b7-692f-4071-8cba-aa6541a08a88"
   },
   "source": [
    "#### Users_follow_Users"
   ]
  },
  {
   "cell_type": "markdown",
   "id": "d6a91d96-5b92-420d-951c-723cc667706b",
   "metadata": {
    "id": "d6a91d96-5b92-420d-951c-723cc667706b"
   },
   "source": [
    "Assume 70% of users don't follow any users, and 30% of the active users have min(0,  $N(3, 5)$) fans, and follow_since happened at a random date from after signup date till the globally maximum signup date."
   ]
  },
  {
   "cell_type": "code",
   "execution_count": 40,
   "id": "8031c5c8-1618-4ff4-a973-f5f7e16bec4f",
   "metadata": {
    "id": "8031c5c8-1618-4ff4-a973-f5f7e16bec4f"
   },
   "outputs": [],
   "source": [
    "users_follow= pd.DataFrame()\n",
    "users_follow = users[['user_id']].sample(frac=0.3).reset_index(drop=True) # only 30%users have fans\n",
    "users_follow = users_follow.rename(columns={'user_id': 'fan_user_id'})\n",
    "\n",
    "# Generate follower\n",
    "users_follow['n_followers'] = np.round(np.maximum(1, np.random.normal(3, 5, len(users_follow)))).astype('int')\n",
    "def get_fan(fan):\n",
    "    df = users.sample(fan['n_followers'])\n",
    "    fan['followee_user_id'] = df.user_id.tolist()\n",
    "    #fan['collection_id'] = df.collection_id.tolist()\n",
    "    return fan\n",
    "users_follow = users_follow.apply(get_fan, axis=1).explode([\"followee_user_id\"])\n",
    "\n",
    "# Generate follow date\n",
    "def random_dates(start, end=max(users.yealping_since), n=10):\n",
    "    random.seed(4111)\n",
    "    d = random.randint(0, (end - start).days)\n",
    "    return start + pd.DateOffset(days=d)\n",
    "users_follow['follow_since'] = users.apply(lambda x: random_dates(x['yealping_since']), axis=1)\n",
    "\n",
    "users_follow = users_follow[['fan_user_id','followee_user_id','follow_since']]"
   ]
  },
  {
   "cell_type": "code",
   "execution_count": 41,
   "id": "5b76a8f0-12a6-4192-953a-37fe0716d78a",
   "metadata": {
    "id": "5b76a8f0-12a6-4192-953a-37fe0716d78a",
    "outputId": "fcbd440a-8d09-4715-bbb3-2c0ad0eddd05"
   },
   "outputs": [
    {
     "data": {
      "text/html": [
       "<div>\n",
       "<style scoped>\n",
       "    .dataframe tbody tr th:only-of-type {\n",
       "        vertical-align: middle;\n",
       "    }\n",
       "\n",
       "    .dataframe tbody tr th {\n",
       "        vertical-align: top;\n",
       "    }\n",
       "\n",
       "    .dataframe thead th {\n",
       "        text-align: right;\n",
       "    }\n",
       "</style>\n",
       "<table border=\"1\" class=\"dataframe\">\n",
       "  <thead>\n",
       "    <tr style=\"text-align: right;\">\n",
       "      <th></th>\n",
       "      <th>fan_user_id</th>\n",
       "      <th>followee_user_id</th>\n",
       "      <th>follow_since</th>\n",
       "    </tr>\n",
       "  </thead>\n",
       "  <tbody>\n",
       "    <tr>\n",
       "      <th>0</th>\n",
       "      <td>7YSylmBoZxHTWF3j-2a4zA</td>\n",
       "      <td>OiqOaU31KVRB7RfyvZeM1w</td>\n",
       "      <td>2020-04-10</td>\n",
       "    </tr>\n",
       "    <tr>\n",
       "      <th>1</th>\n",
       "      <td>uOkJt5kTu7wafarASZRvqQ</td>\n",
       "      <td>ixh7QWfylnpeFQ1rGG-8eg</td>\n",
       "      <td>2019-12-02</td>\n",
       "    </tr>\n",
       "    <tr>\n",
       "      <th>1</th>\n",
       "      <td>uOkJt5kTu7wafarASZRvqQ</td>\n",
       "      <td>og-NLmnYAAr1CC1iYDIuog</td>\n",
       "      <td>2019-12-02</td>\n",
       "    </tr>\n",
       "    <tr>\n",
       "      <th>1</th>\n",
       "      <td>uOkJt5kTu7wafarASZRvqQ</td>\n",
       "      <td>hdrfHfM-wd9P5VCmMnJv1A</td>\n",
       "      <td>2019-12-02</td>\n",
       "    </tr>\n",
       "    <tr>\n",
       "      <th>1</th>\n",
       "      <td>uOkJt5kTu7wafarASZRvqQ</td>\n",
       "      <td>RdLTUqd662yMT1IcCG5sQw</td>\n",
       "      <td>2019-12-02</td>\n",
       "    </tr>\n",
       "  </tbody>\n",
       "</table>\n",
       "</div>"
      ],
      "text/plain": [
       "              fan_user_id        followee_user_id follow_since\n",
       "0  7YSylmBoZxHTWF3j-2a4zA  OiqOaU31KVRB7RfyvZeM1w   2020-04-10\n",
       "1  uOkJt5kTu7wafarASZRvqQ  ixh7QWfylnpeFQ1rGG-8eg   2019-12-02\n",
       "1  uOkJt5kTu7wafarASZRvqQ  og-NLmnYAAr1CC1iYDIuog   2019-12-02\n",
       "1  uOkJt5kTu7wafarASZRvqQ  hdrfHfM-wd9P5VCmMnJv1A   2019-12-02\n",
       "1  uOkJt5kTu7wafarASZRvqQ  RdLTUqd662yMT1IcCG5sQw   2019-12-02"
      ]
     },
     "execution_count": 41,
     "metadata": {},
     "output_type": "execute_result"
    }
   ],
   "source": [
    "users_follow.head()"
   ]
  },
  {
   "cell_type": "code",
   "execution_count": 42,
   "id": "ba0366d2-2624-45a0-9631-3b3b2838e350",
   "metadata": {
    "id": "ba0366d2-2624-45a0-9631-3b3b2838e350"
   },
   "outputs": [],
   "source": [
    "users_follow.to_pickle(\"data/Users_follow_Users.pickle\")"
   ]
  }
 ],
 "metadata": {
  "colab": {
   "collapsed_sections": [
    "7df932a3-9f5a-4fa3-823c-6aeaa13e505e",
    "2a9f98f4-c84d-491f-ac12-b0b66928aeee",
    "b27b0ae6-bdf1-48f1-8aa6-58f0fe68ac7a",
    "5ea44965-a857-4aa9-9503-8b32afb6cea0"
   ],
   "name": "Data Cleaning Jace.ipynb",
   "provenance": []
  },
  "kernelspec": {
   "display_name": "Python 3 (ipykernel)",
   "language": "python",
   "name": "python3"
  },
  "language_info": {
   "codemirror_mode": {
    "name": "ipython",
    "version": 3
   },
   "file_extension": ".py",
   "mimetype": "text/x-python",
   "name": "python",
   "nbconvert_exporter": "python",
   "pygments_lexer": "ipython3",
   "version": "3.10.2"
  },
  "toc-autonumbering": false,
  "toc-showcode": false,
  "toc-showmarkdowntxt": false
 },
 "nbformat": 4,
 "nbformat_minor": 5
}
