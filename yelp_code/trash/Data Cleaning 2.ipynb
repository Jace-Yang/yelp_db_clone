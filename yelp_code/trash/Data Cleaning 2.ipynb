{
 "cells": [
  {
   "cell_type": "code",
   "execution_count": 1,
   "id": "eb326dbc-0948-4094-b23b-30b8aad82660",
   "metadata": {},
   "outputs": [],
   "source": [
    "import pandas as pd\n",
    "import numpy as np\n",
    "import random"
   ]
  },
  {
   "cell_type": "code",
   "execution_count": 2,
   "id": "f562ac3a",
   "metadata": {},
   "outputs": [],
   "source": [
    "import pickle"
   ]
  },
  {
   "cell_type": "markdown",
   "id": "09970bce-27e3-44b5-8c67-372925a347f0",
   "metadata": {},
   "source": [
    "## Review"
   ]
  },
  {
   "cell_type": "code",
   "execution_count": 232,
   "id": "abb09782-84dc-4395-8267-ed80ca69ec9e",
   "metadata": {},
   "outputs": [],
   "source": [
    "review_json_path = '../data/yelp_dataset/yelp_academic_dataset_review.json'\n",
    "tip_json_path = '../data/yelp_dataset/yelp_academic_dataset_tip.json'\n",
    "business = pd.read_pickle('tmp_data/business.pickle')\n",
    "users = pd.read_pickle('tmp_data/Users.pickle')"
   ]
  },
  {
   "cell_type": "code",
   "execution_count": 233,
   "id": "18a85404-9d95-4e58-ba76-ca5f1eab57ed",
   "metadata": {},
   "outputs": [
    {
     "name": "stdout",
     "output_type": "stream",
     "text": [
      "1312 out of 500,000 related reviews\n",
      "1312 out of 500,000 related reviews\n",
      "1153 out of 500,000 related reviews\n",
      "1399 out of 500,000 related reviews\n",
      "1268 out of 500,000 related reviews\n",
      "1205 out of 500,000 related reviews\n",
      "1364 out of 500,000 related reviews\n",
      "1438 out of 500,000 related reviews\n",
      "1364 out of 500,000 related reviews\n",
      "1222 out of 500,000 related reviews\n",
      "1164 out of 500,000 related reviews\n",
      "1437 out of 500,000 related reviews\n",
      "1426 out of 500,000 related reviews\n",
      "1342 out of 500,000 related reviews\n",
      "(18406, 8)\n"
     ]
    },
    {
     "data": {
      "text/html": [
       "<div>\n",
       "<style scoped>\n",
       "    .dataframe tbody tr th:only-of-type {\n",
       "        vertical-align: middle;\n",
       "    }\n",
       "\n",
       "    .dataframe tbody tr th {\n",
       "        vertical-align: top;\n",
       "    }\n",
       "\n",
       "    .dataframe thead th {\n",
       "        text-align: right;\n",
       "    }\n",
       "</style>\n",
       "<table border=\"1\" class=\"dataframe\">\n",
       "  <thead>\n",
       "    <tr style=\"text-align: right;\">\n",
       "      <th></th>\n",
       "      <th>user_id</th>\n",
       "      <th>business_id</th>\n",
       "      <th>review_stars</th>\n",
       "      <th>useful</th>\n",
       "      <th>funny</th>\n",
       "      <th>cool</th>\n",
       "      <th>review</th>\n",
       "      <th>date</th>\n",
       "    </tr>\n",
       "  </thead>\n",
       "  <tbody>\n",
       "    <tr>\n",
       "      <th>11872</th>\n",
       "      <td>5Xnz5T8V2BgstQbYupTn5w</td>\n",
       "      <td>6a4gLLFSgr-Q6CZXDLzBGQ</td>\n",
       "      <td>4</td>\n",
       "      <td>0</td>\n",
       "      <td>0</td>\n",
       "      <td>0</td>\n",
       "      <td>Food was excellent. Rabbit &amp;  dumplings were o...</td>\n",
       "      <td>2010-10-31 05:43:44</td>\n",
       "    </tr>\n",
       "    <tr>\n",
       "      <th>13487</th>\n",
       "      <td>1LBiaytob4-fL1sK87jwtg</td>\n",
       "      <td>zjTBfbvbN2Ps6_Ar0w-fuQ</td>\n",
       "      <td>5</td>\n",
       "      <td>1</td>\n",
       "      <td>0</td>\n",
       "      <td>1</td>\n",
       "      <td>My dad is a regular here. He lives in port Ric...</td>\n",
       "      <td>2017-06-25 17:43:32</td>\n",
       "    </tr>\n",
       "    <tr>\n",
       "      <th>6193</th>\n",
       "      <td>lYonv0jBeu65-TcU_7uM0A</td>\n",
       "      <td>3WySw_caRJy7YVPLlWtBRw</td>\n",
       "      <td>5</td>\n",
       "      <td>1</td>\n",
       "      <td>0</td>\n",
       "      <td>0</td>\n",
       "      <td>Encanto is a MUST TRY for anyone that enjoys a...</td>\n",
       "      <td>2013-07-13 03:22:35</td>\n",
       "    </tr>\n",
       "  </tbody>\n",
       "</table>\n",
       "</div>"
      ],
      "text/plain": [
       "                      user_id             business_id  review_stars  useful  \\\n",
       "11872  5Xnz5T8V2BgstQbYupTn5w  6a4gLLFSgr-Q6CZXDLzBGQ             4       0   \n",
       "13487  1LBiaytob4-fL1sK87jwtg  zjTBfbvbN2Ps6_Ar0w-fuQ             5       1   \n",
       "6193   lYonv0jBeu65-TcU_7uM0A  3WySw_caRJy7YVPLlWtBRw             5       1   \n",
       "\n",
       "       funny  cool                                             review  \\\n",
       "11872      0     0  Food was excellent. Rabbit &  dumplings were o...   \n",
       "13487      0     1  My dad is a regular here. He lives in port Ric...   \n",
       "6193       0     0  Encanto is a MUST TRY for anyone that enjoys a...   \n",
       "\n",
       "                      date  \n",
       "11872  2010-10-31 05:43:44  \n",
       "13487  2017-06-25 17:43:32  \n",
       "6193   2013-07-13 03:22:35  "
      ]
     },
     "execution_count": 233,
     "metadata": {},
     "output_type": "execute_result"
    }
   ],
   "source": [
    "size = 500000\n",
    "\n",
    "review = pd.read_json(review_json_path, lines=True, dtype={'review_id':str,'user_id':str,'business_id':str,'stars':int,'date':str,'text':str,'useful':int,'funny':int,'cool':int},chunksize=size)\n",
    "\n",
    "chunk_list = []\n",
    "for chunk in review:\n",
    "    chunk = chunk.drop(['review_id'], axis=1)\n",
    "    chunk = chunk.rename(columns={'stars': 'review_stars'})\n",
    "    chunk = chunk.rename(columns={'text': 'review'})\n",
    "    chunk_merged = pd.merge(chunk, business[['business_id']], on='business_id', how='inner')\n",
    "    chunk_merged = pd.merge(chunk_merged, users[['user_id']], on='user_id', how='inner')\n",
    "    print(f\"{chunk_merged.shape[0]} out of {size:,} related reviews\")\n",
    "    chunk_list.append(chunk_merged)\n",
    "\n",
    "review_df = pd.concat(chunk_list, ignore_index=True, join='outer', axis=0)\n",
    "print(review_df.shape)\n",
    "review_df.sample(3)"
   ]
  },
  {
   "cell_type": "code",
   "execution_count": 234,
   "id": "a0899e2d-e969-4d90-96fc-78d84b00cec3",
   "metadata": {},
   "outputs": [
    {
     "name": "stdout",
     "output_type": "stream",
     "text": [
      "1238 out of 500,000 related reviews\n",
      "1215 out of 500,000 related reviews\n",
      "(2453, 5)\n"
     ]
    },
    {
     "data": {
      "text/plain": [
       "0    2432\n",
       "1      20\n",
       "2       1\n",
       "Name: compliment_count, dtype: int64"
      ]
     },
     "execution_count": 234,
     "metadata": {},
     "output_type": "execute_result"
    }
   ],
   "source": [
    "size = 500000\n",
    "\n",
    "tip = pd.read_json(tip_json_path, lines=True, dtype={'text':str,'date':str,'compliment_count':int,'business_id':str,'user_id': int},chunksize=size)\n",
    "\n",
    "chunk_list_tip = []\n",
    "for chunk in tip:\n",
    "    chunk = chunk.rename(columns={'text': 'tip'})\n",
    "    chunk_merged = pd.merge(chunk, business[['business_id']], on='business_id', how='inner')\n",
    "    chunk_merged = pd.merge(chunk_merged, users[['user_id']], on='user_id', how='inner')\n",
    "    print(f\"{chunk_merged.shape[0]} out of {size:,} related reviews\")\n",
    "    chunk_list_tip.append(chunk_merged)\n",
    "\n",
    "tip_df = pd.concat(chunk_list_tip, ignore_index=True, join='outer', axis=0)\n",
    "print(tip_df.shape)\n",
    "tip_df.sample(100)\n",
    "\n",
    "tip_df.compliment_count.value_counts()"
   ]
  },
  {
   "cell_type": "code",
   "execution_count": 238,
   "id": "931c34e3-bfa1-4133-8210-f7890f7b5974",
   "metadata": {},
   "outputs": [],
   "source": [
    "review_dfs = pd.merge(tip_df, review_df, on=['user_id','business_id','date'], how='outer')"
   ]
  },
  {
   "cell_type": "code",
   "execution_count": 236,
   "id": "ed340586-9e46-4ae8-a988-969c2571b931",
   "metadata": {},
   "outputs": [
    {
     "name": "stdout",
     "output_type": "stream",
     "text": [
      "500.0\n",
      "1.0\n",
      "4998.0\n",
      "29.0\n"
     ]
    }
   ],
   "source": [
    "#check min max length of tip\n",
    "print(review_dfs['tip'].str.len().max())\n",
    "print(review_dfs['tip'].str.len().min())\n",
    "\n",
    "#check min,max length of review\n",
    "print(review_dfs['review'].str.len().max())\n",
    "print(review_dfs['review'].str.len().min())"
   ]
  },
  {
   "cell_type": "code",
   "execution_count": 240,
   "id": "aab555b7-7f5c-4970-ba59-49628d8912b8",
   "metadata": {},
   "outputs": [],
   "source": [
    "#drop outlier\n",
    "review_dfs = review_dfs[review_dfs['review'].str.len()!=29]\n",
    "#rename col \n",
    "review_dfs = review_dfs.rename(columns={'tip': 'short_tip','date':'review_date','review_stars':'stars','review':'detailed_review','compliment_count':'likes'})\n",
    "#convert float to int\n",
    "review_dfs[['likes','stars','useful','funny','cool']] = review_dfs[['likes','stars','useful','funny','cool']].fillna(0).astype(int)\n",
    "#add review_id\n",
    "review_dfs['review_id'] = [i + 100000 for i in range(len(review_dfs))]\n"
   ]
  },
  {
   "cell_type": "code",
   "execution_count": 241,
   "id": "7b749e68-5b96-4f22-8968-fb9c3a48bc3f",
   "metadata": {},
   "outputs": [],
   "source": [
    "#reset colname\n",
    "review = review_dfs[['review_id','review_date','business_id','short_tip','likes','detailed_review','stars','useful','funny','cool']]\n"
   ]
  },
  {
   "cell_type": "code",
   "execution_count": 242,
   "id": "16d52c4d-22b7-47e7-bc88-b688c8f8be76",
   "metadata": {},
   "outputs": [],
   "source": [
    "review.to_pickle('tmp_data/Review_of_Business.pickle')"
   ]
  },
  {
   "cell_type": "code",
   "execution_count": null,
   "id": "017d506c-6338-4921-b8ca-0da6d42ff2f0",
   "metadata": {},
   "outputs": [],
   "source": []
  },
  {
   "cell_type": "markdown",
   "id": "31131026-d44e-460f-adc3-739db52e18f8",
   "metadata": {},
   "source": [
    "## Users write review"
   ]
  },
  {
   "cell_type": "code",
   "execution_count": 248,
   "id": "0108691f-31e8-40e4-bc25-da62ade9a2a1",
   "metadata": {},
   "outputs": [],
   "source": [
    "users_write_review = pd.DataFrame()\n",
    "users_write_review['user_id']= review_dfs['user_id']\n",
    "users_write_review['review_id']= review_dfs['review_id']"
   ]
  },
  {
   "cell_type": "code",
   "execution_count": 252,
   "id": "b0080767-b36b-4c59-8529-b3522af8f8d9",
   "metadata": {},
   "outputs": [
    {
     "data": {
      "text/html": [
       "<div>\n",
       "<style scoped>\n",
       "    .dataframe tbody tr th:only-of-type {\n",
       "        vertical-align: middle;\n",
       "    }\n",
       "\n",
       "    .dataframe tbody tr th {\n",
       "        vertical-align: top;\n",
       "    }\n",
       "\n",
       "    .dataframe thead th {\n",
       "        text-align: right;\n",
       "    }\n",
       "</style>\n",
       "<table border=\"1\" class=\"dataframe\">\n",
       "  <thead>\n",
       "    <tr style=\"text-align: right;\">\n",
       "      <th></th>\n",
       "      <th>user_id</th>\n",
       "      <th>review_id</th>\n",
       "    </tr>\n",
       "  </thead>\n",
       "  <tbody>\n",
       "    <tr>\n",
       "      <th>0</th>\n",
       "      <td>oCgXFRb3v4vO2Q0OVmPBkA</td>\n",
       "      <td>100000</td>\n",
       "    </tr>\n",
       "    <tr>\n",
       "      <th>1</th>\n",
       "      <td>oCgXFRb3v4vO2Q0OVmPBkA</td>\n",
       "      <td>100001</td>\n",
       "    </tr>\n",
       "    <tr>\n",
       "      <th>2</th>\n",
       "      <td>oCgXFRb3v4vO2Q0OVmPBkA</td>\n",
       "      <td>100002</td>\n",
       "    </tr>\n",
       "    <tr>\n",
       "      <th>3</th>\n",
       "      <td>oCgXFRb3v4vO2Q0OVmPBkA</td>\n",
       "      <td>100003</td>\n",
       "    </tr>\n",
       "    <tr>\n",
       "      <th>4</th>\n",
       "      <td>6OZDhVrt81UC3b-gDEw_oA</td>\n",
       "      <td>100004</td>\n",
       "    </tr>\n",
       "  </tbody>\n",
       "</table>\n",
       "</div>"
      ],
      "text/plain": [
       "                  user_id  review_id\n",
       "0  oCgXFRb3v4vO2Q0OVmPBkA     100000\n",
       "1  oCgXFRb3v4vO2Q0OVmPBkA     100001\n",
       "2  oCgXFRb3v4vO2Q0OVmPBkA     100002\n",
       "3  oCgXFRb3v4vO2Q0OVmPBkA     100003\n",
       "4  6OZDhVrt81UC3b-gDEw_oA     100004"
      ]
     },
     "execution_count": 252,
     "metadata": {},
     "output_type": "execute_result"
    }
   ],
   "source": [
    "users_write_review.head()"
   ]
  },
  {
   "cell_type": "code",
   "execution_count": 250,
   "id": "5735b647-15e6-4d43-8900-a49dff2e6721",
   "metadata": {},
   "outputs": [],
   "source": [
    "users_write_review.to_pickle('tmp_data/Users_write_Review.pickle')"
   ]
  },
  {
   "cell_type": "markdown",
   "id": "e24205de-9860-467c-adff-6c9c5321ccc9",
   "metadata": {},
   "source": [
    "## Users_follow_Users"
   ]
  },
  {
   "cell_type": "code",
   "execution_count": 311,
   "id": "cd7c6a16-2b68-4f09-9221-a9983db2dc9d",
   "metadata": {},
   "outputs": [],
   "source": [
    "users = pd.read_pickle('tmp_data/Users.pickle')"
   ]
  },
  {
   "cell_type": "markdown",
   "id": "0dc1d692-14b5-49cf-8087-3812852dc117",
   "metadata": {},
   "source": [
    "#Assume 70% of users don't follow any users, and 30% of the active users have min(0,  𝑁(5, 5)) fans, and follow_since happened at a random date from after signup date till the globally maximum signup date."
   ]
  },
  {
   "cell_type": "code",
   "execution_count": 312,
   "id": "38130458-3ced-432c-8dbf-1e236ea94961",
   "metadata": {},
   "outputs": [],
   "source": [
    "users_follow= pd.DataFrame()\n",
    "users_follow = users[['user_id']].sample(frac=0.3).reset_index(drop=True) # only 30%users have fans\n",
    "users_follow = users_follow.rename(columns={'user_id': 'fan_user_id'})"
   ]
  },
  {
   "cell_type": "code",
   "execution_count": 313,
   "id": "274dfbd1-ddb7-40bc-b133-05381569e148",
   "metadata": {},
   "outputs": [],
   "source": [
    "users_follow['n_followers'] = np.round(np.maximum(1, np.random.normal(3, 5, len(users_follow)))).astype('int')"
   ]
  },
  {
   "cell_type": "code",
   "execution_count": 314,
   "id": "970df35d-7704-4cd8-b4e2-9fc4afbc8d74",
   "metadata": {},
   "outputs": [
    {
     "data": {
      "text/html": [
       "<div>\n",
       "<style scoped>\n",
       "    .dataframe tbody tr th:only-of-type {\n",
       "        vertical-align: middle;\n",
       "    }\n",
       "\n",
       "    .dataframe tbody tr th {\n",
       "        vertical-align: top;\n",
       "    }\n",
       "\n",
       "    .dataframe thead th {\n",
       "        text-align: right;\n",
       "    }\n",
       "</style>\n",
       "<table border=\"1\" class=\"dataframe\">\n",
       "  <thead>\n",
       "    <tr style=\"text-align: right;\">\n",
       "      <th></th>\n",
       "      <th>fan_user_id</th>\n",
       "      <th>n_followers</th>\n",
       "    </tr>\n",
       "  </thead>\n",
       "  <tbody>\n",
       "    <tr>\n",
       "      <th>0</th>\n",
       "      <td>7FkS4-iTNCmnsg6domqhWQ</td>\n",
       "      <td>7</td>\n",
       "    </tr>\n",
       "    <tr>\n",
       "      <th>1</th>\n",
       "      <td>DE1f22CynZpyUK7JaivLmw</td>\n",
       "      <td>1</td>\n",
       "    </tr>\n",
       "    <tr>\n",
       "      <th>2</th>\n",
       "      <td>I6S3570pSQ37GTibA3ttQw</td>\n",
       "      <td>3</td>\n",
       "    </tr>\n",
       "    <tr>\n",
       "      <th>3</th>\n",
       "      <td>Ac0pi_xqI-j02bZw5_HpRw</td>\n",
       "      <td>3</td>\n",
       "    </tr>\n",
       "    <tr>\n",
       "      <th>4</th>\n",
       "      <td>GTsOMS5HOgc_KG725S1XUg</td>\n",
       "      <td>8</td>\n",
       "    </tr>\n",
       "    <tr>\n",
       "      <th>...</th>\n",
       "      <td>...</td>\n",
       "      <td>...</td>\n",
       "    </tr>\n",
       "    <tr>\n",
       "      <th>8886</th>\n",
       "      <td>ZbrQsrtRqXkCZd7wBIOCyQ</td>\n",
       "      <td>1</td>\n",
       "    </tr>\n",
       "    <tr>\n",
       "      <th>8887</th>\n",
       "      <td>CzhKoVMsRK-zylwUuaAjRQ</td>\n",
       "      <td>2</td>\n",
       "    </tr>\n",
       "    <tr>\n",
       "      <th>8888</th>\n",
       "      <td>DLo53C3BgJkXZPoRz19V4Q</td>\n",
       "      <td>5</td>\n",
       "    </tr>\n",
       "    <tr>\n",
       "      <th>8889</th>\n",
       "      <td>fhCVm8NUkbq9Prec94Y6ng</td>\n",
       "      <td>3</td>\n",
       "    </tr>\n",
       "    <tr>\n",
       "      <th>8890</th>\n",
       "      <td>dOfi9QmYmnzBoZ2tvIwvlQ</td>\n",
       "      <td>11</td>\n",
       "    </tr>\n",
       "  </tbody>\n",
       "</table>\n",
       "<p>8891 rows × 2 columns</p>\n",
       "</div>"
      ],
      "text/plain": [
       "                 fan_user_id  n_followers\n",
       "0     7FkS4-iTNCmnsg6domqhWQ            7\n",
       "1     DE1f22CynZpyUK7JaivLmw            1\n",
       "2     I6S3570pSQ37GTibA3ttQw            3\n",
       "3     Ac0pi_xqI-j02bZw5_HpRw            3\n",
       "4     GTsOMS5HOgc_KG725S1XUg            8\n",
       "...                      ...          ...\n",
       "8886  ZbrQsrtRqXkCZd7wBIOCyQ            1\n",
       "8887  CzhKoVMsRK-zylwUuaAjRQ            2\n",
       "8888  DLo53C3BgJkXZPoRz19V4Q            5\n",
       "8889  fhCVm8NUkbq9Prec94Y6ng            3\n",
       "8890  dOfi9QmYmnzBoZ2tvIwvlQ           11\n",
       "\n",
       "[8891 rows x 2 columns]"
      ]
     },
     "execution_count": 314,
     "metadata": {},
     "output_type": "execute_result"
    }
   ],
   "source": [
    "users_follow"
   ]
  },
  {
   "cell_type": "code",
   "execution_count": 315,
   "id": "ebbe3275-b276-4060-b76a-8c51fe1c083d",
   "metadata": {},
   "outputs": [],
   "source": [
    "def get_fan(fan):\n",
    "    df = users.sample(fan['n_followers'])\n",
    "    fan['followee_user_id'] = df.user_id.tolist()\n",
    "    #fan['collection_id'] = df.collection_id.tolist()\n",
    "    return fan\n",
    "users_follow = users_follow.apply(get_fan, axis=1).explode([\"followee_user_id\"])\n"
   ]
  },
  {
   "cell_type": "code",
   "execution_count": 318,
   "id": "48592c8f-e716-499a-9c2e-63ac7d55dffb",
   "metadata": {},
   "outputs": [],
   "source": [
    "def random_dates(start, end=max(users.yealping_since), n=10):\n",
    "    random.seed(4111)\n",
    "    d = random.randint(0, (end - start).days)\n",
    "    return start + pd.DateOffset(days=d)\n",
    "users_follow['follow_since'] = users.apply(lambda x: random_dates(x['yealping_since']), axis=1)\n"
   ]
  },
  {
   "cell_type": "code",
   "execution_count": 319,
   "id": "6da693d8-480e-4c6e-b8c8-9bf57f0b22c1",
   "metadata": {},
   "outputs": [],
   "source": [
    "users_follow = users_follow[['fan_user_id','followee_user_id','follow_since']]"
   ]
  },
  {
   "cell_type": "code",
   "execution_count": 321,
   "id": "99f54284-70a2-449c-81cf-9e2f33993bba",
   "metadata": {},
   "outputs": [],
   "source": [
    "users_follow.to_pickle(\"tmp_data/Users_follow_Users.pickle\")"
   ]
  },
  {
   "cell_type": "markdown",
   "id": "6ae9f533-e5ab-4cbe-8f24-3e458926065a",
   "metadata": {},
   "source": [
    "## photo"
   ]
  },
  {
   "cell_type": "code",
   "execution_count": 10,
   "id": "fc02543d-eeec-4bd1-a1e2-83229d772249",
   "metadata": {},
   "outputs": [],
   "source": [
    "photo_json_path = '../data/yelp_photos/photos.json'\n",
    "\n",
    "photo = pd.read_json(photo_json_path, lines=True, dtype={'photo_id':str,'business_id':str,'caption':str,'label':str})\n",
    "                                                                                                      "
   ]
  },
  {
   "cell_type": "code",
   "execution_count": 12,
   "id": "fb43c831-6512-4357-aa54-acb979930adf",
   "metadata": {},
   "outputs": [],
   "source": [
    "photo.to_pickle(\"tmp_data/Photo_contained_Business.pickle\")"
   ]
  },
  {
   "cell_type": "code",
   "execution_count": null,
   "id": "3f6e010c-eb24-40c7-8dc6-a6e3d6da38d2",
   "metadata": {},
   "outputs": [],
   "source": []
  }
 ],
 "metadata": {
  "kernelspec": {
   "display_name": "Python 3 (ipykernel)",
   "language": "python",
   "name": "python3"
  },
  "language_info": {
   "codemirror_mode": {
    "name": "ipython",
    "version": 3
   },
   "file_extension": ".py",
   "mimetype": "text/x-python",
   "name": "python",
   "nbconvert_exporter": "python",
   "pygments_lexer": "ipython3",
   "version": "3.7.11"
  },
  "toc-showcode": true
 },
 "nbformat": 4,
 "nbformat_minor": 5
}
