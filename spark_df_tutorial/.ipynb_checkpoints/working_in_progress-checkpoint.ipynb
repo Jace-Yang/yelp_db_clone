{
 "cells": [
  {
   "cell_type": "markdown",
   "id": "b9acadf7-b171-4f3b-bd78-28eb01805374",
   "metadata": {},
   "source": [
    "# Pyspark tutorial"
   ]
  },
  {
   "cell_type": "markdown",
   "id": "1678f1a7-f4bb-41f6-965f-9a88e088dc01",
   "metadata": {},
   "source": [
    "## Envionment Setup"
   ]
  },
  {
   "cell_type": "code",
   "execution_count": 3,
   "id": "1454a696-4f01-428a-a72d-81139a4ec724",
   "metadata": {},
   "outputs": [
    {
     "name": "stdout",
     "output_type": "stream",
     "text": [
      "Copying gs://coms4111/yelp_academic_dataset_business.json...\n",
      "Removing gs://coms4111/yelp_academic_dataset_business.json...                   \n",
      "Copying gs://coms4111/yelp_academic_dataset_checkin.json...\n",
      "Removing gs://coms4111/yelp_academic_dataset_checkin.json...                    \n",
      "Copying gs://coms4111/yelp_academic_dataset_review.json...\n",
      "Removing gs://coms4111/yelp_academic_dataset_review.json...                     \n",
      "Copying gs://coms4111/yelp_academic_dataset_tip.json...\n",
      "Removing gs://coms4111/yelp_academic_dataset_tip.json...                        \n",
      "\n",
      "==> NOTE: You are performing a sequence of gsutil operations that may\n",
      "run significantly faster if you instead use gsutil -m cp ... Please\n",
      "see the -m section under \"gsutil help options\" for further information\n",
      "about when gsutil -m can be advantageous.\n",
      "\n",
      "Copying gs://coms4111/yelp_academic_dataset_user.json...\n",
      "Removing gs://coms4111/yelp_academic_dataset_user.json...                       \n",
      "\n",
      "Operation completed over 5 objects/8.6 GiB.                                      \n"
     ]
    }
   ],
   "source": [
    "!gsutil mv gs://coms4111/*.json yelp_db_clone/data"
   ]
  },
  {
   "cell_type": "code",
   "execution_count": 22,
   "id": "0926bf09-e3bc-4438-aaa0-906f2f76732f",
   "metadata": {},
   "outputs": [
    {
     "name": "stdout",
     "output_type": "stream",
     "text": [
      "Found 10 items\n",
      "drwxrwxrwt   - hdfs hadoop          0 2022-05-03 04:22 hdfs:///user/dataproc\n",
      "drwxrwxrwt   - hdfs hadoop          0 2022-05-03 04:22 hdfs:///user/hbase\n",
      "drwxrwxrwt   - hdfs hadoop          0 2022-05-03 04:22 hdfs:///user/hdfs\n",
      "drwxrwxrwt   - hdfs hadoop          0 2022-05-03 04:22 hdfs:///user/hive\n",
      "drwxrwxrwt   - hdfs hadoop          0 2022-05-03 04:22 hdfs:///user/mapred\n",
      "drwxrwxrwt   - hdfs hadoop          0 2022-05-03 04:22 hdfs:///user/pig\n",
      "drwxr-xr-x   - root hadoop          0 2022-05-03 04:30 hdfs:///user/root\n",
      "drwxrwxrwt   - hdfs hadoop          0 2022-05-03 04:22 hdfs:///user/spark\n",
      "drwxrwxrwt   - hdfs hadoop          0 2022-05-03 04:22 hdfs:///user/yarn\n",
      "drwxrwxrwt   - hdfs hadoop          0 2022-05-03 04:22 hdfs:///user/zookeeper\n"
     ]
    }
   ],
   "source": [
    "!hdfs dfs -ls hdfs:///user"
   ]
  },
  {
   "cell_type": "code",
   "execution_count": 23,
   "id": "6da8cd20-85ef-48f2-a6ce-b65fc348fb7d",
   "metadata": {},
   "outputs": [],
   "source": [
    "!hdfs dfs -cp -f file:///yelp_db_clone/data/*.json hdfs:///user"
   ]
  },
  {
   "cell_type": "code",
   "execution_count": 24,
   "id": "492c6093-312b-47b4-9899-820a112a9098",
   "metadata": {},
   "outputs": [
    {
     "name": "stdout",
     "output_type": "stream",
     "text": [
      "Found 15 items\n",
      "drwxrwxrwt   - hdfs hadoop          0 2022-05-03 04:22 hdfs:///user/dataproc\n",
      "drwxrwxrwt   - hdfs hadoop          0 2022-05-03 04:22 hdfs:///user/hbase\n",
      "drwxrwxrwt   - hdfs hadoop          0 2022-05-03 04:22 hdfs:///user/hdfs\n",
      "drwxrwxrwt   - hdfs hadoop          0 2022-05-03 04:22 hdfs:///user/hive\n",
      "drwxrwxrwt   - hdfs hadoop          0 2022-05-03 04:22 hdfs:///user/mapred\n",
      "drwxrwxrwt   - hdfs hadoop          0 2022-05-03 04:22 hdfs:///user/pig\n",
      "drwxr-xr-x   - root hadoop          0 2022-05-03 04:30 hdfs:///user/root\n",
      "drwxrwxrwt   - hdfs hadoop          0 2022-05-03 04:22 hdfs:///user/spark\n",
      "drwxrwxrwt   - hdfs hadoop          0 2022-05-03 04:22 hdfs:///user/yarn\n",
      "-rw-r--r--   1 root hadoop  118863795 2022-05-03 04:37 hdfs:///user/yelp_academic_dataset_business.json\n",
      "-rw-r--r--   1 root hadoop  286958945 2022-05-03 04:37 hdfs:///user/yelp_academic_dataset_checkin.json\n",
      "-rw-r--r--   1 root hadoop 5341868833 2022-05-03 04:38 hdfs:///user/yelp_academic_dataset_review.json\n",
      "-rw-r--r--   1 root hadoop  180604475 2022-05-03 04:38 hdfs:///user/yelp_academic_dataset_tip.json\n",
      "-rw-r--r--   1 root hadoop 3363329011 2022-05-03 04:39 hdfs:///user/yelp_academic_dataset_user.json\n",
      "drwxrwxrwt   - hdfs hadoop          0 2022-05-03 04:22 hdfs:///user/zookeeper\n"
     ]
    }
   ],
   "source": [
    "!hdfs dfs -ls hdfs:///user"
   ]
  },
  {
   "cell_type": "code",
   "execution_count": 4,
   "id": "287b79ec-f7ab-4360-893b-19ee1146a947",
   "metadata": {},
   "outputs": [],
   "source": [
    "# Download external package in order to parse XML files: spark-xml with version 2.12-0.14.0 to support Spark 3.1.2 and Scala 2.12.\n",
    "!sudo hdfs dfs -get gs://csee4121/homework2/spark-xml_2.12-0.14.0.jar /usr/lib/spark/jars/"
   ]
  },
  {
   "cell_type": "code",
   "execution_count": 5,
   "id": "8dd888f2-4e88-4318-909d-c11f19e30953",
   "metadata": {},
   "outputs": [
    {
     "name": "stderr",
     "output_type": "stream",
     "text": [
      "Setting default log level to \"WARN\".\n",
      "To adjust logging level use sc.setLogLevel(newLevel). For SparkR, use setLogLevel(newLevel).\n",
      "22/05/03 04:30:53 INFO org.apache.spark.SparkEnv: Registering MapOutputTracker\n",
      "22/05/03 04:30:53 INFO org.apache.spark.SparkEnv: Registering BlockManagerMaster\n",
      "22/05/03 04:30:53 INFO org.apache.spark.SparkEnv: Registering BlockManagerMasterHeartbeat\n",
      "22/05/03 04:30:53 INFO org.apache.spark.SparkEnv: Registering OutputCommitCoordinator\n"
     ]
    }
   ],
   "source": [
    "import os\n",
    "from pyspark.sql import SparkSession\n",
    "spark = SparkSession.builder.getOrCreate()"
   ]
  },
  {
   "cell_type": "code",
   "execution_count": 27,
   "id": "622cc42f-af2e-4ab9-b354-63d75eb36479",
   "metadata": {},
   "outputs": [
    {
     "name": "stderr",
     "output_type": "stream",
     "text": [
      "                                                                                \r"
     ]
    },
    {
     "ename": "AttributeError",
     "evalue": "'DataFrame' object has no attribute 'load'",
     "output_type": "error",
     "traceback": [
      "\u001b[0;31m---------------------------------------------------------------------------\u001b[0m",
      "\u001b[0;31mAttributeError\u001b[0m                            Traceback (most recent call last)",
      "Input \u001b[0;32mIn [27]\u001b[0m, in \u001b[0;36m<cell line: 1>\u001b[0;34m()\u001b[0m\n\u001b[0;32m----> 1\u001b[0m review \u001b[38;5;241m=\u001b[39m \u001b[43mspark\u001b[49m\u001b[38;5;241;43m.\u001b[39;49m\u001b[43mread\u001b[49m\u001b[38;5;241;43m.\u001b[39;49m\u001b[43mjson\u001b[49m\u001b[43m(\u001b[49m\u001b[38;5;124;43m'\u001b[39;49m\u001b[38;5;124;43mhdfs:///user/yelp_academic_dataset_review.json\u001b[39;49m\u001b[38;5;124;43m'\u001b[39;49m\u001b[43m)\u001b[49m\u001b[38;5;241;43m.\u001b[39;49m\u001b[43mload\u001b[49m()\n",
      "File \u001b[0;32m/usr/lib/spark/python/pyspark/sql/dataframe.py:1643\u001b[0m, in \u001b[0;36mDataFrame.__getattr__\u001b[0;34m(self, name)\u001b[0m\n\u001b[1;32m   1633\u001b[0m \u001b[38;5;124;03m\"\"\"Returns the :class:`Column` denoted by ``name``.\u001b[39;00m\n\u001b[1;32m   1634\u001b[0m \n\u001b[1;32m   1635\u001b[0m \u001b[38;5;124;03m.. versionadded:: 1.3.0\u001b[39;00m\n\u001b[0;32m   (...)\u001b[0m\n\u001b[1;32m   1640\u001b[0m \u001b[38;5;124;03m[Row(age=2), Row(age=5)]\u001b[39;00m\n\u001b[1;32m   1641\u001b[0m \u001b[38;5;124;03m\"\"\"\u001b[39;00m\n\u001b[1;32m   1642\u001b[0m \u001b[38;5;28;01mif\u001b[39;00m name \u001b[38;5;129;01mnot\u001b[39;00m \u001b[38;5;129;01min\u001b[39;00m \u001b[38;5;28mself\u001b[39m\u001b[38;5;241m.\u001b[39mcolumns:\n\u001b[0;32m-> 1643\u001b[0m     \u001b[38;5;28;01mraise\u001b[39;00m \u001b[38;5;167;01mAttributeError\u001b[39;00m(\n\u001b[1;32m   1644\u001b[0m         \u001b[38;5;124m\"\u001b[39m\u001b[38;5;124m'\u001b[39m\u001b[38;5;132;01m%s\u001b[39;00m\u001b[38;5;124m'\u001b[39m\u001b[38;5;124m object has no attribute \u001b[39m\u001b[38;5;124m'\u001b[39m\u001b[38;5;132;01m%s\u001b[39;00m\u001b[38;5;124m'\u001b[39m\u001b[38;5;124m\"\u001b[39m \u001b[38;5;241m%\u001b[39m (\u001b[38;5;28mself\u001b[39m\u001b[38;5;241m.\u001b[39m\u001b[38;5;18m__class__\u001b[39m\u001b[38;5;241m.\u001b[39m\u001b[38;5;18m__name__\u001b[39m, name))\n\u001b[1;32m   1645\u001b[0m jc \u001b[38;5;241m=\u001b[39m \u001b[38;5;28mself\u001b[39m\u001b[38;5;241m.\u001b[39m_jdf\u001b[38;5;241m.\u001b[39mapply(name)\n\u001b[1;32m   1646\u001b[0m \u001b[38;5;28;01mreturn\u001b[39;00m Column(jc)\n",
      "\u001b[0;31mAttributeError\u001b[0m: 'DataFrame' object has no attribute 'load'"
     ]
    }
   ],
   "source": [
    "review = spark.read.json('hdfs:///user/yelp_academic_dataset_review.json')"
   ]
  },
  {
   "cell_type": "code",
   "execution_count": 28,
   "id": "c4cf8cf9-6f4a-45a3-a41f-5752a43d1d39",
   "metadata": {},
   "outputs": [
    {
     "data": {
      "text/plain": [
       "DataFrame[business_id: string, cool: bigint, date: string, funny: bigint, review_id: string, stars: double, text: string, useful: bigint, user_id: string]"
      ]
     },
     "execution_count": 28,
     "metadata": {},
     "output_type": "execute_result"
    }
   ],
   "source": [
    "review"
   ]
  },
  {
   "cell_type": "code",
   "execution_count": 30,
   "id": "a86cd36f-eca0-495f-b238-808f30ceab12",
   "metadata": {},
   "outputs": [],
   "source": [
    "review_test = review.limit(5000)"
   ]
  },
  {
   "cell_type": "code",
   "execution_count": 33,
   "id": "6ca21758-9cd4-47e7-b491-3e448e15527a",
   "metadata": {},
   "outputs": [
    {
     "name": "stderr",
     "output_type": "stream",
     "text": [
      "[Stage 15:==================================================>     (36 + 4) / 40]\r"
     ]
    },
    {
     "name": "stdout",
     "output_type": "stream",
     "text": [
      "+--------------------+----+-------------------+-----+--------------------+-----+--------------------+------+--------------------+\n",
      "|         business_id|cool|               date|funny|           review_id|stars|                text|useful|             user_id|\n",
      "+--------------------+----+-------------------+-----+--------------------+-----+--------------------+------+--------------------+\n",
      "|XQfwVwDr-v0ZS3_Cb...|   0|2018-07-07 22:09:11|    0|KU_O5udG6zpxOg-Vc...|  3.0|If you decide to ...|     0|mh_-eMZ6K5RLWhZyI...|\n",
      "|7ATYjTIgM3jUlt4UM...|   1|2012-01-03 15:28:18|    0|BiTunyQ73aT9WBnpR...|  5.0|I've taken a lot ...|     1|OyoGAe7OKpv6SyGZT...|\n",
      "|YjUWPpI6HXG530lwP...|   0|2014-02-05 20:30:30|    0|saUsX_uimxRlCVr67...|  3.0|Family diner. Had...|     0|8g_iMtfSiwikVnbP2...|\n",
      "|kxX2SOes4o-D3ZQBk...|   1|2015-01-04 00:01:03|    0|AqPFMleE6RsU23_au...|  5.0|Wow!  Yummy, diff...|     1|_7bHUi9Uuf5__HHc_...|\n",
      "|e4Vwtrqf-wpJfwesg...|   1|2017-01-14 20:54:15|    0|Sx8TMOWLNuJBWer-0...|  4.0|Cute interior and...|     1|bcjbaE6dDog4jkNY9...|\n",
      "|04UD14gamNjLY0IDY...|   1|2015-09-23 23:10:31|    2|JrIxlS1TzJ-iCu79u...|  1.0|I am a long term ...|     1|eUta8W_HdHMXPzLBB...|\n",
      "|gmjsEdUsKpj9Xxu6p...|   0|2015-01-03 23:21:18|    2|6AxgBCNX_PNTOxmbR...|  5.0|Loved this tour! ...|     0|r3zeYsv1XFBRA4dJp...|\n",
      "|LHSTtnW3YHCeUkRDG...|   0|2015-08-07 02:29:16|    0|_ZeMknuYdlQcUqng_...|  5.0|Amazingly amazing...|     2|yfFzsLmaWF2d4Sr0U...|\n",
      "|B5XSoSG3SfvQGtKEG...|   0|2016-03-30 22:46:33|    1|ZKvDG2sBvHVdF5oBN...|  3.0|This easter inste...|     1|wSTuiTk-sKNdcFypr...|\n",
      "|gebiRewfieSdtt17P...|   0|2016-07-25 07:31:06|    0|pUycOfUwM8vqX7KjR...|  3.0|Had a party of 6 ...|     0|59MxRhNVhU9MYndMk...|\n",
      "|uMvVYRgGNXf5boolA...|   0|2015-06-21 14:48:06|    0|rGQRf8UafX7OTlMNN...|  5.0|My experience wit...|     2|1WHRWwQmZOZDAhp2Q...|\n",
      "|EQ-TZ2eeD_E0BHuvo...|   0|2015-08-19 14:31:45|    0|l3Wk_mvAog6XANIuG...|  4.0|Locals recommende...|     0|ZbqSHbgCjzVAqaa7N...|\n",
      "|lj-E32x9_FA7GmUrB...|   0|2014-06-27 22:44:01|    0|XW_LfMv0fV21l9c6x...|  4.0|Love going here f...|     0|9OAtfnWag-ajVxRbU...|\n",
      "|RZtGWDLCAtuipwaZ-...|   0|2009-10-14 19:57:14|    0|8JFGBuHMoiNDyfcxu...|  4.0|Good food--loved ...|     0|smOvOajNG0lS4Pq7d...|\n",
      "|otQS34_MymijPTdNB...|   0|2011-10-27 17:12:05|    2|UBp0zWyH60Hmw6Fsa...|  4.0|The bun makes the...|     0|4Uh27DgGzsp6PqrH9...|\n",
      "|BVndHaLihEYbr76Z0...|   0|2014-10-11 16:22:06|    0|OAhBYw8IQ6wlfw1ow...|  5.0|Great place for b...|     0|1C2lxzUo1Hyye4RFI...|\n",
      "|YtSqYv1Q_pOltsVPS...|   0|2013-06-24 11:21:25|    0|oyaMhzBSwfGgemSGu...|  5.0|Tremendous servic...|     0|Dd1jQj7S-BFGqRbAp...|\n",
      "|rBdG_23USc7DletfZ...|   0|2014-08-10 19:41:43|    0|LnGZB0fjfgeVDVz5I...|  4.0|The hubby and I h...|     1|j2wlzrntrbKwyOcOi...|\n",
      "|CLEWowfkj-wKYJlQD...|   1|2016-03-07 00:02:18|    0|u2vzZaOqJ2feRshaa...|  5.0|I go to blow bar ...|     2|NDZvyYHTUWWu-kqgQ...|\n",
      "|eFvzHawVJofxSnD7T...|   0|2014-11-12 15:30:27|    0|Xs8Z8lmKkosqW5mw_...|  5.0|My absolute favor...|     0|IQsF3Rc6IgCzjVV9D...|\n",
      "+--------------------+----+-------------------+-----+--------------------+-----+--------------------+------+--------------------+\n",
      "only showing top 20 rows\n",
      "\n"
     ]
    },
    {
     "name": "stderr",
     "output_type": "stream",
     "text": [
      "                                                                                \r"
     ]
    }
   ],
   "source": [
    "review_test.show()"
   ]
  },
  {
   "cell_type": "code",
   "execution_count": 29,
   "id": "1ef2b532-0124-4631-ba2c-bcd8926d6488",
   "metadata": {},
   "outputs": [
    {
     "name": "stderr",
     "output_type": "stream",
     "text": [
      "                                                                                \r"
     ]
    },
    {
     "data": {
      "text/plain": [
       "6990280"
      ]
     },
     "execution_count": 29,
     "metadata": {},
     "output_type": "execute_result"
    }
   ],
   "source": [
    "review.count()"
   ]
  },
  {
   "cell_type": "code",
   "execution_count": null,
   "id": "90fe59ea-c15e-47f9-b86c-32c73cf13668",
   "metadata": {},
   "outputs": [],
   "source": [
    "review.printSchema()"
   ]
  }
 ],
 "metadata": {
  "kernelspec": {
   "display_name": "Python 3 (ipykernel)",
   "language": "python",
   "name": "python3"
  },
  "language_info": {
   "codemirror_mode": {
    "name": "ipython",
    "version": 3
   },
   "file_extension": ".py",
   "mimetype": "text/x-python",
   "name": "python",
   "nbconvert_exporter": "python",
   "pygments_lexer": "ipython3",
   "version": "3.7.11"
  }
 },
 "nbformat": 4,
 "nbformat_minor": 5
}
