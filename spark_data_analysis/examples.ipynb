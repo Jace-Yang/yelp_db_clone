{
 "cells": [
  {
   "cell_type": "markdown",
   "id": "1678f1a7-f4bb-41f6-965f-9a88e088dc01",
   "metadata": {},
   "source": [
    "**Envionment Setup**"
   ]
  },
  {
   "cell_type": "markdown",
   "id": "f20660a8-cb10-4e6c-b854-526625e23b09",
   "metadata": {},
   "source": [
    "- **Step 0:** Setup a spark cluster. In this tutorial I use [GCP dataproc](https://cloud.google.com/dataproc).\n",
    "\n",
    "    > Setup Guide: [CSEE 4121 2022S HW2 programming](https://csee-4121-2022.github.io/homeworks/hw2.html)"
   ]
  },
  {
   "cell_type": "markdown",
   "id": "2fd11cef-116b-4231-be56-fce2b7f5d480",
   "metadata": {},
   "source": [
    "- **Step 1:** Download dataset from [yelp dataset](https://www.yelp.com/dataset/documentation/main) and upload all json files except the `photos` into a GCP bucket. In this case the bucket name is `coms4111`, and I placed it into a directory that jupyterlab can directly access it through `GCS` folder.\n",
    "\n",
    "    ---\n",
    "\n",
    "    Below step needs to be done every time you create a new cluster\n",
    "\n",
    "    ---"
   ]
  },
  {
   "cell_type": "markdown",
   "id": "c39137f2-579f-42a4-be7a-276036441f72",
   "metadata": {},
   "source": [
    "- **Step 2:** Clone the repository to the cluster's local disk"
   ]
  },
  {
   "cell_type": "code",
   "execution_count": null,
   "id": "21a2b7bf-be2d-4318-a848-83f885c0b56a",
   "metadata": {},
   "outputs": [],
   "source": [
    "!git clone https://github.com/Jace-Yang/yelp_db_clone"
   ]
  },
  {
   "cell_type": "markdown",
   "id": "40d8d680-0c2c-41d1-9be4-903e95592f20",
   "metadata": {},
   "source": [
    "- **Step 3:** Download external package in order to parse XML files: spark-xml with version 2.12-0.14.0 to support Spark 3.1.2 and Scala 2.12."
   ]
  },
  {
   "cell_type": "code",
   "execution_count": 1,
   "id": "70857559-e134-4a9b-86a3-44dcae089040",
   "metadata": {},
   "outputs": [],
   "source": [
    "!sudo hdfs dfs -get gs://csee4121/homework2/spark-xml_2.12-0.14.0.jar /usr/lib/spark/jars/\n",
    "    # Reference: https://csee-4121-2022.github.io/homeworks/hw2.html"
   ]
  },
  {
   "cell_type": "markdown",
   "id": "85096d5e-d737-4564-954c-a2d17126f714",
   "metadata": {},
   "source": [
    "> Note: if you are using multiple GCP dataproc nodes, run `sudo hdfs dfs -get gs://csee4121/homework2/spark-xml_2.12-0.14.0.jar /usr/lib/spark/jars/` on every worker VM machines by SSH them."
   ]
  },
  {
   "cell_type": "markdown",
   "id": "06314524-2185-4a94-a202-396ed6a7bd80",
   "metadata": {},
   "source": [
    "- **Step 4:** Move data from GS into a HDFS directory every time you create a new cluster. We do this by moving data into the local disk first, then to HDFS!"
   ]
  },
  {
   "cell_type": "code",
   "execution_count": 2,
   "id": "1454a696-4f01-428a-a72d-81139a4ec724",
   "metadata": {},
   "outputs": [
    {
     "name": "stdout",
     "output_type": "stream",
     "text": [
      "Copying gs://coms4111/notebooks/jupyter/data/yelp_academic_dataset_business.json...\n",
      "Copying gs://coms4111/notebooks/jupyter/data/yelp_academic_dataset_checkin.json...\n",
      "Copying gs://coms4111/notebooks/jupyter/data/yelp_academic_dataset_review.json...\n",
      "Copying gs://coms4111/notebooks/jupyter/data/yelp_academic_dataset_tip.json...  \n",
      "| [4 files][  5.5 GiB/  5.5 GiB]   74.2 MiB/s                                   \n",
      "==> NOTE: You are performing a sequence of gsutil operations that may\n",
      "run significantly faster if you instead use gsutil -m cp ... Please\n",
      "see the -m section under \"gsutil help options\" for further information\n",
      "about when gsutil -m can be advantageous.\n",
      "\n",
      "Copying gs://coms4111/notebooks/jupyter/data/yelp_academic_dataset_user.json...\n",
      "/ [5 files][  8.6 GiB/  8.6 GiB]  101.8 MiB/s                                   \n",
      "Operation completed over 5 objects/8.6 GiB.                                      \n"
     ]
    }
   ],
   "source": [
    "# Gs -> Local\n",
    "!mkdir yelp_db_clone/data/\n",
    "!gsutil cp gs://coms4111/notebooks/jupyter/data/*.json file:///yelp_db_clone/data/"
   ]
  },
  {
   "cell_type": "code",
   "execution_count": 3,
   "id": "7c1c8b21-d60b-488c-a0a9-ec8ca6b33a3b",
   "metadata": {},
   "outputs": [],
   "source": [
    "# Local -> HDFS\n",
    "!hdfs dfs -cp -f file:///yelp_db_clone/data/* hdfs:///user/dataproc/"
   ]
  },
  {
   "cell_type": "code",
   "execution_count": 4,
   "id": "21c91e49-4560-41fb-a7fe-4fc870a5830d",
   "metadata": {},
   "outputs": [
    {
     "name": "stdout",
     "output_type": "stream",
     "text": [
      "Found 5 items\n",
      "-rw-r--r--   1 root hadoop  118863795 2022-05-05 14:28 hdfs:///user/dataproc/yelp_academic_dataset_business.json\n",
      "-rw-r--r--   1 root hadoop  286958945 2022-05-05 14:28 hdfs:///user/dataproc/yelp_academic_dataset_checkin.json\n",
      "-rw-r--r--   1 root hadoop 5341868833 2022-05-05 14:28 hdfs:///user/dataproc/yelp_academic_dataset_review.json\n",
      "-rw-r--r--   1 root hadoop  180604475 2022-05-05 14:28 hdfs:///user/dataproc/yelp_academic_dataset_tip.json\n",
      "-rw-r--r--   1 root hadoop 3363329011 2022-05-05 14:29 hdfs:///user/dataproc/yelp_academic_dataset_user.json\n"
     ]
    }
   ],
   "source": [
    "# Check whether data is now in HDFS!\n",
    "!hdfs dfs -ls hdfs:///user/dataproc/"
   ]
  },
  {
   "cell_type": "markdown",
   "id": "6b5d2c5f-3466-42f2-8f8f-b47675935cb1",
   "metadata": {},
   "source": [
    "## Tutorial"
   ]
  },
  {
   "cell_type": "markdown",
   "id": "4fb6c1b2-93c4-4929-8c23-bdece75516e0",
   "metadata": {},
   "source": [
    "### Examples"
   ]
  },
  {
   "cell_type": "code",
   "execution_count": 1,
   "id": "2c873dcf-a803-445f-80a3-5ff96e9fd958",
   "metadata": {},
   "outputs": [],
   "source": [
    "import pyspark\n",
    "import pyspark.sql.functions as F\n",
    "from pyspark.sql.functions import col\n",
    "from pyspark.sql.window import Window"
   ]
  },
  {
   "cell_type": "markdown",
   "id": "813b034b-98a7-45c8-b44a-87c8a305d73f",
   "metadata": {},
   "source": [
    "- Sometimes I get tired and use `from pyspark.sql.functions import *`"
   ]
  },
  {
   "cell_type": "markdown",
   "id": "534fef49-eb7f-4591-99ca-af4ba6e06868",
   "metadata": {},
   "source": [
    "#### Get a spark session"
   ]
  },
  {
   "cell_type": "code",
   "execution_count": 2,
   "id": "8dd888f2-4e88-4318-909d-c11f19e30953",
   "metadata": {},
   "outputs": [
    {
     "name": "stderr",
     "output_type": "stream",
     "text": [
      "Setting default log level to \"WARN\".\n",
      "To adjust logging level use sc.setLogLevel(newLevel). For SparkR, use setLogLevel(newLevel).\n",
      "22/05/05 22:17:30 INFO org.apache.spark.SparkEnv: Registering MapOutputTracker\n",
      "22/05/05 22:17:30 INFO org.apache.spark.SparkEnv: Registering BlockManagerMaster\n",
      "22/05/05 22:17:31 INFO org.apache.spark.SparkEnv: Registering BlockManagerMasterHeartbeat\n",
      "22/05/05 22:17:31 INFO org.apache.spark.SparkEnv: Registering OutputCommitCoordinator\n"
     ]
    }
   ],
   "source": [
    "from pyspark.sql import SparkSession\n",
    "spark = SparkSession.builder.getOrCreate()"
   ]
  },
  {
   "cell_type": "markdown",
   "id": "4dd4ad24-1bb3-4122-9385-71e90ee403a1",
   "metadata": {},
   "source": [
    "#### Read Data & Print Schema"
   ]
  },
  {
   "cell_type": "code",
   "execution_count": 3,
   "id": "622cc42f-af2e-4ab9-b354-63d75eb36479",
   "metadata": {},
   "outputs": [
    {
     "name": "stderr",
     "output_type": "stream",
     "text": [
      "[Stage 0:======================================================>  (38 + 2) / 40]\r"
     ]
    },
    {
     "name": "stdout",
     "output_type": "stream",
     "text": [
      "root\n",
      " |-- business_id: string (nullable = true)\n",
      " |-- cool: long (nullable = true)\n",
      " |-- date: string (nullable = true)\n",
      " |-- funny: long (nullable = true)\n",
      " |-- review_id: string (nullable = true)\n",
      " |-- stars: double (nullable = true)\n",
      " |-- text: string (nullable = true)\n",
      " |-- useful: long (nullable = true)\n",
      " |-- user_id: string (nullable = true)\n",
      "\n"
     ]
    },
    {
     "name": "stderr",
     "output_type": "stream",
     "text": [
      "                                                                                \r"
     ]
    }
   ],
   "source": [
    "review = spark.read.json('hdfs:///user/dataproc/yelp_academic_dataset_review.json')\n",
    "review.printSchema()"
   ]
  },
  {
   "cell_type": "code",
   "execution_count": 4,
   "id": "13859699-634a-45d9-bbdb-395ee9c74605",
   "metadata": {},
   "outputs": [
    {
     "name": "stdout",
     "output_type": "stream",
     "text": [
      "root\n",
      " |-- address: string (nullable = true)\n",
      " |-- attributes: struct (nullable = true)\n",
      " |    |-- AcceptsInsurance: string (nullable = true)\n",
      " |    |-- AgesAllowed: string (nullable = true)\n",
      " |    |-- Alcohol: string (nullable = true)\n",
      " |    |-- Ambience: string (nullable = true)\n",
      " |    |-- BYOB: string (nullable = true)\n",
      " |    |-- BYOBCorkage: string (nullable = true)\n",
      " |    |-- BestNights: string (nullable = true)\n",
      " |    |-- BikeParking: string (nullable = true)\n",
      " |    |-- BusinessAcceptsBitcoin: string (nullable = true)\n",
      " |    |-- BusinessAcceptsCreditCards: string (nullable = true)\n",
      " |    |-- BusinessParking: string (nullable = true)\n",
      " |    |-- ByAppointmentOnly: string (nullable = true)\n",
      " |    |-- Caters: string (nullable = true)\n",
      " |    |-- CoatCheck: string (nullable = true)\n",
      " |    |-- Corkage: string (nullable = true)\n",
      " |    |-- DietaryRestrictions: string (nullable = true)\n",
      " |    |-- DogsAllowed: string (nullable = true)\n",
      " |    |-- DriveThru: string (nullable = true)\n",
      " |    |-- GoodForDancing: string (nullable = true)\n",
      " |    |-- GoodForKids: string (nullable = true)\n",
      " |    |-- GoodForMeal: string (nullable = true)\n",
      " |    |-- HairSpecializesIn: string (nullable = true)\n",
      " |    |-- HappyHour: string (nullable = true)\n",
      " |    |-- HasTV: string (nullable = true)\n",
      " |    |-- Music: string (nullable = true)\n",
      " |    |-- NoiseLevel: string (nullable = true)\n",
      " |    |-- Open24Hours: string (nullable = true)\n",
      " |    |-- OutdoorSeating: string (nullable = true)\n",
      " |    |-- RestaurantsAttire: string (nullable = true)\n",
      " |    |-- RestaurantsCounterService: string (nullable = true)\n",
      " |    |-- RestaurantsDelivery: string (nullable = true)\n",
      " |    |-- RestaurantsGoodForGroups: string (nullable = true)\n",
      " |    |-- RestaurantsPriceRange2: string (nullable = true)\n",
      " |    |-- RestaurantsReservations: string (nullable = true)\n",
      " |    |-- RestaurantsTableService: string (nullable = true)\n",
      " |    |-- RestaurantsTakeOut: string (nullable = true)\n",
      " |    |-- Smoking: string (nullable = true)\n",
      " |    |-- WheelchairAccessible: string (nullable = true)\n",
      " |    |-- WiFi: string (nullable = true)\n",
      " |-- business_id: string (nullable = true)\n",
      " |-- categories: string (nullable = true)\n",
      " |-- city: string (nullable = true)\n",
      " |-- hours: struct (nullable = true)\n",
      " |    |-- Friday: string (nullable = true)\n",
      " |    |-- Monday: string (nullable = true)\n",
      " |    |-- Saturday: string (nullable = true)\n",
      " |    |-- Sunday: string (nullable = true)\n",
      " |    |-- Thursday: string (nullable = true)\n",
      " |    |-- Tuesday: string (nullable = true)\n",
      " |    |-- Wednesday: string (nullable = true)\n",
      " |-- is_open: long (nullable = true)\n",
      " |-- latitude: double (nullable = true)\n",
      " |-- longitude: double (nullable = true)\n",
      " |-- name: string (nullable = true)\n",
      " |-- postal_code: string (nullable = true)\n",
      " |-- review_count: long (nullable = true)\n",
      " |-- stars: double (nullable = true)\n",
      " |-- state: string (nullable = true)\n",
      "\n"
     ]
    },
    {
     "name": "stderr",
     "output_type": "stream",
     "text": [
      "22/05/05 22:17:49 WARN org.apache.spark.sql.catalyst.util.package: Truncated the string representation of a plan since it was too large. This behavior can be adjusted by setting 'spark.sql.debug.maxToStringFields'.\n"
     ]
    }
   ],
   "source": [
    "business = spark.read.json('hdfs:///user/dataproc/yelp_academic_dataset_business.json')\n",
    "business.printSchema()"
   ]
  },
  {
   "cell_type": "markdown",
   "id": "6190e1da-cbb6-4614-bd45-c8c1dc5fcbee",
   "metadata": {},
   "source": [
    "- Here we see that spark allows semi-structure! The data like\n",
    "    ```\n",
    "    \"hours\": {\n",
    "        \"Monday\": \"10:00-21:00\",\n",
    "        \"Tuesday\": \"10:00-21:00\",\n",
    "        \"Friday\": \"10:00-21:00\",\n",
    "        \"Wednesday\": \"10:00-21:00\",\n",
    "        \"Thursday\": \"10:00-21:00\",\n",
    "        \"Sunday\": \"11:00-18:00\",\n",
    "        \"Saturday\": \"10:00-21:00\"\n",
    "    }\n",
    "    ```\n",
    "    has now been converted to a structure type automatically!"
   ]
  },
  {
   "cell_type": "code",
   "execution_count": 5,
   "id": "74878db6-1908-4dbb-a768-cce1a8bec6f7",
   "metadata": {},
   "outputs": [
    {
     "name": "stderr",
     "output_type": "stream",
     "text": [
      "[Stage 2:=======================================================> (39 + 1) / 40]\r"
     ]
    },
    {
     "name": "stdout",
     "output_type": "stream",
     "text": [
      "root\n",
      " |-- average_stars: double (nullable = true)\n",
      " |-- compliment_cool: long (nullable = true)\n",
      " |-- compliment_cute: long (nullable = true)\n",
      " |-- compliment_funny: long (nullable = true)\n",
      " |-- compliment_hot: long (nullable = true)\n",
      " |-- compliment_list: long (nullable = true)\n",
      " |-- compliment_more: long (nullable = true)\n",
      " |-- compliment_note: long (nullable = true)\n",
      " |-- compliment_photos: long (nullable = true)\n",
      " |-- compliment_plain: long (nullable = true)\n",
      " |-- compliment_profile: long (nullable = true)\n",
      " |-- compliment_writer: long (nullable = true)\n",
      " |-- cool: long (nullable = true)\n",
      " |-- elite: string (nullable = true)\n",
      " |-- fans: long (nullable = true)\n",
      " |-- friends: string (nullable = true)\n",
      " |-- funny: long (nullable = true)\n",
      " |-- name: string (nullable = true)\n",
      " |-- review_count: long (nullable = true)\n",
      " |-- useful: long (nullable = true)\n",
      " |-- user_id: string (nullable = true)\n",
      " |-- yelping_since: string (nullable = true)\n",
      "\n"
     ]
    },
    {
     "name": "stderr",
     "output_type": "stream",
     "text": [
      "                                                                                \r"
     ]
    }
   ],
   "source": [
    "user = spark.read.json('hdfs:///user/dataproc/yelp_academic_dataset_user.json')\n",
    "user.printSchema()"
   ]
  },
  {
   "cell_type": "markdown",
   "id": "935d1607-ecc9-4689-8ed1-5d49a7d21ace",
   "metadata": {},
   "source": [
    "#### Filtering / Group By\n"
   ]
  },
  {
   "cell_type": "markdown",
   "id": "3c58fc23-09dd-4524-b6af-41458ad5cec0",
   "metadata": {},
   "source": [
    "We only care about those restaurants that are still open! So let's do a filtering first."
   ]
  },
  {
   "cell_type": "code",
   "execution_count": 6,
   "id": "c22bbf82-2df4-4d42-aa72-a61e142a40aa",
   "metadata": {},
   "outputs": [
    {
     "data": {
      "text/plain": [
       "119698"
      ]
     },
     "execution_count": 6,
     "metadata": {},
     "output_type": "execute_result"
    }
   ],
   "source": [
    "business = business.filter(col('is_open')==1)\n",
    "business.count()"
   ]
  },
  {
   "cell_type": "code",
   "execution_count": 7,
   "id": "baad2906-25e9-4f0e-8855-0edc2fe6e834",
   "metadata": {},
   "outputs": [
    {
     "name": "stdout",
     "output_type": "stream",
     "text": [
      "+-----+-----+\n",
      "|state|count|\n",
      "+-----+-----+\n",
      "|   AZ| 8108|\n",
      "|   LA| 7676|\n",
      "|   NJ| 7031|\n",
      "|   MI|    1|\n",
      "|   NV| 6277|\n",
      "|   ID| 3783|\n",
      "|   CA| 4065|\n",
      "|   VT|    1|\n",
      "|   DE| 1894|\n",
      "|   MO| 8363|\n",
      "|   IL| 1765|\n",
      "|   WA|    2|\n",
      "|  XMS|    1|\n",
      "|   IN| 8946|\n",
      "|   TN| 9600|\n",
      "|   PA|26289|\n",
      "|   SD|    1|\n",
      "|   AB| 4346|\n",
      "|   TX|    4|\n",
      "|   MA|    2|\n",
      "+-----+-----+\n",
      "only showing top 20 rows\n",
      "\n"
     ]
    }
   ],
   "source": [
    "business.groupby('state').count().show()"
   ]
  },
  {
   "cell_type": "code",
   "execution_count": 8,
   "id": "7214bba8-e866-4dfa-9a9b-a92c6fcced72",
   "metadata": {},
   "outputs": [],
   "source": [
    "business = business \\\n",
    "    .groupby('state') \\\n",
    "    .count() \\\n",
    "    .filter(col('count') > 10).drop('count') \\\n",
    "    .join(business, on='state') "
   ]
  },
  {
   "cell_type": "markdown",
   "id": "1c4b05fa-1512-4a30-8e2a-1905c1b23555",
   "metadata": {},
   "source": [
    "#### Dealing with semi-stuctural data"
   ]
  },
  {
   "cell_type": "markdown",
   "id": "47840135-8176-406c-a477-5b712757bbb7",
   "metadata": {},
   "source": [
    "The way we select those semi-stuctural columns that have been automatically infered is easy!"
   ]
  },
  {
   "cell_type": "code",
   "execution_count": 9,
   "id": "f713ca3d-70ff-4f63-b158-3eda30afc9c5",
   "metadata": {},
   "outputs": [
    {
     "name": "stdout",
     "output_type": "stream",
     "text": [
      "+--------------------+-------------------+-------+----------------------+\n",
      "|                name|RestaurantsDelivery|   Wifi|BusinessAcceptsBitcoin|\n",
      "+--------------------+-------------------+-------+----------------------+\n",
      "|       The UPS Store|               null|   null|                  null|\n",
      "|  St Honore Pastries|              False|u'free'|                  null|\n",
      "|Perkiomen Valley ...|               null|   null|                  null|\n",
      "|      Sonic Drive-In|               True|  u'no'|                  null|\n",
      "|     Famous Footwear|               null|   null|                  null|\n",
      "|      Temple Beth-El|               null|   null|                  null|\n",
      "|      Sonic Drive-In|               True|  u'no'|                  null|\n",
      "|           Marshalls|               null|   null|                  null|\n",
      "|Vietnamese Food T...|               null|   null|                  null|\n",
      "|             Denny's|               True|  u'no'|                  null|\n",
      "+--------------------+-------------------+-------+----------------------+\n",
      "only showing top 10 rows\n",
      "\n"
     ]
    }
   ],
   "source": [
    "business.select('name', 'attributes.RestaurantsDelivery', 'attributes.Wifi', 'attributes.BusinessAcceptsBitcoin').show(10)"
   ]
  },
  {
   "cell_type": "markdown",
   "id": "efd1721b-debf-46a1-9dcd-860f6a0cf3d8",
   "metadata": {},
   "source": [
    "- Hey, whats wrong with bitcoin!"
   ]
  },
  {
   "cell_type": "markdown",
   "id": "d2ad9d36-2af9-47e7-9984-dbd01903206f",
   "metadata": {},
   "source": [
    "However we also have a column that is not!"
   ]
  },
  {
   "cell_type": "code",
   "execution_count": 10,
   "id": "8090521f-935f-4d7e-86a4-921a1f5c4831",
   "metadata": {},
   "outputs": [
    {
     "name": "stdout",
     "output_type": "stream",
     "text": [
      "+----------------------+------------------------------------------------------------------------------+\n",
      "|           business_id|                                                                    categories|\n",
      "+----------------------+------------------------------------------------------------------------------+\n",
      "|mpf3x-BjTdTEA3yCZrAYPw|Shipping Centers, Local Services, Notaries, Mailbox Centers, Printing Services|\n",
      "|MTSW4McQd7CbVtyjqoe9mw|                         Restaurants, Food, Bubble Tea, Coffee & Tea, Bakeries|\n",
      "|mWMc6_wTdE0EUBKIGXDVfA|                                                     Brewpubs, Breweries, Food|\n",
      "|CF33F8-E6oudUQ46HnavjQ|  Burgers, Fast Food, Sandwiches, Food, Ice Cream & Frozen Yogurt, Restaurants|\n",
      "|n_0UpQx1hsNbnPUSlodU8w|      Sporting Goods, Fashion, Shoe Stores, Shopping, Sports Wear, Accessories|\n",
      "|qkRM_2X51Yqxk3btlwAQIg|                                           Synagogues, Religious Organizations|\n",
      "|bBDDEgkFA1Otx9Lfe7BZUQ|              Ice Cream & Frozen Yogurt, Fast Food, Burgers, Restaurants, Food|\n",
      "|UJsufbvfyfONHeWdvAHKjA|                                          Department Stores, Shopping, Fashion|\n",
      "|eEOYSgkmpB90uNA7lDOMRA|                                    Vietnamese, Food, Restaurants, Food Trucks|\n",
      "|il_Ro8jwPlHresjw9EGmBg|               American (Traditional), Restaurants, Diners, Breakfast & Brunch|\n",
      "|jaxMSoInw8Poo3XeMJt8lQ|              General Dentistry, Dentists, Health & Medical, Cosmetic Dentists|\n",
      "|MUTTqe8uqyMdBl186RmNeA|                                             Sushi Bars, Restaurants, Japanese|\n",
      "|rBmpy_Y1UbBx8ggHlyb7hA|                         Automotive, Auto Parts & Supplies, Auto Customization|\n",
      "|M0XSSHqrASOnhgbWDJIpQA|Vape Shops, Tobacco Shops, Personal Shopping, Vitamins & Supplements, Shopping|\n",
      "|8wGISYjYkE2tSqn3cDMu8A|                         Automotive, Car Rental, Hotels & Travel, Truck Rental|\n",
      "|ROeacJQwBeh05Rqg7F6TCg|                                                           Korean, Restaurants|\n",
      "|qhDdDeI3K4jy2KyzwFN53w|                              Shopping, Books, Mags, Music & Video, Bookstores|\n",
      "|kfNv-JZpuN6TVNSO6hHdkw|                                        Steakhouses, Asian Fusion, Restaurants|\n",
      "|9OG5YkX1g2GReZM0AskizA|                                                          Restaurants, Italian|\n",
      "|PSo_C1Sfa13JHjzVNW6ziQ|                               Pet Services, Pet Groomers, Pets, Veterinarians|\n",
      "+----------------------+------------------------------------------------------------------------------+\n",
      "only showing top 20 rows\n",
      "\n"
     ]
    }
   ],
   "source": [
    "business.select('business_id', 'categories').show(truncate = 100)"
   ]
  },
  {
   "cell_type": "code",
   "execution_count": 11,
   "id": "ae66d55c-9adb-4b89-884d-d463145ddd87",
   "metadata": {},
   "outputs": [],
   "source": [
    "def split_trim(categories_strings):\n",
    "    '''\n",
    "    Examples\n",
    "    --------\n",
    "    >>> split_trim('Ice Cream & Frozen Yogurt, Fast Food, Burgers, Restaurants, Food')\n",
    "    ['Ice Cream & Frozen Yogurt', 'Fast Food', 'Burgers', 'Restaurants', 'Food']\n",
    "    '''\n",
    "    categories = categories_strings.split(', ')\n",
    "    return categories"
   ]
  },
  {
   "cell_type": "code",
   "execution_count": 12,
   "id": "8a2b5aae-a6db-4af2-a54b-9d58667b5d78",
   "metadata": {},
   "outputs": [
    {
     "name": "stdout",
     "output_type": "stream",
     "text": [
      "+----------------------+------------------------------------------------------------------------------+-----------------+\n",
      "|           business_id|                                                                    categories|         category|\n",
      "+----------------------+------------------------------------------------------------------------------+-----------------+\n",
      "|mpf3x-BjTdTEA3yCZrAYPw|Shipping Centers, Local Services, Notaries, Mailbox Centers, Printing Services| Shipping Centers|\n",
      "|mpf3x-BjTdTEA3yCZrAYPw|Shipping Centers, Local Services, Notaries, Mailbox Centers, Printing Services|   Local Services|\n",
      "|mpf3x-BjTdTEA3yCZrAYPw|Shipping Centers, Local Services, Notaries, Mailbox Centers, Printing Services|         Notaries|\n",
      "|mpf3x-BjTdTEA3yCZrAYPw|Shipping Centers, Local Services, Notaries, Mailbox Centers, Printing Services|  Mailbox Centers|\n",
      "|mpf3x-BjTdTEA3yCZrAYPw|Shipping Centers, Local Services, Notaries, Mailbox Centers, Printing Services|Printing Services|\n",
      "|MTSW4McQd7CbVtyjqoe9mw|                         Restaurants, Food, Bubble Tea, Coffee & Tea, Bakeries|      Restaurants|\n",
      "|MTSW4McQd7CbVtyjqoe9mw|                         Restaurants, Food, Bubble Tea, Coffee & Tea, Bakeries|             Food|\n",
      "|MTSW4McQd7CbVtyjqoe9mw|                         Restaurants, Food, Bubble Tea, Coffee & Tea, Bakeries|       Bubble Tea|\n",
      "|MTSW4McQd7CbVtyjqoe9mw|                         Restaurants, Food, Bubble Tea, Coffee & Tea, Bakeries|     Coffee & Tea|\n",
      "|MTSW4McQd7CbVtyjqoe9mw|                         Restaurants, Food, Bubble Tea, Coffee & Tea, Bakeries|         Bakeries|\n",
      "+----------------------+------------------------------------------------------------------------------+-----------------+\n",
      "only showing top 10 rows\n",
      "\n"
     ]
    }
   ],
   "source": [
    "business.select('business_id', 'categories') \\\n",
    "    .withColumn('category', F.explode(F.split(col(\"categories\"), \", \"))) \\\n",
    "    .show(10, truncate = 200)"
   ]
  },
  {
   "cell_type": "code",
   "execution_count": 13,
   "id": "0765ea1c-a148-46c2-8a17-a53fa429fa01",
   "metadata": {},
   "outputs": [],
   "source": [
    "# Keep a mapping table\n",
    "business_category = business.select('business_id', 'categories') \\\n",
    "    .withColumn('category', F.explode(F.split(col(\"categories\"), \", \"))) \\\n",
    "    .drop('categories')"
   ]
  },
  {
   "cell_type": "code",
   "execution_count": 14,
   "id": "48d84e7e-eaca-4b7c-b990-9bb1924e6a4f",
   "metadata": {},
   "outputs": [
    {
     "name": "stderr",
     "output_type": "stream",
     "text": [
      "[Stage 28:================================>                       (17 + 8) / 29]\r"
     ]
    },
    {
     "name": "stdout",
     "output_type": "stream",
     "text": [
      "+-------------------------+-----+\n",
      "|                 category|count|\n",
      "+-------------------------+-----+\n",
      "|              Restaurants|34985|\n",
      "|                     Food|20418|\n",
      "|                 Shopping|20184|\n",
      "|            Home Services|13319|\n",
      "|            Beauty & Spas|12259|\n",
      "|         Health & Medical|11044|\n",
      "|           Local Services|10137|\n",
      "|               Automotive| 9876|\n",
      "|                Nightlife| 8379|\n",
      "|Event Planning & Services| 8171|\n",
      "|                     Bars| 7528|\n",
      "|              Active Life| 6495|\n",
      "|               Sandwiches| 6075|\n",
      "|   American (Traditional)| 5531|\n",
      "|                Fast Food| 5516|\n",
      "|          Hotels & Travel| 5123|\n",
      "|                    Pizza| 5089|\n",
      "|            Home & Garden| 5021|\n",
      "|              Auto Repair| 5001|\n",
      "|             Coffee & Tea| 4954|\n",
      "+-------------------------+-----+\n",
      "only showing top 20 rows\n",
      "\n"
     ]
    },
    {
     "name": "stderr",
     "output_type": "stream",
     "text": [
      "                                                                                \r"
     ]
    }
   ],
   "source": [
    "business_category.groupby('category') \\\n",
    "    .count() \\\n",
    "    .sort(col('count').desc()) \\\n",
    "    .show(20, truncate = 50)"
   ]
  },
  {
   "cell_type": "markdown",
   "id": "c317c307-af49-42b9-b9fc-57cbe3aaddb6",
   "metadata": {},
   "source": [
    "#### Join"
   ]
  },
  {
   "cell_type": "markdown",
   "id": "d89dd1a8-4f1c-4e86-9279-c1be9db1f539",
   "metadata": {},
   "source": [
    "Functional dependency"
   ]
  },
  {
   "cell_type": "code",
   "execution_count": 15,
   "id": "1ef2b532-0124-4631-ba2c-bcd8926d6488",
   "metadata": {},
   "outputs": [
    {
     "name": "stdout",
     "output_type": "stream",
     "text": [
      "CPU times: user 3.5 ms, sys: 1.63 ms, total: 5.14 ms\n",
      "Wall time: 39.5 ms\n"
     ]
    }
   ],
   "source": [
    "%%time \n",
    "review_wide = review.join(business.select('business_id', \n",
    "                                          col('name').alias('biz_name'), \n",
    "                                          'attributes.RestaurantsTakeOut', \n",
    "                                          'categories',\n",
    "                                          'is_open'),\n",
    "                          on='business_id',\n",
    "                          how='inner') \\\n",
    "                     .join(user.select('user_id', \n",
    "                                      col('name').alias('user_name'), \n",
    "                                      'fans', \n",
    "                                      'yelping_since'),\n",
    "                          on='user_id',\n",
    "                          how='inner')"
   ]
  },
  {
   "cell_type": "markdown",
   "id": "ba370703-95b4-4804-b996-945b26829cfe",
   "metadata": {},
   "source": [
    "- Wait! That fast for this huge join??"
   ]
  },
  {
   "cell_type": "code",
   "execution_count": 16,
   "id": "23d0eef8-358e-4e12-88b6-944f55425e9f",
   "metadata": {},
   "outputs": [
    {
     "name": "stderr",
     "output_type": "stream",
     "text": [
      "[Stage 45:>                                                       (0 + 37) / 40]\r"
     ]
    },
    {
     "name": "stdout",
     "output_type": "stream",
     "text": [
      "CPU times: user 11.5 ms, sys: 1.63 ms, total: 13.1 ms\n",
      "Wall time: 7.52 s\n"
     ]
    },
    {
     "name": "stderr",
     "output_type": "stream",
     "text": [
      "                                                                                \r"
     ]
    },
    {
     "data": {
      "text/plain": [
       "5790989"
      ]
     },
     "execution_count": 16,
     "metadata": {},
     "output_type": "execute_result"
    }
   ],
   "source": [
    "%%time \n",
    "review_wide.count()"
   ]
  },
  {
   "cell_type": "markdown",
   "id": "3c2f7bd6-d73f-426a-a142-be8316b5dd94",
   "metadata": {},
   "source": [
    "- But why so slow for counting! Aha, this is because they need to execute the delayed join as well due to the lazy commit!"
   ]
  },
  {
   "cell_type": "code",
   "execution_count": 17,
   "id": "79b4987f-50b2-49c1-ad66-b4e2cbc3ef5f",
   "metadata": {},
   "outputs": [
    {
     "name": "stdout",
     "output_type": "stream",
     "text": [
      "CPU times: user 1.72 ms, sys: 540 µs, total: 2.26 ms\n",
      "Wall time: 73.6 ms\n"
     ]
    }
   ],
   "source": [
    "%%time\n",
    "# But we can explictly tell DB to store it in memory\n",
    "review_wide = review_wide.persist(pyspark.StorageLevel.MEMORY_ONLY)"
   ]
  },
  {
   "cell_type": "markdown",
   "id": "63ab1ade-83b2-4da0-b69e-a9bbd9fbc228",
   "metadata": {},
   "source": [
    "- But again, the DB is doing nothing.."
   ]
  },
  {
   "cell_type": "code",
   "execution_count": 18,
   "id": "5692e980-257c-44c0-8ba6-2c9a5bb1ad59",
   "metadata": {},
   "outputs": [
    {
     "name": "stderr",
     "output_type": "stream",
     "text": [
      "[Stage 56:================================================>    (184 + 16) / 200]\r"
     ]
    },
    {
     "name": "stdout",
     "output_type": "stream",
     "text": [
      "CPU times: user 23.4 ms, sys: 13 ms, total: 36.4 ms\n",
      "Wall time: 18.8 s\n"
     ]
    },
    {
     "name": "stderr",
     "output_type": "stream",
     "text": [
      "                                                                                \r"
     ]
    },
    {
     "data": {
      "text/plain": [
       "5790989"
      ]
     },
     "execution_count": 18,
     "metadata": {},
     "output_type": "execute_result"
    }
   ],
   "source": [
    "%%time \n",
    "# Lets count!\n",
    "review_wide.count()"
   ]
  },
  {
   "cell_type": "markdown",
   "id": "78e8fc4f-4838-47de-9b32-8b66659a077a",
   "metadata": {},
   "source": [
    "- This command is still taking even longer! Because this time it runs the Join and keep it in the memory"
   ]
  },
  {
   "cell_type": "code",
   "execution_count": 19,
   "id": "290ff639-c323-4709-b470-768ef2a077f6",
   "metadata": {},
   "outputs": [
    {
     "name": "stdout",
     "output_type": "stream",
     "text": [
      "CPU times: user 1.38 ms, sys: 642 µs, total: 2.02 ms\n",
      "Wall time: 384 ms\n"
     ]
    },
    {
     "data": {
      "text/plain": [
       "5790989"
      ]
     },
     "execution_count": 19,
     "metadata": {},
     "output_type": "execute_result"
    }
   ],
   "source": [
    "%%time \n",
    "# Now, this command is getting much more faster!\n",
    "review_wide.count()"
   ]
  },
  {
   "cell_type": "markdown",
   "id": "5fe12c96-06bf-4fc7-9a9a-7fc17df11e2c",
   "metadata": {},
   "source": [
    "- And finally!! Counting 6m+ rows in 1~1.5 seconds! Totally fine to me!\n",
    "\n",
    "- Now there are 2 shotcuts I figured out to do caching\n",
    "\n",
    "    - `df = df.rdd.toDF()` will enforce df to because the transformation need to run through all the pending query\n",
    "    \n",
    "    - `df = df.cache(); df.count()` will perform MEMORY_OR_DISK caching!"
   ]
  },
  {
   "cell_type": "code",
   "execution_count": 20,
   "id": "6b7c8ffc-1b1b-466d-8c48-128a5cb788e6",
   "metadata": {},
   "outputs": [
    {
     "name": "stdout",
     "output_type": "stream",
     "text": [
      "+--------------------+--------------------+----+-------------------+-----+--------------------+-----+--------------------+------+--------------------+------------------+--------------------+-------+---------+----+-------------------+\n",
      "|             user_id|         business_id|cool|               date|funny|           review_id|stars|                text|useful|            biz_name|RestaurantsTakeOut|          categories|is_open|user_name|fans|      yelping_since|\n",
      "+--------------------+--------------------+----+-------------------+-----+--------------------+-----+--------------------+------+--------------------+------------------+--------------------+-------+---------+----+-------------------+\n",
      "|--RJK834fiQXm21Vp...|aIoUwpy5ZFQXUDxWM...|   0|2019-08-25 23:17:52|    0|QPF7spAqCc-D81GeX...|  1.0|There are new own...|     0|     Pete & Shorty's|              True|Seafood, Diners, ...|      1|    Renee|   0|2018-02-04 20:34:16|\n",
      "|--UhENQdbuWEh0mU5...|K_s-9Wd6vXSfnxYFz...|   1|2017-08-06 02:42:02|    1|dghJt1TSuyFkmLddu...|  5.0|When im first arr...|     0|Kei Sushi Restaurant|              True|Sushi Bars, Resta...|      1|    Sonny|   0|2017-06-19 18:37:56|\n",
      "|--cxdcv_b9uhAKsKT...|oD3zBLplcYefdMHo5...|   0|2019-11-01 22:04:32|    0|VNT1ymOYUuWC-qxdI...|  4.0|This is definitel...|     0|  Garden Farm Market|              True|Fruits & Veggies,...|      1|   Cheryl|   0|2014-02-08 01:13:06|\n",
      "|-0EzgKMI9ZakqLiWR...|P0BB_HeVN-M8D31yt...|   0|2019-03-28 21:38:52|    0|ILPE_Jjrqu_DICC7R...|  5.0|Dr. Exelby and Mi...|     0|Rainbow Veterinar...|              null|Pet Services, Vet...|      1|   Joseph|   0|2018-01-03 21:31:49|\n",
      "|-0EzgKMI9ZakqLiWR...|6aPXOXi8h1m58hihg...|   0|2018-07-18 13:04:59|    0|C74fnh5gpnH2cgbHT...|  5.0|If you're looking...|     0| Old Northeast Pizza|              True|Pizza, Restaurant...|      1|   Joseph|   0|2018-01-03 21:31:49|\n",
      "+--------------------+--------------------+----+-------------------+-----+--------------------+-----+--------------------+------+--------------------+------------------+--------------------+-------+---------+----+-------------------+\n",
      "only showing top 5 rows\n",
      "\n"
     ]
    }
   ],
   "source": [
    "review_wide.show(5)"
   ]
  },
  {
   "cell_type": "markdown",
   "id": "b3c7f285-ea73-4eb0-93ee-a21dd53b751e",
   "metadata": {
    "tags": []
   },
   "source": [
    "### Tutorials"
   ]
  },
  {
   "cell_type": "markdown",
   "id": "8b853c21-06e8-4172-b718-3861447473c0",
   "metadata": {},
   "source": [
    "To better help you know how spark works. I intentially come up with some super complex query on my own (hope it makes sense to you guys)!"
   ]
  },
  {
   "cell_type": "markdown",
   "id": "616ece5e-e480-4827-b0c5-fb96719f0150",
   "metadata": {},
   "source": [
    "#### Top 5 specific categories in each state?"
   ]
  },
  {
   "cell_type": "code",
   "execution_count": 21,
   "id": "8e6ee3df-307a-4fff-b335-d43574c1f066",
   "metadata": {},
   "outputs": [
    {
     "name": "stderr",
     "output_type": "stream",
     "text": [
      "                                                                                \r"
     ]
    },
    {
     "name": "stdout",
     "output_type": "stream",
     "text": [
      "+-----+--------------------+------------+\n",
      "|state|            category|# of reviews|\n",
      "+-----+--------------------+------------+\n",
      "|   IL|             Fashion|         832|\n",
      "|   IN|       Home & Garden|        8173|\n",
      "|   FL|     Mailbox Centers|        1122|\n",
      "|   NJ|                Mags|         666|\n",
      "|   TN|Landmarks & Histo...|        4209|\n",
      "|   IN|        Pet Groomers|        2327|\n",
      "|   NV|Real Estate Services|        1744|\n",
      "|   FL|Funeral Services ...|         290|\n",
      "|   NJ|              Waxing|        3383|\n",
      "|   NV|             Tanning|        1173|\n",
      "+-----+--------------------+------------+\n",
      "only showing top 10 rows\n",
      "\n"
     ]
    }
   ],
   "source": [
    "temp = business_category \\\n",
    "    .join(business.select('business_id', 'state'), on='business_id')  \\\n",
    "    .join(review.select('review_id', 'business_id'), on='business_id')  \\\n",
    "    .groupby(['state', 'category']) \\\n",
    "    .agg(F.count('review_id').alias('# of reviews')).rdd.toDF()\n",
    "temp.show(10)"
   ]
  },
  {
   "cell_type": "code",
   "execution_count": 22,
   "id": "54301b08-a196-4e5c-bc05-7373627afb15",
   "metadata": {},
   "outputs": [
    {
     "name": "stdout",
     "output_type": "stream",
     "text": [
      "+-----+----------------------+----------------------+-----------------------------+------------------------------+-------------------------------+\n",
      "|state|NO.1 reviewed category|NO.2 reviewed category|       NO.3 reviewed category|        NO.4 reviewed category|         NO.5 reviewed category|\n",
      "+-----+----------------------+----------------------+-----------------------------+------------------------------+-------------------------------+\n",
      "|   AZ|  Restaurants (216409)|          Food (83123)|            Nightlife (66048)|                  Bars (63785)|                Mexican (45785)|\n",
      "|   LA|  Restaurants (461434)| Cajun/Creole (177231)|                Food (160307)|            Nightlife (156503)|               Seafood (149792)|\n",
      "|   NJ|  Restaurants (139961)|          Food (52769)|            Nightlife (29784)|American (Traditional) (29206)|                   Bars (28009)|\n",
      "|   NV|  Restaurants (196156)|          Food (85363)|            Nightlife (58038)|                  Bars (50745)| American (Traditional) (42102)|\n",
      "|   ID|   Restaurants (86798)|          Food (38380)|            Nightlife (26733)|                  Bars (25700)| American (Traditional) (18715)|\n",
      "|   CA|  Restaurants (167698)|          Food (80123)|            Nightlife (60262)|                  Bars (57473)|     Breakfast & Brunch (42943)|\n",
      "|   DE|   Restaurants (40103)|          Food (12848)|            Nightlife (11455)|                  Bars (11300)|  American (Traditional) (7936)|\n",
      "|   MO|  Restaurants (273446)|         Food (117941)|            Nightlife (99756)|                  Bars (92158)| American (Traditional) (60164)|\n",
      "|   IL|   Restaurants (30350)|          Food (10197)|American (Traditional) (9799)|              Nightlife (8129)|                    Bars (7998)|\n",
      "|   IN|  Restaurants (263387)|         Food (105585)|            Nightlife (94689)|                  Bars (89811)| American (Traditional) (66912)|\n",
      "|   TN|  Restaurants (356984)|    Nightlife (154097)|                Bars (142820)|                 Food (135582)|American (Traditional) (115791)|\n",
      "|   PA|  Restaurants (836680)|         Food (316944)|           Nightlife (261678)|                 Bars (247768)|        American (New) (167425)|\n",
      "|   AB|   Restaurants (54256)|          Food (20484)|            Nightlife (13849)|                  Bars (12905)|               Shopping (10407)|\n",
      "|   FL|  Restaurants (650084)|         Food (250857)|           Nightlife (211828)|                 Bars (204929)|American (Traditional) (161324)|\n",
      "+-----+----------------------+----------------------+-----------------------------+------------------------------+-------------------------------+\n",
      "\n"
     ]
    }
   ],
   "source": [
    "temp.withColumn('cate_rank_in_state', \n",
    "                F.row_number().over(Window.partitionBy(\"state\").orderBy(col(\"# of reviews\").desc()))) \\\n",
    "    .filter(col('cate_rank_in_state') <= 5) \\\n",
    "    .withColumn('category_info', F.concat(col(\"category\"), F.lit(' ('), col(\"# of reviews\"), F.lit(')'))) \\\n",
    "    .withColumn('cate_rank_in_state', F.concat(F.lit('NO.'), col(\"cate_rank_in_state\"), F.lit(' reviewed category'))) \\\n",
    "    .groupby('state') \\\n",
    "    .pivot(\"cate_rank_in_state\").agg(F.first(\"category_info\")).show(50, truncate = 100)"
   ]
  },
  {
   "cell_type": "markdown",
   "id": "c4a7ae86-e737-4428-b3f2-bb5553485758",
   "metadata": {},
   "source": [
    "#### Top 5 longest consecutive reviewing users and reviewed business"
   ]
  },
  {
   "cell_type": "code",
   "execution_count": 23,
   "id": "d037db54-7467-4ba9-9073-2ea393cecccf",
   "metadata": {},
   "outputs": [
    {
     "name": "stderr",
     "output_type": "stream",
     "text": [
      "                                                                                \r"
     ]
    }
   ],
   "source": [
    "# Fetch the user's id with its\n",
    "user_review = review \\\n",
    "    .sort('date') \\\n",
    "    .select('review_id', 'user_id', 'text', F.to_date(F.date_format(col(\"date\"), \"yyyy-MM-dd kk:hh:ss\")).alias(\"date\")) \\\n",
    "    .groupby('user_id', 'date').agg(\n",
    "        F.last('text').alias('latest_review')) \n",
    "\n",
    "result = user_review \\\n",
    "    .withColumn('date_id', \n",
    "                F.row_number().over(Window.partitionBy(\"user_id\").orderBy(col(\"date\")))) \\\n",
    "    .withColumn('consecutive_id', col('date') - col('date_id')) \\\n",
    "    .groupby('user_id', 'consecutive_id') \\\n",
    "    .agg(F.count('date_id').alias('# of consecutive days'),\n",
    "         F.first('date').alias('start'),\n",
    "         F.last('date').alias('end')\n",
    "        ) \\\n",
    "    .drop('consecutive_id') \\\n",
    "    .sort(col('# of consecutive days').desc()) \\\n",
    "    .limit(5).rdd.toDF()"
   ]
  },
  {
   "cell_type": "code",
   "execution_count": 24,
   "id": "e512937c-19ca-411d-bc92-9027e5da7a14",
   "metadata": {},
   "outputs": [
    {
     "name": "stderr",
     "output_type": "stream",
     "text": [
      "[Stage 169:=================================>                    (42 + 16) / 67]\r"
     ]
    },
    {
     "name": "stdout",
     "output_type": "stream",
     "text": [
      "+---------+-------------------+---------------------+----------+----------+------------------------------------------------------------+\n",
      "|     name|      yelping_since|# of consecutive days|     start|       end|                                               latest_review|\n",
      "+---------+-------------------+---------------------+----------+----------+------------------------------------------------------------+\n",
      "|Christina|2012-10-08 01:25:31|                   51|2017-05-28|2017-07-17|You can purchase products and support a better world at t...|\n",
      "|    Danan|2010-04-09 05:28:01|                   31|2012-03-24|2012-04-23|Stopped in to grab a dozen bagels this morning and was ki...|\n",
      "|    Brett|2012-01-11 17:19:55|                   29|2019-05-09|2019-06-06|Why 5 stars? Because you need to go straight for the Big ...|\n",
      "|     Niki|2014-12-15 03:33:23|                   29|2018-03-11|2018-04-08|Bazbeaux is the perfect mix of specialty pizza, while als...|\n",
      "|     Abby|2008-05-09 13:48:14|                   28|2010-02-11|2010-03-10|St. Louis is lucky to have such a in-depth publication on...|\n",
      "+---------+-------------------+---------------------+----------+----------+------------------------------------------------------------+\n",
      "\n"
     ]
    },
    {
     "name": "stderr",
     "output_type": "stream",
     "text": [
      "                                                                                \r"
     ]
    }
   ],
   "source": [
    "user.select('user_id', 'name', 'yelping_since') \\\n",
    "    .join(result, on='user_id') \\\n",
    "    .join(user_review.withColumnRenamed('date', 'end'), on=['user_id', 'end']) \\\n",
    "    .sort(col('# of consecutive days').desc()) \\\n",
    "    .select('name', 'yelping_since', '# of consecutive days', 'start', 'end', 'latest_review') \\\n",
    "    .show(truncate = 60)"
   ]
  },
  {
   "cell_type": "markdown",
   "id": "177e3bd5-1a1c-4457-a1af-b4e6a4e75447",
   "metadata": {},
   "source": [
    "- https://sparkbyexamples.com/pyspark/pyspark-sql-date-and-timestamp-functions/"
   ]
  },
  {
   "cell_type": "code",
   "execution_count": 25,
   "id": "8f63645e-f9e5-41f0-9c05-c12802bf8b80",
   "metadata": {},
   "outputs": [],
   "source": [
    "# Fetch the business's id with its\n",
    "business_review = review \\\n",
    "    .sort('date') \\\n",
    "    .select('review_id', 'business_id', 'text', F.to_date(F.date_format(col(\"date\"), \"yyyy-MM-dd kk:hh:ss\")).alias(\"date\")) \\\n",
    "    .groupby('business_id', 'date').agg(\n",
    "        F.last('text').alias('latest_review')) "
   ]
  },
  {
   "cell_type": "code",
   "execution_count": 26,
   "id": "bb980c24-9484-4d4e-94b6-b64fc9adc624",
   "metadata": {},
   "outputs": [
    {
     "name": "stderr",
     "output_type": "stream",
     "text": [
      "                                                                                \r"
     ]
    }
   ],
   "source": [
    "result_biz = business_review \\\n",
    "    .withColumn('date_id', \n",
    "                F.row_number().over(Window.partitionBy(\"business_id\").orderBy(col(\"date\")))) \\\n",
    "    .withColumn('consecutive_id', col('date') - col('date_id')) \\\n",
    "    .groupby('business_id', 'consecutive_id') \\\n",
    "    .agg(F.count('date_id').alias('# of consecutive days'),\n",
    "         F.first('date').alias('start'),\n",
    "         F.last('date').alias('end')\n",
    "        ) \\\n",
    "    .drop('consecutive_id') \\\n",
    "    .sort(col('# of consecutive days').desc()) \\\n",
    "    .limit(5).rdd.toDF()"
   ]
  },
  {
   "cell_type": "code",
   "execution_count": 27,
   "id": "5384845c-4ecd-43ac-8156-2245ed628ec5",
   "metadata": {},
   "outputs": [
    {
     "name": "stderr",
     "output_type": "stream",
     "text": [
      "[Stage 198:=============================================>        (56 + 11) / 67]\r"
     ]
    },
    {
     "name": "stdout",
     "output_type": "stream",
     "text": [
      "+----------------------------------+----------------+-----------+-----+---------------------+----------+----------+--------------------------------------------------+\n",
      "|                              name|         address|       city|state|# of consecutive days|     start|       end|                                     latest_review|\n",
      "+----------------------------------+----------------+-----------+-----+---------------------+----------+----------+--------------------------------------------------+\n",
      "|                      Oceana Grill|    739 Conti St|New Orleans|   LA|                  139|2018-12-12|2019-04-29|A MAZ ING!  Recommended by cab driver and could...|\n",
      "|Hattie B’s Hot Chicken - Nashville|  112 19th Ave S|  Nashville|   TN|                  111|2017-07-27|2017-11-14|Hattie B's is a fun restaurant to visit when yo...|\n",
      "|                 Acme Oyster House|724 Iberville St|New Orleans|   LA|                   94|2018-05-04|2018-08-05|Oysters on oysters on oysters. Line is long so ...|\n",
      "|                      Oceana Grill|    739 Conti St|New Orleans|   LA|                   90|2019-08-23|2019-11-20|Great food, pasta was fresh and food came out q...|\n",
      "|                     Café Du Monde|  800 Decatur St|New Orleans|   LA|                   89|2019-12-19|2020-03-16|I know this is touristy thing to do, but we had...|\n",
      "+----------------------------------+----------------+-----------+-----+---------------------+----------+----------+--------------------------------------------------+\n",
      "\n"
     ]
    },
    {
     "name": "stderr",
     "output_type": "stream",
     "text": [
      "                                                                                \r"
     ]
    }
   ],
   "source": [
    "business.select('business_id', 'name', 'address', 'city', 'state') \\\n",
    "    .join(result_biz, on='business_id') \\\n",
    "    .join(business_review.withColumnRenamed('date', 'end'), on=['business_id', 'end']) \\\n",
    "    .sort(col('# of consecutive days').desc()) \\\n",
    "    .select('name', 'address', 'city', 'state', '# of consecutive days', 'start', 'end', 'latest_review') \\\n",
    "    .show(truncate = 50)"
   ]
  },
  {
   "cell_type": "markdown",
   "id": "753568b8-dded-4c60-a219-c01d6e89ead7",
   "metadata": {},
   "source": [
    "#### Popular VS Unpopular!"
   ]
  },
  {
   "cell_type": "markdown",
   "id": "7e524e05-e343-4d0e-8432-d361b922e555",
   "metadata": {},
   "source": [
    "Inspired by the question 5 of our [Project 2](https://github.com/w4111/project2-s22/blob/main/project2.ipynb), lets define 4 categories of businesses! For a given business B, we will use the number of reviews on B as the first metric, and the average stars those reviews give to the B as the second metric. Then we can classify each user as follows:\n",
    "\n",
    "- High stars, high amount of reviews   (**popular businesses**)\n",
    "- High stars, low amount of reviews\n",
    "- Low stars, high amount of reviews\n",
    "- Low stars, low amount of reviews  (**unpopular businesses**)\n",
    "\n",
    "We define the stars and amount of reviews to be high or low based on the rules below:\n",
    "   \n",
    "- 1) If `stars < avg(stars of all business in local)` then indegree is said to be low for the user, else it is considered high. **A user is in the graph if it's either src or dst of an edge.**\n",
    "    \n",
    "    -  A `valid` review are reviews sent by `active` users. An `active` user is user that (1) registered in 2021 or later (2) registered before 2021 but sent at least 1 review every year since he/she registered.\n",
    "    \n",
    "    - A `active` restaurants are those restaurant with at least 1 valid review.\n",
    "    \n",
    "- 2) If `avg(likes of all tweets for the user in the graph) < avg(likes for all tweets in tweets table)`, then the average number of likes is said to be low for the user, else it is considered high. A user without tweets has avg like 0.\n",
    "\n",
    "Now, compute the following: given all tweets by unpopular users, what percentage of them mention a popular user?  We will only consider users in the graph. \n",
    "\n",
    "You can use temporary tables to do this question (no need to implement in a single query). Your final output should contain the column:\n",
    "- unpopular_popular\n",
    "\n",
    "Cast your final result as DOUBLE in unpopular_popular. For instance, if 50% of tweets by unpopular users mention a popular user, the final output should be 0.5."
   ]
  },
  {
   "cell_type": "code",
   "execution_count": 28,
   "id": "7841c2ec-6151-49e1-904a-d8b34d11f655",
   "metadata": {},
   "outputs": [
    {
     "name": "stderr",
     "output_type": "stream",
     "text": [
      "[Stage 199:=================================================>     (58 + 6) / 64]\r"
     ]
    },
    {
     "name": "stdout",
     "output_type": "stream",
     "text": [
      "+----+------+\n",
      "|year| count|\n",
      "+----+------+\n",
      "|2005|   854|\n",
      "|2006|  3853|\n",
      "|2007| 15363|\n",
      "|2008| 48226|\n",
      "|2009| 74387|\n",
      "|2010|138587|\n",
      "|2011|230813|\n",
      "|2012|286570|\n",
      "|2013|383950|\n",
      "|2014|522275|\n",
      "|2015|688415|\n",
      "|2016|758882|\n",
      "|2017|820048|\n",
      "|2018|906362|\n",
      "|2019|907284|\n",
      "|2020|554557|\n",
      "|2021|618189|\n",
      "|2022| 31665|\n",
      "+----+------+\n",
      "\n"
     ]
    },
    {
     "name": "stderr",
     "output_type": "stream",
     "text": [
      "                                                                                \r"
     ]
    }
   ],
   "source": [
    "review.select(F.year(F.date_format(col(\"date\"), \"yyyy-MM-dd kk:hh:ss\")).alias(\"year\")) \\\n",
    "    .groupby('year') \\\n",
    "    .count() \\\n",
    "    .sort('year') \\\n",
    "    .show()"
   ]
  },
  {
   "cell_type": "code",
   "execution_count": 29,
   "id": "38f875f6-ba6b-45eb-afba-9ebc4ea9910a",
   "metadata": {},
   "outputs": [
    {
     "name": "stdout",
     "output_type": "stream",
     "text": [
      "+--------------------+--------+\n",
      "|             user_id|user_age|\n",
      "+--------------------+--------+\n",
      "|qVc8ODYU5SZjKXVBg...|      14|\n",
      "|j14WgRoU_-2ZE1aw1...|      12|\n",
      "|2WnXYQFK0hXEoTxPt...|      13|\n",
      "|SZDeASXq7o05mMNLs...|      16|\n",
      "|hA5lMy-EnncsH4JoR...|      14|\n",
      "|q_QQ5kBBwlCcbL1s4...|      16|\n",
      "|cxuxXkcihfCbqt5By...|      12|\n",
      "|E9kcWJdJUHuTKfQur...|      13|\n",
      "|lO1iq-f75hnPNZkTy...|      13|\n",
      "|AUi8MPWJ0mLkMfwbu...|      11|\n",
      "|iYzhPPqnrjJkg1JHZ...|      11|\n",
      "|xoZvMJPDW6Q9pDAXI...|      12|\n",
      "|vVukUtqoLF5BvH_Vt...|      10|\n",
      "|_crIokUeTCHVK_JVO...|      12|\n",
      "|1McG5Rn_UDkmlkZOr...|      12|\n",
      "|SgiBkhXeqIKl1PlFp...|      15|\n",
      "|fJZO_skqpnhk1kvom...|      13|\n",
      "|x7YtLnBW2dUnrrpwa...|      11|\n",
      "|QF1Kuhs8iwLWANNZx...|      12|\n",
      "|VcLRGCG_VbAo8MxOm...|      12|\n",
      "+--------------------+--------+\n",
      "only showing top 20 rows\n",
      "\n"
     ]
    }
   ],
   "source": [
    "# Calculate 'age' of users\n",
    "user_age = user.select('user_id', (2021 - F.year(F.date_format(col(\"yelping_since\"), \"yyyy-MM-dd kk:hh:ss\"))).alias(\"user_age\"))\n",
    "user_age.show()"
   ]
  },
  {
   "cell_type": "markdown",
   "id": "fda1e11b-7c51-4b98-b10c-845377ab740f",
   "metadata": {},
   "source": [
    "- For those registered in 2021 and 2022, their `age` will be 0 and 1! Therefore if they have reviewed a restaurant since then, they are active user because 1 >= 1 and 1 >= 0!"
   ]
  },
  {
   "cell_type": "code",
   "execution_count": 30,
   "id": "0b6777cf-12d2-4f95-a77f-00455183bd14",
   "metadata": {},
   "outputs": [
    {
     "name": "stderr",
     "output_type": "stream",
     "text": [
      "[Stage 213:>                                                        (0 + 1) / 1]\r"
     ]
    },
    {
     "name": "stdout",
     "output_type": "stream",
     "text": [
      "+--------------------+---------------+--------+\n",
      "|             user_id|n_reviewed_year|user_age|\n",
      "+--------------------+---------------+--------+\n",
      "|FlXBpK_YZxLo27jcM...|             11|      10|\n",
      "|s7cUp9ma9h9FYN-fa...|             12|      11|\n",
      "|OrnQ04JCGie8Q2ymF...|             11|      11|\n",
      "|Lrk7Q6eJcu1nyDdW0...|             10|      10|\n",
      "|wnrHhjDpQk5uLUK7I...|             12|      12|\n",
      "|fD14WAdRrqOnGJQBg...|             11|      11|\n",
      "|8M4_nA8e9VacrirvC...|             15|      13|\n",
      "|nzfx0ElyVk7dq4vdT...|              9|       9|\n",
      "|pou3BbKsIozfH50rx...|             10|       9|\n",
      "|gFVLJRSTeHIQs97vI...|             10|      10|\n",
      "|jv0KSBZkHoojy6RkI...|             14|      13|\n",
      "|Hxx8FmhpxiugIrGRh...|             12|      11|\n",
      "|wzyGNvArcpUjZauRW...|             11|      10|\n",
      "|2iS1vg5TYpV_iEiNC...|             12|      12|\n",
      "|hBgbpWZJHS-y28xfg...|             11|      10|\n",
      "|mKBl4fAqTfNts7B78...|             13|      12|\n",
      "|upQwDazroow3rjNMW...|             11|      10|\n",
      "|Vc4QSYKAOf8NXriGX...|             12|      10|\n",
      "|UXTsDU3DJLW380wgc...|             15|      13|\n",
      "|kHmXUEOAsIbguUrPo...|             13|      12|\n",
      "+--------------------+---------------+--------+\n",
      "only showing top 20 rows\n",
      "\n"
     ]
    },
    {
     "name": "stderr",
     "output_type": "stream",
     "text": [
      "                                                                                \r"
     ]
    }
   ],
   "source": [
    "# Fetch activate users!\n",
    "active_user = review.select('user_id', F.year(F.date_format(col(\"date\"), \"yyyy-MM-dd kk:hh:ss\")).alias(\"year\")) \\\n",
    "    .groupby('user_id') \\\n",
    "    .agg(F.countDistinct('year').alias('n_reviewed_year')) \\\n",
    "    .join(user_age, on='user_id') \\\n",
    "    .filter(col('n_reviewed_year') >= col('user_age')).rdd.toDF()\n",
    "active_user.show()"
   ]
  },
  {
   "cell_type": "code",
   "execution_count": 31,
   "id": "e69cb692-16c2-46db-915b-2f868ef3062a",
   "metadata": {},
   "outputs": [
    {
     "name": "stderr",
     "output_type": "stream",
     "text": [
      "                                                                                \r"
     ]
    },
    {
     "name": "stdout",
     "output_type": "stream",
     "text": [
      "+-----+----------------------------+-----------------------+\n",
      "|state|benchmark # of valid reviews|benchmark average Stars|\n",
      "+-----+----------------------------+-----------------------+\n",
      "|   AZ|           9.371335041275263|     3.6280698024087603|\n",
      "|   LA|          10.678437265214125|      3.834362907197636|\n",
      "|   NJ|          7.3678122934567085|      3.575016819914779|\n",
      "|   NV|           12.06864530225783|      3.723359635491317|\n",
      "|   ID|           6.330405405405405|      3.618475824527698|\n",
      "|   CA|           7.552803129074316|     3.8847315725876057|\n",
      "|   DE|            6.63151207115629|      3.496455259628281|\n",
      "|   MO|          10.214642956376771|     3.7917715062903774|\n",
      "|   IL|           5.996662216288384|      3.475342313258377|\n",
      "|   IN|          11.881699426199487|      3.895101877254092|\n",
      "|   TN|            8.61311475409836|     3.7037861263213374|\n",
      "|   PA|           9.597779866612953|     3.7065487072342647|\n",
      "|   AB|           4.683073557560842|     3.6973607380590914|\n",
      "|   FL|          10.705234448756949|      3.749492910546481|\n",
      "+-----+----------------------------+-----------------------+\n",
      "\n"
     ]
    }
   ],
   "source": [
    "valid_reviews = review.join(active_user, on='user_id').join(business.select('business_id', 'state'), on='business_id').rdd.toDF()\n",
    "state_benchmark = valid_reviews \\\n",
    "    .groupby('state') \\\n",
    "    .agg((F.count('review_id') / F.countDistinct('business_id')).alias(\"benchmark # of valid reviews\"),\n",
    "          F.mean('stars').alias(\"benchmark average Stars\")).rdd.toDF()\n",
    "state_benchmark.show()"
   ]
  },
  {
   "cell_type": "code",
   "execution_count": 32,
   "id": "cb0d1474-1d41-4466-a766-9277579f0ddd",
   "metadata": {},
   "outputs": [
    {
     "name": "stderr",
     "output_type": "stream",
     "text": [
      "                                                                                \r"
     ]
    }
   ],
   "source": [
    "business_scored = valid_reviews.groupby('business_id', 'state') \\\n",
    "    .agg((F.count('review_id')).alias(\"# of valid reviews\"),\n",
    "          F.mean('stars').alias(\"average Stars\")) \\\n",
    "    .join(state_benchmark, on='state').rdd.toDF()"
   ]
  },
  {
   "cell_type": "code",
   "execution_count": 33,
   "id": "f1b87f5c-351b-446f-9520-c21af670c595",
   "metadata": {},
   "outputs": [],
   "source": [
    "pop_biz_by_state = business_scored \\\n",
    "    .filter((col('# of valid reviews') >= col('benchmark # of valid reviews')) &\n",
    "            (col('average Stars') >= col('benchmark average stars'))) \\\n",
    "    .groupby('state') \\\n",
    "    .agg(F.count('business_id').alias('n_pop_biz')).rdd.toDF()"
   ]
  },
  {
   "cell_type": "code",
   "execution_count": 34,
   "id": "5d84a076-50af-4c90-9035-4b45ca5ec946",
   "metadata": {},
   "outputs": [],
   "source": [
    "unpop_biz_by_state = business_scored \\\n",
    "    .filter((col('# of valid reviews') < col('benchmark # of valid reviews')) &\n",
    "            (col('average Stars') < col('benchmark average stars'))) \\\n",
    "    .groupby('state') \\\n",
    "    .agg(F.count('business_id').alias('n_unpop_biz')).rdd.toDF()"
   ]
  },
  {
   "cell_type": "code",
   "execution_count": 35,
   "id": "29dc1c83-e621-4859-ba64-3a8291364627",
   "metadata": {},
   "outputs": [
    {
     "name": "stdout",
     "output_type": "stream",
     "text": [
      "+-----+---------+-----------+---------+\n",
      "|state|n_pop_biz|n_unpop_biz|Ratio (%)|\n",
      "+-----+---------+-----------+---------+\n",
      "|   AB|      676|       1235|    35.37|\n",
      "|   CA|      423|        805|    34.45|\n",
      "|   IL|      250|        533|    31.93|\n",
      "|   DE|      239|        572|    29.47|\n",
      "|   ID|      416|       1036|    28.65|\n",
      "|   NV|      714|       1792|    28.49|\n",
      "|   LA|      943|       2373|    28.44|\n",
      "|   IN|     1179|       3029|    28.02|\n",
      "|   NJ|      883|       2294|    27.79|\n",
      "|   PA|     3009|       8374|    26.43|\n",
      "|   FL|     2522|       7082|    26.26|\n",
      "|   TN|     1086|       3062|    26.18|\n",
      "|   AZ|      873|       2472|    26.10|\n",
      "|   MO|      938|       2793|    25.14|\n",
      "+-----+---------+-----------+---------+\n",
      "\n"
     ]
    }
   ],
   "source": [
    "pop_biz_by_state \\\n",
    "    .join(unpop_biz_by_state, on='state') \\\n",
    "    .withColumn('Ratio (%)', F.lit(100) * col('n_pop_biz') / (col('n_pop_biz') + col('n_unpop_biz'))) \\\n",
    "    .withColumn('Ratio (%)', F.format_number(col('Ratio (%)'), 2)) \\\n",
    "    .sort(col('Ratio (%)').desc()) \\\n",
    "    .show()"
   ]
  },
  {
   "cell_type": "markdown",
   "id": "2fdd3c33-3529-4403-97c8-3f18e86fe7c9",
   "metadata": {},
   "source": [
    "#### Uniquely frequent work for each rating"
   ]
  },
  {
   "cell_type": "markdown",
   "id": "0fa9f40b-c7d0-4bf7-bbfc-2e354b5b64ba",
   "metadata": {},
   "source": [
    "##### Warm-up question: how many words people write?"
   ]
  },
  {
   "cell_type": "markdown",
   "id": "3252d721-53e2-415b-bf91-c73c0bd21474",
   "metadata": {},
   "source": [
    "How to calculate number of words in each start"
   ]
  },
  {
   "cell_type": "code",
   "execution_count": 38,
   "id": "e1ccf930-1bfa-42aa-af32-35229b85a50a",
   "metadata": {},
   "outputs": [
    {
     "name": "stderr",
     "output_type": "stream",
     "text": [
      "                                                                                \r"
     ]
    },
    {
     "data": {
      "text/plain": [
       "729344595"
      ]
     },
     "execution_count": 38,
     "metadata": {},
     "output_type": "execute_result"
    }
   ],
   "source": [
    "review_words = review \\\n",
    "    .select('review_id', 'stars', 'text') \\\n",
    "    .withColumn('raw_word', F.explode(F.split(\"text\", \" |[\\n\\t]\"))) \\\n",
    "    .withColumn('word', F.regexp_replace(col('raw_word'), r'[^a-zA-Z0-9]', '')) \\\n",
    "    .filter(col('word') != '') \\\n",
    "    .withColumn('word', F.lower('word')).cache()\n",
    "review_words.count()"
   ]
  },
  {
   "cell_type": "markdown",
   "id": "c1f0754a-8464-47e3-b623-90139b3297a7",
   "metadata": {},
   "source": [
    "- Yes!! The dataset has 729 million words.. Image working with it in pandas..."
   ]
  },
  {
   "cell_type": "code",
   "execution_count": 67,
   "id": "7ac7cd5f-2eb6-4bb6-8aa5-58d752e781b6",
   "metadata": {},
   "outputs": [
    {
     "name": "stderr",
     "output_type": "stream",
     "text": [
      "[Stage 431:=====================================================> (62 + 2) / 64]\r"
     ]
    },
    {
     "name": "stdout",
     "output_type": "stream",
     "text": [
      "+-----+------------+------------------+\n",
      "|stars|# of reviews|Average # of words|\n",
      "+-----+------------+------------------+\n",
      "|  5.0|     3231567| 84.12486109679917|\n",
      "|  4.0|     1452867|107.55910072979839|\n",
      "|  3.0|      691910|123.70078044832421|\n",
      "|  2.0|      544225|133.84700996830355|\n",
      "|  1.0|     1069530|133.50509663123054|\n",
      "+-----+------------+------------------+\n",
      "\n",
      "CPU times: user 8.77 ms, sys: 0 ns, total: 8.77 ms\n",
      "Wall time: 3.62 s\n"
     ]
    },
    {
     "name": "stderr",
     "output_type": "stream",
     "text": [
      "                                                                                \r"
     ]
    }
   ],
   "source": [
    "%%time\n",
    "review_words \\\n",
    "    .groupby('review_id', 'stars') \\\n",
    "    .agg(F.count(F.lit('1')).alias('# of words')) \\\n",
    "    .groupby('stars') \\\n",
    "    .agg(F.countDistinct(col('review_id')).alias('# of reviews'),\n",
    "         F.mean(col('# of words')).alias('Average # of words')) \\\n",
    "    .sort(col('stars').desc()) \\\n",
    "    .show()"
   ]
  },
  {
   "cell_type": "markdown",
   "id": "87a6fb7e-7af9-4993-9809-618c7f1ba4fa",
   "metadata": {},
   "source": [
    "- This is easy and fast! And isn't that interesting people tend to write more words when they are emotionally give 1/2 rates!"
   ]
  },
  {
   "cell_type": "markdown",
   "id": "6c7ebec2-6e0c-40f2-81d3-bcd48e7c3eea",
   "metadata": {},
   "source": [
    "`.groupby('review_id', 'stars')` and `.groupby('review_id')` There are 6m group in this 729344595 rows, which is actually workable."
   ]
  },
  {
   "cell_type": "markdown",
   "id": "3adedd61-7fdf-49cf-bb0e-5442ffffddeb",
   "metadata": {},
   "source": [
    "Perform sth like group by word count! But this leads to huge data skew!! I didn't realize this until I request a 100 CPU quota and set up an extremly powerful cluster, but get nothing for quite a while...\n",
    "\n",
    "```python\n",
    "document_frequency = review_words \\\n",
    "    .groupby('word') \\\n",
    "    .agg(F.count('word').alias('doc_freq')).rdd.toDF()\n",
    "```"
   ]
  },
  {
   "cell_type": "markdown",
   "id": "11a60459-1a7a-445d-9982-ec0f6d06c3b8",
   "metadata": {},
   "source": [
    "- Opposite of https://stackoverflow.com/questions/63611463/pyspark-groupby-on-large-dataframe/63616739#63616739. I believe this is happening because of data skew and one of your partitions is getting OOM.Spark’s groupBy() requires loading all of the key values into memory at once to perform groupby.Increasing partitions is not working because you might be having large data with similar group by key. Check if you have data skew with a similar group by key.\n",
    "- Partition trick: https://nealanalytics.com/blog/databricks-spark-jobs-optimization-techniques-shuffle-partition-technique-part-1/\n",
    "- Repatitioning first https://stackoverflow.com/questions/65413065/pyspark-groupby-multiple-columns-count-performance"
   ]
  },
  {
   "cell_type": "code",
   "execution_count": 39,
   "id": "8761afd8-35a2-4388-95b1-80030edde501",
   "metadata": {},
   "outputs": [],
   "source": [
    "spark.conf.set(\"spark.sql.shuffle.partitions\", 50)"
   ]
  },
  {
   "cell_type": "code",
   "execution_count": 40,
   "id": "e74ea1b2-8d02-40b2-b326-bd04f1a4d2b1",
   "metadata": {},
   "outputs": [
    {
     "name": "stderr",
     "output_type": "stream",
     "text": [
      "                                                                                \r"
     ]
    },
    {
     "data": {
      "text/plain": [
       "488914278"
      ]
     },
     "execution_count": 40,
     "metadata": {},
     "output_type": "execute_result"
    }
   ],
   "source": [
    "term_freq_by_review = review_words \\\n",
    "    .repartition('review_id') \\\n",
    "    .groupby('review_id', 'stars', 'word') \\\n",
    "    .agg(F.count(F.lit('1')).alias('term_freq_by_review')).cache()\n",
    "term_freq_by_review.count()"
   ]
  },
  {
   "cell_type": "code",
   "execution_count": 41,
   "id": "2911c038-01a0-451e-a337-3eed4eee5fcd",
   "metadata": {
    "tags": []
   },
   "outputs": [
    {
     "name": "stderr",
     "output_type": "stream",
     "text": [
      "                                                                                \r"
     ]
    },
    {
     "data": {
      "text/plain": [
       "1636982"
      ]
     },
     "execution_count": 41,
     "metadata": {},
     "output_type": "execute_result"
    }
   ],
   "source": [
    "document_frequency = term_freq_by_review \\\n",
    "    .repartition('word') \\\n",
    "    .groupby('word') \\\n",
    "    .agg(F.sum('term_freq_by_review').alias('doc_freq')).cache()\n",
    "document_frequency.count()"
   ]
  },
  {
   "cell_type": "code",
   "execution_count": 42,
   "id": "549a58aa-6a3e-4248-a54d-76736b078bef",
   "metadata": {},
   "outputs": [
    {
     "name": "stdout",
     "output_type": "stream",
     "text": [
      "+-------------+--------+\n",
      "|         word|doc_freq|\n",
      "+-------------+--------+\n",
      "|   japanneeds|       1|\n",
      "|        21611|       1|\n",
      "|monthsceiling|       1|\n",
      "|lackedseveral|       1|\n",
      "|    peterstry|       1|\n",
      "+-------------+--------+\n",
      "only showing top 5 rows\n",
      "\n"
     ]
    }
   ],
   "source": [
    "document_frequency.sort(col('doc_freq')).show(5, truncate=100)"
   ]
  },
  {
   "cell_type": "markdown",
   "id": "f5ee5dc0-a5ca-4938-9350-c7b2166b200c",
   "metadata": {},
   "source": [
    "- Too 冷门, like roottouchup is a hair product, or typo, like `poseotherwise` are three words that should have been seperate by space!"
   ]
  },
  {
   "cell_type": "code",
   "execution_count": 43,
   "id": "83a7c6bd-9779-49a2-8220-618541e76c4c",
   "metadata": {},
   "outputs": [
    {
     "name": "stderr",
     "output_type": "stream",
     "text": [
      "[Stage 327:=====================================================> (38 + 1) / 39]\r"
     ]
    },
    {
     "name": "stdout",
     "output_type": "stream",
     "text": [
      "+--------------------+-----+--------------------+------------+---------+\n",
      "|           review_id|stars|                text|    raw_word|     word|\n",
      "+--------------------+-----+--------------------+------------+---------+\n",
      "|edVshZCpGlyRT9lXw...|  2.0|I stayed here rec...|level...plus|levelplus|\n",
      "+--------------------+-----+--------------------+------------+---------+\n",
      "\n"
     ]
    },
    {
     "name": "stderr",
     "output_type": "stream",
     "text": [
      "                                                                                \r"
     ]
    }
   ],
   "source": [
    "review_words.filter(col('word')=='levelplus').show()"
   ]
  },
  {
   "cell_type": "code",
   "execution_count": 44,
   "id": "83c7ecc9-9331-4f6d-ae10-396a2cc161eb",
   "metadata": {},
   "outputs": [
    {
     "name": "stdout",
     "output_type": "stream",
     "text": [
      "+----+--------+\n",
      "|word|doc_freq|\n",
      "+----+--------+\n",
      "| the|36709968|\n",
      "| and|26129544|\n",
      "|   i|18982270|\n",
      "|   a|18798244|\n",
      "|  to|17717798|\n",
      "+----+--------+\n",
      "only showing top 5 rows\n",
      "\n"
     ]
    }
   ],
   "source": [
    "document_frequency.sort(col('doc_freq').desc()).show(5)"
   ]
  },
  {
   "cell_type": "markdown",
   "id": "9a01f064-2a7f-42bc-98d8-0e04ea9b240a",
   "metadata": {},
   "source": [
    "- We don't want these words either."
   ]
  },
  {
   "cell_type": "code",
   "execution_count": 45,
   "id": "adae8900-0dd7-4495-821e-adb7bb794749",
   "metadata": {},
   "outputs": [
    {
     "name": "stderr",
     "output_type": "stream",
     "text": [
      "                                                                                \r"
     ]
    },
    {
     "data": {
      "text/plain": [
       "2596782"
      ]
     },
     "execution_count": 45,
     "metadata": {},
     "output_type": "execute_result"
    }
   ],
   "source": [
    "term_frequency = review_words \\\n",
    "    .groupby('stars', 'word') \\\n",
    "    .agg(F.count('word').alias('term_freq')).cache()\n",
    "term_frequency.count()"
   ]
  },
  {
   "cell_type": "code",
   "execution_count": 46,
   "id": "ca43274b-5509-40ef-8136-de071757bed5",
   "metadata": {},
   "outputs": [
    {
     "name": "stdout",
     "output_type": "stream",
     "text": [
      "+--------+-----+---------+--------+------------------+-----------+\n",
      "|    word|stars|term_freq|doc_freq|            tf-idf|tf-idf_rank|\n",
      "+--------+-----+---------+--------+------------------+-----------+\n",
      "|  refund|  1.0|    46836|   56663|0.8265711310731871|          1|\n",
      "|   worst|  1.0|   141195|  184455| 0.765471253151175|          2|\n",
      "|horrible|  1.0|   114310|  158146|0.7228130967586913|          3|\n",
      "|    rude|  1.0|   145212|  206809|0.7021551286452717|          4|\n",
      "|    zero|  1.0|    37294|   53880|0.6921677802524128|          5|\n",
      "|   waste|  1.0|    48875|   72891|0.6705217379374683|          6|\n",
      "|response|  1.0|    34436|   53734|0.6408605352290915|          7|\n",
      "|terrible|  1.0|   103234|  164012|0.6294295539350779|          8|\n",
      "|   awful|  1.0|    54318|   87650|0.6197147746719909|          9|\n",
      "| charged|  1.0|    56419|   96012|0.5876244636087156|         10|\n",
      "+--------+-----+---------+--------+------------------+-----------+\n",
      "only showing top 10 rows\n",
      "\n"
     ]
    }
   ],
   "source": [
    "result_long = term_frequency.join(document_frequency.filter(col('doc_freq')>50000), on='word') \\\n",
    "    .withColumn('tf-idf', col('term_freq') / col('doc_freq')) \\\n",
    "    .sort(col('tf-idf').desc()) \\\n",
    "    .withColumn('tf-idf_rank', \n",
    "                F.row_number().over(Window.partitionBy(\"stars\").orderBy(col(\"tf-idf\").desc()))) \\\n",
    "    .filter(col('tf-idf_rank') <= 10).rdd.toDF()\n",
    "result_long.show(10)"
   ]
  },
  {
   "cell_type": "code",
   "execution_count": 47,
   "id": "980cdc63-75d4-44f7-8784-19d88df12b82",
   "metadata": {},
   "outputs": [
    {
     "name": "stdout",
     "output_type": "stream",
     "text": [
      "+-----+------------------+--------------+---------------------+---------------------+------------------+---------------------+----------------+--------------------+-----------------+----------------+\n",
      "|stars|       NO.1 td-idf|   NO.2 td-idf|          NO.3 td-idf|          NO.4 td-idf|       NO.5 td-idf|          NO.6 td-idf|     NO.7 td-idf|         NO.8 td-idf|      NO.9 td-idf|    NO.10 td-idf|\n",
      "+-----+------------------+--------------+---------------------+---------------------+------------------+---------------------+----------------+--------------------+-----------------+----------------+\n",
      "|  5.0|incredible (79.2%)|highly (79.0%)|          gem (78.5%)|knowledgeable (77.0%)|phenomenal (76.5%)|      amazing (76.2%)|   thank (74.1%)|professional (73.5%)|wonderful (72.4%)|fabulous (71.8%)|\n",
      "|  4.0|     solid (45.0%)|pricey (40.0%)|    complaint (39.6%)|        tasty (38.2%)|    casual (37.6%)|      enjoyed (37.5%)|     bit (37.2%)|       liked (36.8%)|      fan (36.4%)| crowded (35.9%)|\n",
      "|  3.0|   average (34.0%)|  okay (31.5%)|       decent (30.6%)|           ok (30.2%)|        35 (27.9%)|        bland (26.0%)|mediocre (24.9%)|       kinda (24.2%)|   rating (23.0%)| however (22.9%)|\n",
      "|  2.0|  mediocre (34.7%)| bland (31.7%)|disappointing (30.9%)|   overpriced (27.0%)|    barely (24.5%)|unfortunately (22.2%)|      ok (22.0%)|        poor (21.9%)|      dry (21.1%)|     sad (20.9%)|\n",
      "|  1.0|    refund (82.7%)| worst (76.5%)|     horrible (72.3%)|         rude (70.2%)|      zero (69.2%)|        waste (67.1%)|response (64.1%)|    terrible (62.9%)|    awful (62.0%)| charged (58.8%)|\n",
      "+-----+------------------+--------------+---------------------+---------------------+------------------+---------------------+----------------+--------------------+-----------------+----------------+\n",
      "\n"
     ]
    }
   ],
   "source": [
    "# Similarly lets     \n",
    "result_wide = result_long \\\n",
    "    .withColumn('td-idf_info', F.concat(col(\"word\"), F.lit(' ('), F.format_number(col(\"tf-idf\") * 100, 1), F.lit('%)'))) \\\n",
    "    .groupby('stars') \\\n",
    "    .pivot(\"tf-idf_rank\").agg(F.first(\"td-idf_info\")) \\\n",
    "    .sort(col('stars').desc()) \n",
    "# Rename the columns\n",
    "result_wide = result_wide.select([col('stars')] + [col(rank).alias(f'NO.{rank} td-idf') for rank in result_wide.columns[1:]])\n",
    "result_wide.show(50, truncate = 100)"
   ]
  },
  {
   "cell_type": "markdown",
   "id": "e55fe2b7-73b1-4dce-b103-0a927363f81b",
   "metadata": {},
   "source": [
    "- The 35 is because we remove `/` from `3/5`"
   ]
  }
 ],
 "metadata": {
  "kernelspec": {
   "display_name": "Python 3",
   "language": "python",
   "name": "python3"
  },
  "language_info": {
   "codemirror_mode": {
    "name": "ipython",
    "version": 3
   },
   "file_extension": ".py",
   "mimetype": "text/x-python",
   "name": "python",
   "nbconvert_exporter": "python",
   "pygments_lexer": "ipython3",
   "version": "3.8.13"
  }
 },
 "nbformat": 4,
 "nbformat_minor": 5
}
