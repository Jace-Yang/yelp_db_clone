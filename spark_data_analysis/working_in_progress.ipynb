{
 "cells": [
  {
   "cell_type": "markdown",
   "id": "1678f1a7-f4bb-41f6-965f-9a88e088dc01",
   "metadata": {},
   "source": [
    "**Envionment Setup**"
   ]
  },
  {
   "cell_type": "markdown",
   "id": "f20660a8-cb10-4e6c-b854-526625e23b09",
   "metadata": {},
   "source": [
    "- **Step 0:** Setup a spark cluster. In this tutorial I use [GCP dataproc](https://cloud.google.com/dataproc).\n",
    "\n",
    "    > Setup Guide: [CSEE 4121 2022S HW2 programming](https://csee-4121-2022.github.io/homeworks/hw2.html)"
   ]
  },
  {
   "cell_type": "markdown",
   "id": "2fd11cef-116b-4231-be56-fce2b7f5d480",
   "metadata": {},
   "source": [
    "- **Step 1:** Download dataset from [yelp dataset](https://www.yelp.com/dataset/documentation/main) and upload all json files except the `photos` into a GCP bucket. In this case the bucket name is `coms4111`, and I placed it into a directory that jupyterlab can directly access it through `GCS` folder.\n",
    "\n",
    "    ---\n",
    "\n",
    "    Below step needs to be done every time you create a new cluster\n",
    "\n",
    "    ---"
   ]
  },
  {
   "cell_type": "markdown",
   "id": "c39137f2-579f-42a4-be7a-276036441f72",
   "metadata": {},
   "source": [
    "- **Step 2:** Clone the repository to the cluster's local disk"
   ]
  },
  {
   "cell_type": "code",
   "execution_count": null,
   "id": "21a2b7bf-be2d-4318-a848-83f885c0b56a",
   "metadata": {},
   "outputs": [],
   "source": [
    "!git clone https://github.com/Jace-Yang/yelp_db_clone"
   ]
  },
  {
   "cell_type": "markdown",
   "id": "40d8d680-0c2c-41d1-9be4-903e95592f20",
   "metadata": {},
   "source": [
    "- **Step 3:** Download external package in order to parse XML files: spark-xml with version 2.12-0.14.0 to support Spark 3.1.2 and Scala 2.12."
   ]
  },
  {
   "cell_type": "code",
   "execution_count": 1,
   "id": "70857559-e134-4a9b-86a3-44dcae089040",
   "metadata": {},
   "outputs": [],
   "source": [
    "!sudo hdfs dfs -get gs://csee4121/homework2/spark-xml_2.12-0.14.0.jar /usr/lib/spark/jars/\n",
    "    # Reference: https://csee-4121-2022.github.io/homeworks/hw2.html"
   ]
  },
  {
   "cell_type": "markdown",
   "id": "85096d5e-d737-4564-954c-a2d17126f714",
   "metadata": {},
   "source": [
    "> Note: if you are using multiple GCP dataproc nodes, run `sudo hdfs dfs -get gs://csee4121/homework2/spark-xml_2.12-0.14.0.jar /usr/lib/spark/jars/` on every worker VM machines by SSH them."
   ]
  },
  {
   "cell_type": "markdown",
   "id": "06314524-2185-4a94-a202-396ed6a7bd80",
   "metadata": {},
   "source": [
    "- **Step 4:** Move data from GS into a HDFS directory every time you create a new cluster. We do this by moving data into the local disk first, then to HDFS!"
   ]
  },
  {
   "cell_type": "code",
   "execution_count": 2,
   "id": "1454a696-4f01-428a-a72d-81139a4ec724",
   "metadata": {},
   "outputs": [
    {
     "name": "stdout",
     "output_type": "stream",
     "text": [
      "Copying gs://coms4111/notebooks/jupyter/data/yelp_academic_dataset_business.json...\n",
      "Copying gs://coms4111/notebooks/jupyter/data/yelp_academic_dataset_checkin.json...\n",
      "Copying gs://coms4111/notebooks/jupyter/data/yelp_academic_dataset_review.json...\n",
      "Copying gs://coms4111/notebooks/jupyter/data/yelp_academic_dataset_tip.json...  \n",
      "/ [4 files][  5.5 GiB/  5.5 GiB]   71.7 MiB/s                                   \n",
      "==> NOTE: You are performing a sequence of gsutil operations that may\n",
      "run significantly faster if you instead use gsutil -m cp ... Please\n",
      "see the -m section under \"gsutil help options\" for further information\n",
      "about when gsutil -m can be advantageous.\n",
      "\n",
      "Copying gs://coms4111/notebooks/jupyter/data/yelp_academic_dataset_user.json...\n",
      "- [5 files][  8.6 GiB/  8.6 GiB]  188.8 MiB/s                                   \n",
      "Operation completed over 5 objects/8.6 GiB.                                      \n"
     ]
    }
   ],
   "source": [
    "# Gs -> Local\n",
    "!mkdir yelp_db_clone/data/\n",
    "!gsutil cp gs://coms4111/notebooks/jupyter/data/*.json file:///yelp_db_clone/data/"
   ]
  },
  {
   "cell_type": "code",
   "execution_count": 3,
   "id": "7c1c8b21-d60b-488c-a0a9-ec8ca6b33a3b",
   "metadata": {},
   "outputs": [],
   "source": [
    "# Local -> HDFS\n",
    "!hdfs dfs -cp -f file:///yelp_db_clone/data/* hdfs:///user/dataproc/"
   ]
  },
  {
   "cell_type": "code",
   "execution_count": 4,
   "id": "21c91e49-4560-41fb-a7fe-4fc870a5830d",
   "metadata": {},
   "outputs": [
    {
     "name": "stdout",
     "output_type": "stream",
     "text": [
      "Found 5 items\n",
      "-rw-r--r--   1 root hadoop  118863795 2022-05-04 21:39 hdfs:///user/dataproc/yelp_academic_dataset_business.json\n",
      "-rw-r--r--   1 root hadoop  286958945 2022-05-04 21:39 hdfs:///user/dataproc/yelp_academic_dataset_checkin.json\n",
      "-rw-r--r--   1 root hadoop 5341868833 2022-05-04 21:40 hdfs:///user/dataproc/yelp_academic_dataset_review.json\n",
      "-rw-r--r--   1 root hadoop  180604475 2022-05-04 21:40 hdfs:///user/dataproc/yelp_academic_dataset_tip.json\n",
      "-rw-r--r--   1 root hadoop 3363329011 2022-05-04 21:40 hdfs:///user/dataproc/yelp_academic_dataset_user.json\n"
     ]
    }
   ],
   "source": [
    "# Check whether data is now in HDFS!\n",
    "!hdfs dfs -ls hdfs:///user/dataproc/"
   ]
  },
  {
   "cell_type": "markdown",
   "id": "4fb6c1b2-93c4-4929-8c23-bdece75516e0",
   "metadata": {},
   "source": [
    "## Examples"
   ]
  },
  {
   "cell_type": "code",
   "execution_count": 1,
   "id": "2c873dcf-a803-445f-80a3-5ff96e9fd958",
   "metadata": {},
   "outputs": [],
   "source": [
    "import pyspark\n",
    "import pyspark.sql.functions as F\n",
    "from pyspark.sql.functions import col, split, explode, udf"
   ]
  },
  {
   "cell_type": "markdown",
   "id": "534fef49-eb7f-4591-99ca-af4ba6e06868",
   "metadata": {},
   "source": [
    "### Get a spark session"
   ]
  },
  {
   "cell_type": "code",
   "execution_count": 2,
   "id": "8dd888f2-4e88-4318-909d-c11f19e30953",
   "metadata": {},
   "outputs": [
    {
     "name": "stderr",
     "output_type": "stream",
     "text": [
      "Setting default log level to \"WARN\".\n",
      "To adjust logging level use sc.setLogLevel(newLevel). For SparkR, use setLogLevel(newLevel).\n",
      "22/05/05 04:26:13 INFO org.apache.spark.SparkEnv: Registering MapOutputTracker\n",
      "22/05/05 04:26:13 INFO org.apache.spark.SparkEnv: Registering BlockManagerMaster\n",
      "22/05/05 04:26:13 INFO org.apache.spark.SparkEnv: Registering BlockManagerMasterHeartbeat\n",
      "22/05/05 04:26:13 INFO org.apache.spark.SparkEnv: Registering OutputCommitCoordinator\n"
     ]
    }
   ],
   "source": [
    "from pyspark.sql import SparkSession\n",
    "spark = SparkSession.builder.getOrCreate()"
   ]
  },
  {
   "cell_type": "markdown",
   "id": "4dd4ad24-1bb3-4122-9385-71e90ee403a1",
   "metadata": {},
   "source": [
    "### Read Data & Print Schema"
   ]
  },
  {
   "cell_type": "code",
   "execution_count": 3,
   "id": "622cc42f-af2e-4ab9-b354-63d75eb36479",
   "metadata": {},
   "outputs": [
    {
     "name": "stderr",
     "output_type": "stream",
     "text": [
      "                                                                                \r"
     ]
    },
    {
     "name": "stdout",
     "output_type": "stream",
     "text": [
      "root\n",
      " |-- business_id: string (nullable = true)\n",
      " |-- cool: long (nullable = true)\n",
      " |-- date: string (nullable = true)\n",
      " |-- funny: long (nullable = true)\n",
      " |-- review_id: string (nullable = true)\n",
      " |-- stars: double (nullable = true)\n",
      " |-- text: string (nullable = true)\n",
      " |-- useful: long (nullable = true)\n",
      " |-- user_id: string (nullable = true)\n",
      "\n"
     ]
    }
   ],
   "source": [
    "review = spark.read.json('hdfs:///user/dataproc/yelp_academic_dataset_review.json')\n",
    "review.printSchema()"
   ]
  },
  {
   "cell_type": "code",
   "execution_count": 4,
   "id": "13859699-634a-45d9-bbdb-395ee9c74605",
   "metadata": {},
   "outputs": [
    {
     "name": "stderr",
     "output_type": "stream",
     "text": [
      "[Stage 1:=======================================>                 (20 + 8) / 29]\r"
     ]
    },
    {
     "name": "stdout",
     "output_type": "stream",
     "text": [
      "root\n",
      " |-- address: string (nullable = true)\n",
      " |-- attributes: struct (nullable = true)\n",
      " |    |-- AcceptsInsurance: string (nullable = true)\n",
      " |    |-- AgesAllowed: string (nullable = true)\n",
      " |    |-- Alcohol: string (nullable = true)\n",
      " |    |-- Ambience: string (nullable = true)\n",
      " |    |-- BYOB: string (nullable = true)\n",
      " |    |-- BYOBCorkage: string (nullable = true)\n",
      " |    |-- BestNights: string (nullable = true)\n",
      " |    |-- BikeParking: string (nullable = true)\n",
      " |    |-- BusinessAcceptsBitcoin: string (nullable = true)\n",
      " |    |-- BusinessAcceptsCreditCards: string (nullable = true)\n",
      " |    |-- BusinessParking: string (nullable = true)\n",
      " |    |-- ByAppointmentOnly: string (nullable = true)\n",
      " |    |-- Caters: string (nullable = true)\n",
      " |    |-- CoatCheck: string (nullable = true)\n",
      " |    |-- Corkage: string (nullable = true)\n",
      " |    |-- DietaryRestrictions: string (nullable = true)\n",
      " |    |-- DogsAllowed: string (nullable = true)\n",
      " |    |-- DriveThru: string (nullable = true)\n",
      " |    |-- GoodForDancing: string (nullable = true)\n",
      " |    |-- GoodForKids: string (nullable = true)\n",
      " |    |-- GoodForMeal: string (nullable = true)\n",
      " |    |-- HairSpecializesIn: string (nullable = true)\n",
      " |    |-- HappyHour: string (nullable = true)\n",
      " |    |-- HasTV: string (nullable = true)\n",
      " |    |-- Music: string (nullable = true)\n",
      " |    |-- NoiseLevel: string (nullable = true)\n",
      " |    |-- Open24Hours: string (nullable = true)\n",
      " |    |-- OutdoorSeating: string (nullable = true)\n",
      " |    |-- RestaurantsAttire: string (nullable = true)\n",
      " |    |-- RestaurantsCounterService: string (nullable = true)\n",
      " |    |-- RestaurantsDelivery: string (nullable = true)\n",
      " |    |-- RestaurantsGoodForGroups: string (nullable = true)\n",
      " |    |-- RestaurantsPriceRange2: string (nullable = true)\n",
      " |    |-- RestaurantsReservations: string (nullable = true)\n",
      " |    |-- RestaurantsTableService: string (nullable = true)\n",
      " |    |-- RestaurantsTakeOut: string (nullable = true)\n",
      " |    |-- Smoking: string (nullable = true)\n",
      " |    |-- WheelchairAccessible: string (nullable = true)\n",
      " |    |-- WiFi: string (nullable = true)\n",
      " |-- business_id: string (nullable = true)\n",
      " |-- categories: string (nullable = true)\n",
      " |-- city: string (nullable = true)\n",
      " |-- hours: struct (nullable = true)\n",
      " |    |-- Friday: string (nullable = true)\n",
      " |    |-- Monday: string (nullable = true)\n",
      " |    |-- Saturday: string (nullable = true)\n",
      " |    |-- Sunday: string (nullable = true)\n",
      " |    |-- Thursday: string (nullable = true)\n",
      " |    |-- Tuesday: string (nullable = true)\n",
      " |    |-- Wednesday: string (nullable = true)\n",
      " |-- is_open: long (nullable = true)\n",
      " |-- latitude: double (nullable = true)\n",
      " |-- longitude: double (nullable = true)\n",
      " |-- name: string (nullable = true)\n",
      " |-- postal_code: string (nullable = true)\n",
      " |-- review_count: long (nullable = true)\n",
      " |-- stars: double (nullable = true)\n",
      " |-- state: string (nullable = true)\n",
      "\n"
     ]
    },
    {
     "name": "stderr",
     "output_type": "stream",
     "text": [
      "22/05/05 04:26:56 WARN org.apache.spark.sql.catalyst.util.package: Truncated the string representation of a plan since it was too large. This behavior can be adjusted by setting 'spark.sql.debug.maxToStringFields'.\n"
     ]
    }
   ],
   "source": [
    "business = spark.read.json('hdfs:///user/dataproc/yelp_academic_dataset_business.json')\n",
    "business.printSchema()"
   ]
  },
  {
   "cell_type": "markdown",
   "id": "6190e1da-cbb6-4614-bd45-c8c1dc5fcbee",
   "metadata": {},
   "source": [
    "- Here we see that spark allows semi-structure! The data like\n",
    "    ```\n",
    "    \"hours\": {\n",
    "        \"Monday\": \"10:00-21:00\",\n",
    "        \"Tuesday\": \"10:00-21:00\",\n",
    "        \"Friday\": \"10:00-21:00\",\n",
    "        \"Wednesday\": \"10:00-21:00\",\n",
    "        \"Thursday\": \"10:00-21:00\",\n",
    "        \"Sunday\": \"11:00-18:00\",\n",
    "        \"Saturday\": \"10:00-21:00\"\n",
    "    }\n",
    "    ```\n",
    "    has now been converted to a structure type automatically!"
   ]
  },
  {
   "cell_type": "code",
   "execution_count": 5,
   "id": "74878db6-1908-4dbb-a768-cce1a8bec6f7",
   "metadata": {},
   "outputs": [
    {
     "name": "stderr",
     "output_type": "stream",
     "text": [
      "[Stage 2:===================================================>     (29 + 3) / 32]\r"
     ]
    },
    {
     "name": "stdout",
     "output_type": "stream",
     "text": [
      "root\n",
      " |-- average_stars: double (nullable = true)\n",
      " |-- compliment_cool: long (nullable = true)\n",
      " |-- compliment_cute: long (nullable = true)\n",
      " |-- compliment_funny: long (nullable = true)\n",
      " |-- compliment_hot: long (nullable = true)\n",
      " |-- compliment_list: long (nullable = true)\n",
      " |-- compliment_more: long (nullable = true)\n",
      " |-- compliment_note: long (nullable = true)\n",
      " |-- compliment_photos: long (nullable = true)\n",
      " |-- compliment_plain: long (nullable = true)\n",
      " |-- compliment_profile: long (nullable = true)\n",
      " |-- compliment_writer: long (nullable = true)\n",
      " |-- cool: long (nullable = true)\n",
      " |-- elite: string (nullable = true)\n",
      " |-- fans: long (nullable = true)\n",
      " |-- friends: string (nullable = true)\n",
      " |-- funny: long (nullable = true)\n",
      " |-- name: string (nullable = true)\n",
      " |-- review_count: long (nullable = true)\n",
      " |-- useful: long (nullable = true)\n",
      " |-- user_id: string (nullable = true)\n",
      " |-- yelping_since: string (nullable = true)\n",
      "\n"
     ]
    },
    {
     "name": "stderr",
     "output_type": "stream",
     "text": [
      "                                                                                \r"
     ]
    }
   ],
   "source": [
    "user = spark.read.json('hdfs:///user/dataproc/yelp_academic_dataset_user.json')\n",
    "user.printSchema()"
   ]
  },
  {
   "cell_type": "markdown",
   "id": "935d1607-ecc9-4689-8ed1-5d49a7d21ace",
   "metadata": {},
   "source": [
    "### Filtering / Group By\n"
   ]
  },
  {
   "cell_type": "markdown",
   "id": "3c58fc23-09dd-4524-b6af-41458ad5cec0",
   "metadata": {},
   "source": [
    "We only care about those restaurants that are still open! So let's do a filtering first."
   ]
  },
  {
   "cell_type": "code",
   "execution_count": 6,
   "id": "c22bbf82-2df4-4d42-aa72-a61e142a40aa",
   "metadata": {},
   "outputs": [
    {
     "name": "stderr",
     "output_type": "stream",
     "text": [
      "                                                                                \r"
     ]
    },
    {
     "data": {
      "text/plain": [
       "119698"
      ]
     },
     "execution_count": 6,
     "metadata": {},
     "output_type": "execute_result"
    }
   ],
   "source": [
    "business = business.filter(col('is_open')==1)\n",
    "business.count()"
   ]
  },
  {
   "cell_type": "code",
   "execution_count": 7,
   "id": "baad2906-25e9-4f0e-8855-0edc2fe6e834",
   "metadata": {},
   "outputs": [
    {
     "name": "stderr",
     "output_type": "stream",
     "text": [
      "                                                                                \r"
     ]
    },
    {
     "name": "stdout",
     "output_type": "stream",
     "text": [
      "+-----+-----+\n",
      "|state|count|\n",
      "+-----+-----+\n",
      "|   AZ| 8108|\n",
      "|   LA| 7676|\n",
      "|   NJ| 7031|\n",
      "|   MI|    1|\n",
      "|   NV| 6277|\n",
      "|   ID| 3783|\n",
      "|   CA| 4065|\n",
      "|   VT|    1|\n",
      "|   DE| 1894|\n",
      "|   MO| 8363|\n",
      "|   IL| 1765|\n",
      "|   WA|    2|\n",
      "|  XMS|    1|\n",
      "|   IN| 8946|\n",
      "|   TN| 9600|\n",
      "|   PA|26289|\n",
      "|   SD|    1|\n",
      "|   AB| 4346|\n",
      "|   MA|    2|\n",
      "|   TX|    4|\n",
      "+-----+-----+\n",
      "only showing top 20 rows\n",
      "\n"
     ]
    }
   ],
   "source": [
    "business.groupby('state').count().show()"
   ]
  },
  {
   "cell_type": "code",
   "execution_count": 8,
   "id": "7214bba8-e866-4dfa-9a9b-a92c6fcced72",
   "metadata": {},
   "outputs": [],
   "source": [
    "business = business \\\n",
    "    .groupby('state') \\\n",
    "    .count() \\\n",
    "    .filter(col('count') > 10).drop('count') \\\n",
    "    .join(business, on='state') "
   ]
  },
  {
   "cell_type": "markdown",
   "id": "1c4b05fa-1512-4a30-8e2a-1905c1b23555",
   "metadata": {},
   "source": [
    "### Dealing with semi-stuctural data"
   ]
  },
  {
   "cell_type": "markdown",
   "id": "47840135-8176-406c-a477-5b712757bbb7",
   "metadata": {},
   "source": [
    "The way we select those semi-stuctural columns that have been automatically infered is easy!"
   ]
  },
  {
   "cell_type": "code",
   "execution_count": 9,
   "id": "f713ca3d-70ff-4f63-b158-3eda30afc9c5",
   "metadata": {},
   "outputs": [
    {
     "name": "stderr",
     "output_type": "stream",
     "text": [
      "                                                                                \r"
     ]
    },
    {
     "name": "stdout",
     "output_type": "stream",
     "text": [
      "+--------------------+-------------------+-------+----------------------+\n",
      "|                name|RestaurantsDelivery|   Wifi|BusinessAcceptsBitcoin|\n",
      "+--------------------+-------------------+-------+----------------------+\n",
      "|       The UPS Store|               null|   null|                  null|\n",
      "|  St Honore Pastries|              False|u'free'|                  null|\n",
      "|Perkiomen Valley ...|               null|   null|                  null|\n",
      "|      Sonic Drive-In|               True|  u'no'|                  null|\n",
      "|     Famous Footwear|               null|   null|                  null|\n",
      "|      Temple Beth-El|               null|   null|                  null|\n",
      "|      Sonic Drive-In|               True|  u'no'|                  null|\n",
      "|           Marshalls|               null|   null|                  null|\n",
      "|Vietnamese Food T...|               null|   null|                  null|\n",
      "|             Denny's|               True|  u'no'|                  null|\n",
      "+--------------------+-------------------+-------+----------------------+\n",
      "only showing top 10 rows\n",
      "\n"
     ]
    }
   ],
   "source": [
    "business.select('name', 'attributes.RestaurantsDelivery', 'attributes.Wifi', 'attributes.BusinessAcceptsBitcoin').show(10)"
   ]
  },
  {
   "cell_type": "markdown",
   "id": "efd1721b-debf-46a1-9dcd-860f6a0cf3d8",
   "metadata": {},
   "source": [
    "- Hey, whats wrong with bitcoin!"
   ]
  },
  {
   "cell_type": "markdown",
   "id": "d2ad9d36-2af9-47e7-9984-dbd01903206f",
   "metadata": {},
   "source": [
    "However we also have a column that is not!"
   ]
  },
  {
   "cell_type": "code",
   "execution_count": 10,
   "id": "8090521f-935f-4d7e-86a4-921a1f5c4831",
   "metadata": {},
   "outputs": [
    {
     "name": "stderr",
     "output_type": "stream",
     "text": [
      "                                                                                \r"
     ]
    },
    {
     "name": "stdout",
     "output_type": "stream",
     "text": [
      "+----------------------+------------------------------------------------------------------------------+\n",
      "|           business_id|                                                                    categories|\n",
      "+----------------------+------------------------------------------------------------------------------+\n",
      "|mpf3x-BjTdTEA3yCZrAYPw|Shipping Centers, Local Services, Notaries, Mailbox Centers, Printing Services|\n",
      "|MTSW4McQd7CbVtyjqoe9mw|                         Restaurants, Food, Bubble Tea, Coffee & Tea, Bakeries|\n",
      "|mWMc6_wTdE0EUBKIGXDVfA|                                                     Brewpubs, Breweries, Food|\n",
      "|CF33F8-E6oudUQ46HnavjQ|  Burgers, Fast Food, Sandwiches, Food, Ice Cream & Frozen Yogurt, Restaurants|\n",
      "|n_0UpQx1hsNbnPUSlodU8w|      Sporting Goods, Fashion, Shoe Stores, Shopping, Sports Wear, Accessories|\n",
      "|qkRM_2X51Yqxk3btlwAQIg|                                           Synagogues, Religious Organizations|\n",
      "|bBDDEgkFA1Otx9Lfe7BZUQ|              Ice Cream & Frozen Yogurt, Fast Food, Burgers, Restaurants, Food|\n",
      "|UJsufbvfyfONHeWdvAHKjA|                                          Department Stores, Shopping, Fashion|\n",
      "|eEOYSgkmpB90uNA7lDOMRA|                                    Vietnamese, Food, Restaurants, Food Trucks|\n",
      "|il_Ro8jwPlHresjw9EGmBg|               American (Traditional), Restaurants, Diners, Breakfast & Brunch|\n",
      "|jaxMSoInw8Poo3XeMJt8lQ|              General Dentistry, Dentists, Health & Medical, Cosmetic Dentists|\n",
      "|MUTTqe8uqyMdBl186RmNeA|                                             Sushi Bars, Restaurants, Japanese|\n",
      "|rBmpy_Y1UbBx8ggHlyb7hA|                         Automotive, Auto Parts & Supplies, Auto Customization|\n",
      "|M0XSSHqrASOnhgbWDJIpQA|Vape Shops, Tobacco Shops, Personal Shopping, Vitamins & Supplements, Shopping|\n",
      "|8wGISYjYkE2tSqn3cDMu8A|                         Automotive, Car Rental, Hotels & Travel, Truck Rental|\n",
      "|ROeacJQwBeh05Rqg7F6TCg|                                                           Korean, Restaurants|\n",
      "|qhDdDeI3K4jy2KyzwFN53w|                              Shopping, Books, Mags, Music & Video, Bookstores|\n",
      "|kfNv-JZpuN6TVNSO6hHdkw|                                        Steakhouses, Asian Fusion, Restaurants|\n",
      "|9OG5YkX1g2GReZM0AskizA|                                                          Restaurants, Italian|\n",
      "|PSo_C1Sfa13JHjzVNW6ziQ|                               Pet Services, Pet Groomers, Pets, Veterinarians|\n",
      "+----------------------+------------------------------------------------------------------------------+\n",
      "only showing top 20 rows\n",
      "\n"
     ]
    }
   ],
   "source": [
    "business.select('business_id', 'categories').show(truncate = 100)"
   ]
  },
  {
   "cell_type": "code",
   "execution_count": 11,
   "id": "ae66d55c-9adb-4b89-884d-d463145ddd87",
   "metadata": {},
   "outputs": [],
   "source": [
    "def split_trim(categories_strings):\n",
    "    '''\n",
    "    Examples\n",
    "    --------\n",
    "    >>> split_trim('Ice Cream & Frozen Yogurt, Fast Food, Burgers, Restaurants, Food')\n",
    "    ['Ice Cream & Frozen Yogurt', 'Fast Food', 'Burgers', 'Restaurants', 'Food']\n",
    "    '''\n",
    "    categories = categories_strings.split(', ')\n",
    "    return categories"
   ]
  },
  {
   "cell_type": "code",
   "execution_count": 12,
   "id": "8a2b5aae-a6db-4af2-a54b-9d58667b5d78",
   "metadata": {},
   "outputs": [
    {
     "name": "stdout",
     "output_type": "stream",
     "text": [
      "+----------------------+------------------------------------------------------------------------------+-----------------+\n",
      "|           business_id|                                                                    categories|         category|\n",
      "+----------------------+------------------------------------------------------------------------------+-----------------+\n",
      "|mpf3x-BjTdTEA3yCZrAYPw|Shipping Centers, Local Services, Notaries, Mailbox Centers, Printing Services| Shipping Centers|\n",
      "|mpf3x-BjTdTEA3yCZrAYPw|Shipping Centers, Local Services, Notaries, Mailbox Centers, Printing Services|   Local Services|\n",
      "|mpf3x-BjTdTEA3yCZrAYPw|Shipping Centers, Local Services, Notaries, Mailbox Centers, Printing Services|         Notaries|\n",
      "|mpf3x-BjTdTEA3yCZrAYPw|Shipping Centers, Local Services, Notaries, Mailbox Centers, Printing Services|  Mailbox Centers|\n",
      "|mpf3x-BjTdTEA3yCZrAYPw|Shipping Centers, Local Services, Notaries, Mailbox Centers, Printing Services|Printing Services|\n",
      "|MTSW4McQd7CbVtyjqoe9mw|                         Restaurants, Food, Bubble Tea, Coffee & Tea, Bakeries|      Restaurants|\n",
      "|MTSW4McQd7CbVtyjqoe9mw|                         Restaurants, Food, Bubble Tea, Coffee & Tea, Bakeries|             Food|\n",
      "|MTSW4McQd7CbVtyjqoe9mw|                         Restaurants, Food, Bubble Tea, Coffee & Tea, Bakeries|       Bubble Tea|\n",
      "|MTSW4McQd7CbVtyjqoe9mw|                         Restaurants, Food, Bubble Tea, Coffee & Tea, Bakeries|     Coffee & Tea|\n",
      "|MTSW4McQd7CbVtyjqoe9mw|                         Restaurants, Food, Bubble Tea, Coffee & Tea, Bakeries|         Bakeries|\n",
      "+----------------------+------------------------------------------------------------------------------+-----------------+\n",
      "only showing top 10 rows\n",
      "\n"
     ]
    }
   ],
   "source": [
    "business.select('business_id', 'categories') \\\n",
    "    .withColumn('category', explode(split(col(\"categories\"), \", \"))) \\\n",
    "    .show(10, truncate = 200)"
   ]
  },
  {
   "cell_type": "code",
   "execution_count": 8,
   "id": "0765ea1c-a148-46c2-8a17-a53fa429fa01",
   "metadata": {},
   "outputs": [],
   "source": [
    "# Keep a mapping table\n",
    "business_category = business.select('business_id', 'categories') \\\n",
    "    .withColumn('category', explode(split(col(\"categories\"), \", \"))) \\\n",
    "    .drop('categories')"
   ]
  },
  {
   "cell_type": "code",
   "execution_count": 9,
   "id": "48d84e7e-eaca-4b7c-b990-9bb1924e6a4f",
   "metadata": {},
   "outputs": [
    {
     "name": "stderr",
     "output_type": "stream",
     "text": [
      "[Stage 3:===========================================>             (22 + 7) / 29]\r"
     ]
    },
    {
     "name": "stdout",
     "output_type": "stream",
     "text": [
      "+-------------------------+-----+\n",
      "|                 category|count|\n",
      "+-------------------------+-----+\n",
      "|              Restaurants|52268|\n",
      "|                     Food|27781|\n",
      "|                 Shopping|24395|\n",
      "|            Home Services|14356|\n",
      "|            Beauty & Spas|14292|\n",
      "|                Nightlife|12281|\n",
      "|         Health & Medical|11890|\n",
      "|           Local Services|11198|\n",
      "|                     Bars|11065|\n",
      "|               Automotive|10773|\n",
      "|Event Planning & Services| 9895|\n",
      "|               Sandwiches| 8366|\n",
      "|   American (Traditional)| 8139|\n",
      "|              Active Life| 7687|\n",
      "|                    Pizza| 7093|\n",
      "|             Coffee & Tea| 6703|\n",
      "|                Fast Food| 6472|\n",
      "|       Breakfast & Brunch| 6239|\n",
      "|           American (New)| 6097|\n",
      "|          Hotels & Travel| 5857|\n",
      "+-------------------------+-----+\n",
      "only showing top 20 rows\n",
      "\n"
     ]
    },
    {
     "name": "stderr",
     "output_type": "stream",
     "text": [
      "                                                                                \r"
     ]
    }
   ],
   "source": [
    "business_category.groupby('category') \\\n",
    "    .count() \\\n",
    "    .sort(col('count').desc()) \\\n",
    "    .show(20, truncate = 50)"
   ]
  },
  {
   "cell_type": "markdown",
   "id": "c317c307-af49-42b9-b9fc-57cbe3aaddb6",
   "metadata": {},
   "source": [
    "### Join"
   ]
  },
  {
   "cell_type": "markdown",
   "id": "d89dd1a8-4f1c-4e86-9279-c1be9db1f539",
   "metadata": {},
   "source": [
    "Functional dependency"
   ]
  },
  {
   "cell_type": "code",
   "execution_count": 15,
   "id": "1ef2b532-0124-4631-ba2c-bcd8926d6488",
   "metadata": {},
   "outputs": [
    {
     "name": "stdout",
     "output_type": "stream",
     "text": [
      "CPU times: user 3.85 ms, sys: 1.09 ms, total: 4.95 ms\n",
      "Wall time: 59.4 ms\n"
     ]
    }
   ],
   "source": [
    "%%time \n",
    "review_wide = review.join(business.select('business_id', \n",
    "                                          col('name').alias('biz_name'), \n",
    "                                          'attributes.RestaurantsTakeOut', \n",
    "                                          'categories',\n",
    "                                          'is_open'),\n",
    "                          on='business_id',\n",
    "                          how='inner') \\\n",
    "                     .join(user.select('user_id', \n",
    "                                      col('name').alias('user_name'), \n",
    "                                      'fans', \n",
    "                                      'yelping_since'),\n",
    "                          on='user_id',\n",
    "                          how='inner')"
   ]
  },
  {
   "cell_type": "markdown",
   "id": "ba370703-95b4-4804-b996-945b26829cfe",
   "metadata": {},
   "source": [
    "- Wait! That fast for this huge join??"
   ]
  },
  {
   "cell_type": "code",
   "execution_count": 16,
   "id": "23d0eef8-358e-4e12-88b6-944f55425e9f",
   "metadata": {},
   "outputs": [
    {
     "name": "stderr",
     "output_type": "stream",
     "text": [
      "[Stage 44:===============================================>        (11 + 2) / 13]\r"
     ]
    },
    {
     "name": "stdout",
     "output_type": "stream",
     "text": [
      "CPU times: user 19.3 ms, sys: 7.86 ms, total: 27.2 ms\n",
      "Wall time: 17 s\n"
     ]
    },
    {
     "name": "stderr",
     "output_type": "stream",
     "text": [
      "                                                                                \r"
     ]
    },
    {
     "data": {
      "text/plain": [
       "5790989"
      ]
     },
     "execution_count": 16,
     "metadata": {},
     "output_type": "execute_result"
    }
   ],
   "source": [
    "%%time \n",
    "review_wide.count()"
   ]
  },
  {
   "cell_type": "markdown",
   "id": "3c2f7bd6-d73f-426a-a142-be8316b5dd94",
   "metadata": {},
   "source": [
    "- But why so slow for counting! Aha, this is because they need to execute the delayed join as well due to the lazy commit!"
   ]
  },
  {
   "cell_type": "code",
   "execution_count": 17,
   "id": "79b4987f-50b2-49c1-ad66-b4e2cbc3ef5f",
   "metadata": {},
   "outputs": [
    {
     "name": "stdout",
     "output_type": "stream",
     "text": [
      "CPU times: user 0 ns, sys: 2.19 ms, total: 2.19 ms\n",
      "Wall time: 92.3 ms\n"
     ]
    }
   ],
   "source": [
    "%%time\n",
    "# But we can explictly tell DB to store it in memory\n",
    "review_wide = review_wide.persist(pyspark.StorageLevel.MEMORY_ONLY)"
   ]
  },
  {
   "cell_type": "markdown",
   "id": "63ab1ade-83b2-4da0-b69e-a9bbd9fbc228",
   "metadata": {},
   "source": [
    "- But again, the DB is doing nothing.."
   ]
  },
  {
   "cell_type": "code",
   "execution_count": 18,
   "id": "5692e980-257c-44c0-8ba6-2c9a5bb1ad59",
   "metadata": {},
   "outputs": [
    {
     "name": "stderr",
     "output_type": "stream",
     "text": [
      "[Stage 56:====================================================> (193 + 7) / 200]\r"
     ]
    },
    {
     "name": "stdout",
     "output_type": "stream",
     "text": [
      "CPU times: user 78.9 ms, sys: 6.72 ms, total: 85.6 ms\n",
      "Wall time: 42.6 s\n"
     ]
    },
    {
     "name": "stderr",
     "output_type": "stream",
     "text": [
      "                                                                                \r"
     ]
    },
    {
     "data": {
      "text/plain": [
       "5790989"
      ]
     },
     "execution_count": 18,
     "metadata": {},
     "output_type": "execute_result"
    }
   ],
   "source": [
    "%%time \n",
    "# Lets count!\n",
    "review_wide.count()"
   ]
  },
  {
   "cell_type": "markdown",
   "id": "78e8fc4f-4838-47de-9b32-8b66659a077a",
   "metadata": {},
   "source": [
    "- This command is still taking even longer! Because this time it runs the Join and keep it in the memory"
   ]
  },
  {
   "cell_type": "code",
   "execution_count": 19,
   "id": "290ff639-c323-4709-b470-768ef2a077f6",
   "metadata": {},
   "outputs": [
    {
     "name": "stderr",
     "output_type": "stream",
     "text": [
      "[Stage 67:==================================================>   (188 + 4) / 200]\r"
     ]
    },
    {
     "name": "stdout",
     "output_type": "stream",
     "text": [
      "CPU times: user 3.82 ms, sys: 0 ns, total: 3.82 ms\n",
      "Wall time: 1.44 s\n"
     ]
    },
    {
     "name": "stderr",
     "output_type": "stream",
     "text": [
      "                                                                                \r"
     ]
    },
    {
     "data": {
      "text/plain": [
       "5790989"
      ]
     },
     "execution_count": 19,
     "metadata": {},
     "output_type": "execute_result"
    }
   ],
   "source": [
    "%%time \n",
    "# Now, this command is getting much more faster!\n",
    "review_wide.count()"
   ]
  },
  {
   "cell_type": "markdown",
   "id": "5fe12c96-06bf-4fc7-9a9a-7fc17df11e2c",
   "metadata": {},
   "source": [
    "- And finally!! Counting 6m+ rows in 1~1.5 seconds! Totally fine to me!"
   ]
  },
  {
   "cell_type": "code",
   "execution_count": 20,
   "id": "6b7c8ffc-1b1b-466d-8c48-128a5cb788e6",
   "metadata": {},
   "outputs": [
    {
     "name": "stdout",
     "output_type": "stream",
     "text": [
      "+--------------------+--------------------+----+-------------------+-----+--------------------+-----+--------------------+------+--------------------+------------------+--------------------+-------+---------+----+-------------------+\n",
      "|             user_id|         business_id|cool|               date|funny|           review_id|stars|                text|useful|            biz_name|RestaurantsTakeOut|          categories|is_open|user_name|fans|      yelping_since|\n",
      "+--------------------+--------------------+----+-------------------+-----+--------------------+-----+--------------------+------+--------------------+------------------+--------------------+-------+---------+----+-------------------+\n",
      "|--RJK834fiQXm21Vp...|aIoUwpy5ZFQXUDxWM...|   0|2019-08-25 23:17:52|    0|QPF7spAqCc-D81GeX...|  1.0|There are new own...|     0|     Pete & Shorty's|              True|Seafood, Diners, ...|      1|    Renee|   0|2018-02-04 20:34:16|\n",
      "|--UhENQdbuWEh0mU5...|K_s-9Wd6vXSfnxYFz...|   1|2017-08-06 02:42:02|    1|dghJt1TSuyFkmLddu...|  5.0|When im first arr...|     0|Kei Sushi Restaurant|              True|Sushi Bars, Resta...|      1|    Sonny|   0|2017-06-19 18:37:56|\n",
      "|--cxdcv_b9uhAKsKT...|oD3zBLplcYefdMHo5...|   0|2019-11-01 22:04:32|    0|VNT1ymOYUuWC-qxdI...|  4.0|This is definitel...|     0|  Garden Farm Market|              True|Fruits & Veggies,...|      1|   Cheryl|   0|2014-02-08 01:13:06|\n",
      "|-0EzgKMI9ZakqLiWR...|6aPXOXi8h1m58hihg...|   0|2018-07-18 13:04:59|    0|C74fnh5gpnH2cgbHT...|  5.0|If you're looking...|     0| Old Northeast Pizza|              True|Pizza, Restaurant...|      1|   Joseph|   0|2018-01-03 21:31:49|\n",
      "|-0EzgKMI9ZakqLiWR...|P0BB_HeVN-M8D31yt...|   0|2019-03-28 21:38:52|    0|ILPE_Jjrqu_DICC7R...|  5.0|Dr. Exelby and Mi...|     0|Rainbow Veterinar...|              null|Pet Services, Vet...|      1|   Joseph|   0|2018-01-03 21:31:49|\n",
      "+--------------------+--------------------+----+-------------------+-----+--------------------+-----+--------------------+------+--------------------+------------------+--------------------+-------+---------+----+-------------------+\n",
      "only showing top 5 rows\n",
      "\n"
     ]
    }
   ],
   "source": [
    "review_wide.show(5)"
   ]
  },
  {
   "cell_type": "markdown",
   "id": "b3c7f285-ea73-4eb0-93ee-a21dd53b751e",
   "metadata": {
    "tags": []
   },
   "source": [
    "## Tutorials"
   ]
  },
  {
   "cell_type": "markdown",
   "id": "8b853c21-06e8-4172-b718-3861447473c0",
   "metadata": {},
   "source": [
    "To better help you know how spark works. I intentially come up with some super complex query on my own (hope it makes sense to you guys)!"
   ]
  },
  {
   "cell_type": "markdown",
   "id": "616ece5e-e480-4827-b0c5-fb96719f0150",
   "metadata": {},
   "source": [
    "### Top 5 specific categories in each state?"
   ]
  },
  {
   "cell_type": "code",
   "execution_count": 6,
   "id": "319e8793-6b26-48be-8e8f-06d1db33224d",
   "metadata": {},
   "outputs": [],
   "source": [
    "from pyspark.sql.window import Window"
   ]
  },
  {
   "cell_type": "code",
   "execution_count": 10,
   "id": "8e6ee3df-307a-4fff-b335-d43574c1f066",
   "metadata": {},
   "outputs": [
    {
     "name": "stderr",
     "output_type": "stream",
     "text": [
      "                                                                                \r"
     ]
    }
   ],
   "source": [
    "temp = business_category \\\n",
    "    .join(business.select('business_id', 'state'), on='business_id')  \\\n",
    "    .join(review.select('review_id', 'business_id'), on='business_id')  \\\n",
    "    .groupby(['state', 'category']) \\\n",
    "    .agg(F.count('review_id').alias('# of reviews')).rdd.toDF()#.show()\n",
    "#    .groupby('state'=='NY')#dropDuplicates(subset=['state']).show()"
   ]
  },
  {
   "cell_type": "code",
   "execution_count": 11,
   "id": "d778e934-334a-4b8d-8ca9-dc7db64bf3d6",
   "metadata": {},
   "outputs": [
    {
     "name": "stderr",
     "output_type": "stream",
     "text": [
      "[Stage 18:>                                                         (0 + 1) / 1]\r"
     ]
    },
    {
     "name": "stdout",
     "output_type": "stream",
     "text": [
      "+-----+--------------------+------------+\n",
      "|state|            category|# of reviews|\n",
      "+-----+--------------------+------------+\n",
      "|   IN|        Pet Groomers|        2440|\n",
      "|   IN|       Home & Garden|        9245|\n",
      "|   NJ|        Gas Stations|        1199|\n",
      "|   NJ|            Car Wash|        1626|\n",
      "|   IN|              Diners|       11110|\n",
      "|   PA|  Wheel & Rim Repair|        1016|\n",
      "|   MO|  Convenience Stores|        1517|\n",
      "|   IL|             Fashion|         891|\n",
      "|   AZ|Junk Removal & Ha...|         430|\n",
      "|   CA|   Party Bus Rentals|         753|\n",
      "+-----+--------------------+------------+\n",
      "only showing top 10 rows\n",
      "\n"
     ]
    },
    {
     "name": "stderr",
     "output_type": "stream",
     "text": [
      "                                                                                \r"
     ]
    }
   ],
   "source": [
    "temp.show(10)"
   ]
  },
  {
   "cell_type": "code",
   "execution_count": 12,
   "id": "54301b08-a196-4e5c-bc05-7373627afb15",
   "metadata": {},
   "outputs": [
    {
     "name": "stderr",
     "output_type": "stream",
     "text": [
      "                                                                                \r"
     ]
    },
    {
     "name": "stdout",
     "output_type": "stream",
     "text": [
      "+-----+------------------------------+------------------------------+----------------------+------------------------------+-------------------------------+\n",
      "|state|        NO.1 reviewed category|        NO.2 reviewed category|NO.3 reviewed category|        NO.4 reviewed category|         NO.5 reviewed category|\n",
      "+-----+------------------------------+------------------------------+----------------------+------------------------------+-------------------------------+\n",
      "|   AZ|          Restaurants (267036)|                  Food (98763)|     Nightlife (77897)|                  Bars (75331)|                Mexican (56284)|\n",
      "|   LA|          Restaurants (558340)|         Cajun/Creole (201824)|         Food (195245)|            Nightlife (187057)|                  Bars (175300)|\n",
      "|   NJ|          Restaurants (171186)|                  Food (61877)|     Nightlife (35190)|American (Traditional) (34537)|                   Bars (33005)|\n",
      "|   MI|       Wheel & Rim Repair (11)|              Auto Repair (11)|           Towing (11)|      Oil Change Stations (11)|     Auto Parts & Supplies (11)|\n",
      "|   NV|          Restaurants (243594)|                 Food (101970)|     Nightlife (67119)|                  Bars (59388)| American (Traditional) (48552)|\n",
      "|   ID|          Restaurants (100065)|                  Food (42960)|     Nightlife (29805)|                  Bars (28635)| American (Traditional) (21044)|\n",
      "|   CA|          Restaurants (211748)|                  Food (97942)|     Nightlife (76574)|                  Bars (72760)|         American (New) (53091)|\n",
      "|   MT|    American (Traditional) (6)|               Restaurants (6)|       Food Trucks (6)|                      Food (6)|                    Burgers (6)|\n",
      "|   NC|                     Food (29)|             Coffee & Tea (29)|   American (New) (29)|              Restaurants (29)|    American (Traditional) (29)|\n",
      "|   VT|                    Tires (10)|      Roadside Assistance (10)|       Automotive (10)|                   Towing (10)|               Auto Repair (10)|\n",
      "|   DE|           Restaurants (49151)|                  Food (14895)|     Nightlife (14029)|                  Bars (13585)| American (Traditional) (10316)|\n",
      "|   MO|          Restaurants (354605)|                 Food (145109)|    Nightlife (130275)|                 Bars (121352)| American (Traditional) (79190)|\n",
      "|   VI|Event Planning & Services (11)|         Vacation Rentals (11)|  Hotels & Travel (11)|            Boat Charters (11)|                   Boating (11)|\n",
      "|   IL|           Restaurants (36870)|American (Traditional) (12441)|          Food (12226)|              Nightlife (9905)|                    Bars (9628)|\n",
      "|   WA|      Oil Change Stations (13)|               Automotive (13)|       Nail Salons (6)|             Beauty & Spas (6)|                           null|\n",
      "|  XMS| Event Planning & Services (5)|                  Caterers (5)|              Food (5)|               Restaurants (5)|         Breakfast & Brunch (5)|\n",
      "|   IN|          Restaurants (335843)|                 Food (135946)|    Nightlife (120505)|                 Bars (114705)| American (Traditional) (86525)|\n",
      "|   TN|          Restaurants (434697)|            Nightlife (179480)|         Bars (166781)|                 Food (165083)|American (Traditional) (134567)|\n",
      "|   PA|         Restaurants (1100250)|                 Food (413747)|    Nightlife (335684)|                 Bars (318754)|        American (New) (236195)|\n",
      "|   SD|                  Barbers (42)|              Hair Salons (42)|    Beauty & Spas (42)|              Nail Salons (42)|                  Day Spas (42)|\n",
      "|   AB|           Restaurants (68882)|                  Food (26216)|     Nightlife (18421)|                  Bars (17257)|               Shopping (12538)|\n",
      "|   MA|         Shipping Centers (35)|           Local Services (35)|     Home Services (9)|             Home Cleaning (9)|                           null|\n",
      "|   TX|            Home Services (18)|              Real Estate (18)|       Apartments (18)|                  Jewelry (10)|  Outdoor Furniture Stores (10)|\n",
      "|   CO|              Restaurants (12)|                  Buffets (12)|     Outdoor Gear (11)|           Sporting Goods (11)|                  Shopping (11)|\n",
      "|   FL|          Restaurants (792133)|                 Food (301574)|    Nightlife (257816)|                 Bars (249072)|American (Traditional) (190399)|\n",
      "|   HI|                 Shopping (19)|Cosmetics & Beauty Supply (19)|    Beauty & Spas (19)|         Health & Medical (19)|                   Doctors (19)|\n",
      "|   UT|         Health & Medical (19)|                 Trainers (19)|    Nutritionists (19)|                     Yoga (19)|               Active Life (19)|\n",
      "+-----+------------------------------+------------------------------+----------------------+------------------------------+-------------------------------+\n",
      "\n"
     ]
    }
   ],
   "source": [
    "temp.withColumn('cate_rank_in_state', \n",
    "                F.row_number().over(Window.partitionBy(\"state\").orderBy(col(\"# of reviews\").desc()))) \\\n",
    "    .filter(col('cate_rank_in_state') <= 5) \\\n",
    "    .withColumn('category_info', F.concat(col(\"category\"), F.lit(' ('), col(\"# of reviews\"), F.lit(')'))) \\\n",
    "    .withColumn('cate_rank_in_state', F.concat(F.lit('NO.'), col(\"cate_rank_in_state\"), F.lit(' reviewed category'))) \\\n",
    "    .groupby('state') \\\n",
    "    .pivot(\"cate_rank_in_state\").agg(F.first(\"category_info\")).show(50, truncate = 100)"
   ]
  },
  {
   "cell_type": "markdown",
   "id": "c4a7ae86-e737-4428-b3f2-bb5553485758",
   "metadata": {},
   "source": [
    "### Top 5 longest consecutive reviewing users and reviewed business"
   ]
  },
  {
   "cell_type": "code",
   "execution_count": null,
   "id": "d037db54-7467-4ba9-9073-2ea393cecccf",
   "metadata": {},
   "outputs": [],
   "source": [
    "# Fetch the user's id with its\n",
    "user_review = review \\\n",
    "    .sort('date') \\\n",
    "    .select('review_id', 'user_id', 'text', F.to_date(F.date_format(col(\"date\"), \"yyyy-MM-dd kk:hh:ss\")).alias(\"date\")) \\\n",
    "    .groupby('user_id', 'date').agg(\n",
    "        F.last('text').alias('latest_review')) \n",
    "\n",
    "result = user_review \\\n",
    "    .withColumn('date_id', \n",
    "                F.row_number().over(Window.partitionBy(\"user_id\").orderBy(col(\"date\")))) \\\n",
    "    .withColumn('consecutive_id', col('date') - col('date_id')) \\\n",
    "    .groupby('user_id', 'consecutive_id') \\\n",
    "    .agg(F.count('date_id').alias('# of consecutive days'),\n",
    "         F.first('date').alias('start'),\n",
    "         F.last('date').alias('end')\n",
    "        ) \\\n",
    "    .drop('consecutive_id') \\\n",
    "    .sort(col('# of consecutive days').desc()) \\\n",
    "    .limit(5).rdd.toDF()"
   ]
  },
  {
   "cell_type": "code",
   "execution_count": null,
   "id": "e512937c-19ca-411d-bc92-9027e5da7a14",
   "metadata": {},
   "outputs": [],
   "source": [
    "user.select('user_id', 'name', 'yelping_since') \\\n",
    "    .join(result, on='user_id') \\\n",
    "    .join(user_review.withColumnRenamed('date', 'end'), on=['user_id', 'end']) \\\n",
    "    .sort(col('# of consecutive days').desc()) \\\n",
    "    .select('name', 'yelping_since', '# of consecutive days', 'start', 'end', 'latest_review') \\\n",
    "    .show(truncate = 60)"
   ]
  },
  {
   "cell_type": "markdown",
   "id": "177e3bd5-1a1c-4457-a1af-b4e6a4e75447",
   "metadata": {},
   "source": [
    "- https://sparkbyexamples.com/pyspark/pyspark-sql-date-and-timestamp-functions/"
   ]
  },
  {
   "cell_type": "code",
   "execution_count": null,
   "id": "8f63645e-f9e5-41f0-9c05-c12802bf8b80",
   "metadata": {},
   "outputs": [],
   "source": [
    "# Fetch the business's id with its\n",
    "business_review = review \\\n",
    "    .sort('date') \\\n",
    "    .select('review_id', 'business_id', 'text', F.to_date(F.date_format(col(\"date\"), \"yyyy-MM-dd kk:hh:ss\")).alias(\"date\")) \\\n",
    "    .groupby('business_id', 'date').agg(\n",
    "        F.last('text').alias('latest_review')) "
   ]
  },
  {
   "cell_type": "code",
   "execution_count": null,
   "id": "bb980c24-9484-4d4e-94b6-b64fc9adc624",
   "metadata": {},
   "outputs": [],
   "source": [
    "result_biz = business_review \\\n",
    "    .withColumn('date_id', \n",
    "                F.row_number().over(Window.partitionBy(\"business_id\").orderBy(col(\"date\")))) \\\n",
    "    .withColumn('consecutive_id', col('date') - col('date_id')) \\\n",
    "    .groupby('business_id', 'consecutive_id') \\\n",
    "    .agg(F.count('date_id').alias('# of consecutive days'),\n",
    "         F.first('date').alias('start'),\n",
    "         F.last('date').alias('end')\n",
    "        ) \\\n",
    "    .drop('consecutive_id') \\\n",
    "    .sort(col('# of consecutive days').desc()) \\\n",
    "    .limit(5).rdd.toDF()"
   ]
  },
  {
   "cell_type": "code",
   "execution_count": null,
   "id": "5384845c-4ecd-43ac-8156-2245ed628ec5",
   "metadata": {},
   "outputs": [],
   "source": [
    "business.select('business_id', 'name', 'address', 'city', 'state') \\\n",
    "    .join(result_biz, on='business_id') \\\n",
    "    .join(business_review.withColumnRenamed('date', 'end'), on=['business_id', 'end']) \\\n",
    "    .sort(col('# of consecutive days').desc()) \\\n",
    "    .select('name', 'address', 'city', 'state', '# of consecutive days', 'start', 'end', 'latest_review') \\\n",
    "    .show(truncate = 50)"
   ]
  },
  {
   "cell_type": "markdown",
   "id": "753568b8-dded-4c60-a219-c01d6e89ead7",
   "metadata": {},
   "source": [
    "### Popular VS Unpopular!"
   ]
  },
  {
   "cell_type": "markdown",
   "id": "7e524e05-e343-4d0e-8432-d361b922e555",
   "metadata": {},
   "source": [
    "Inspired by the question 5 of our [Project 2](https://github.com/w4111/project2-s22/blob/main/project2.ipynb), lets define 4 categories of businesses! For a given business B, we will use the number of reviews on B as the first metric, and the average stars those reviews give to the B as the second metric. Then we can classify each user as follows:\n",
    "\n",
    "- High stars, high amount of reviews   (**popular businesses**)\n",
    "- High stars, low amount of reviews\n",
    "- Low stars, high amount of reviews\n",
    "- Low stars, low amount of reviews  (**unpopular businesses**)\n",
    "\n",
    "We define the stars and amount of reviews to be high or low based on the rules below:\n",
    "   \n",
    "- 1) If `stars < avg(stars of all business in local)` then indegree is said to be low for the user, else it is considered high. **A user is in the graph if it's either src or dst of an edge.**\n",
    "    \n",
    "    -  A `valid` review are reviews sent by `active` users. An `active` user is user that (1) registered in 2021 or later (2) registered before 2021 but sent at least 1 review every year since he/she registered.\n",
    "    \n",
    "    - A `active` restaurants are those restaurant with at least 1 valid review.\n",
    "    \n",
    "- 2) If `avg(likes of all tweets for the user in the graph) < avg(likes for all tweets in tweets table)`, then the average number of likes is said to be low for the user, else it is considered high. A user without tweets has avg like 0.\n",
    "\n",
    "Now, compute the following: given all tweets by unpopular users, what percentage of them mention a popular user?  We will only consider users in the graph. \n",
    "\n",
    "You can use temporary tables to do this question (no need to implement in a single query). Your final output should contain the column:\n",
    "- unpopular_popular\n",
    "\n",
    "Cast your final result as DOUBLE in unpopular_popular. For instance, if 50% of tweets by unpopular users mention a popular user, the final output should be 0.5."
   ]
  },
  {
   "cell_type": "code",
   "execution_count": null,
   "id": "7841c2ec-6151-49e1-904a-d8b34d11f655",
   "metadata": {},
   "outputs": [],
   "source": [
    "review.select(F.year(F.date_format(col(\"date\"), \"yyyy-MM-dd kk:hh:ss\")).alias(\"year\")) \\\n",
    "    .groupby('year') \\\n",
    "    .count() \\\n",
    "    .sort('year') \\\n",
    "    .show()"
   ]
  },
  {
   "cell_type": "code",
   "execution_count": null,
   "id": "38f875f6-ba6b-45eb-afba-9ebc4ea9910a",
   "metadata": {},
   "outputs": [],
   "source": [
    "# Calculate 'age' of users\n",
    "user_age = user.select('user_id', (2021 - F.year(F.date_format(col(\"yelping_since\"), \"yyyy-MM-dd kk:hh:ss\"))).alias(\"user_age\"))\n",
    "user_age.show()"
   ]
  },
  {
   "cell_type": "markdown",
   "id": "fda1e11b-7c51-4b98-b10c-845377ab740f",
   "metadata": {},
   "source": [
    "- For those registered in 2021 and 2022, their `age` will be 0 and 1! Therefore if they have reviewed a restaurant since then, they are active user because 1 >= 1 and 1 >= 0!"
   ]
  },
  {
   "cell_type": "code",
   "execution_count": null,
   "id": "0b6777cf-12d2-4f95-a77f-00455183bd14",
   "metadata": {},
   "outputs": [],
   "source": [
    "# Fetch activate users!\n",
    "active_user = review.select('user_id', F.year(F.date_format(col(\"date\"), \"yyyy-MM-dd kk:hh:ss\")).alias(\"year\")) \\\n",
    "    .groupby('user_id') \\\n",
    "    .agg(F.countDistinct('year').alias('n_reviewed_year')) \\\n",
    "    .join(user_age, on='user_id') \\\n",
    "    .filter(col('n_reviewed_year') >= col('user_age')).rdd.toDF()\n",
    "active_user.show()"
   ]
  },
  {
   "cell_type": "code",
   "execution_count": null,
   "id": "e69cb692-16c2-46db-915b-2f868ef3062a",
   "metadata": {},
   "outputs": [],
   "source": [
    "valid_reviews = review.join(active_user, on='user_id').join(business.select('business_id', 'state'), on='business_id').rdd.toDF()\n",
    "state_benchmark = valid_reviews \\\n",
    "    .groupby('state') \\\n",
    "    .agg((F.count('review_id') / F.countDistinct('business_id')).alias(\"benchmark # of valid reviews\"),\n",
    "          F.mean('stars').alias(\"benchmark average Stars\")).rdd.toDF()\n",
    "state_benchmark.show()"
   ]
  },
  {
   "cell_type": "code",
   "execution_count": null,
   "id": "cb0d1474-1d41-4466-a766-9277579f0ddd",
   "metadata": {},
   "outputs": [],
   "source": [
    "business_scored = valid_reviews.groupby('business_id', 'state') \\\n",
    "    .agg((F.count('review_id')).alias(\"# of valid reviews\"),\n",
    "          F.mean('stars').alias(\"average Stars\")) \\\n",
    "    .join(state_benchmark, on='state').rdd.toDF()"
   ]
  },
  {
   "cell_type": "code",
   "execution_count": null,
   "id": "f1b87f5c-351b-446f-9520-c21af670c595",
   "metadata": {},
   "outputs": [],
   "source": [
    "pop_biz_by_state = business_scored \\\n",
    "    .filter((col('# of valid reviews') >= col('benchmark # of valid reviews')) &\n",
    "            (col('average Stars') >= col('benchmark average stars'))) \\\n",
    "    .groupby('state') \\\n",
    "    .agg(F.count('business_id').alias('n_pop_biz')).rdd.toDF()"
   ]
  },
  {
   "cell_type": "code",
   "execution_count": null,
   "id": "5d84a076-50af-4c90-9035-4b45ca5ec946",
   "metadata": {},
   "outputs": [],
   "source": [
    "unpop_biz_by_state = business_scored \\\n",
    "    .filter((col('# of valid reviews') < col('benchmark # of valid reviews')) &\n",
    "            (col('average Stars') < col('benchmark average stars'))) \\\n",
    "    .groupby('state') \\\n",
    "    .agg(F.count('business_id').alias('n_unpop_biz')).rdd.toDF()"
   ]
  },
  {
   "cell_type": "code",
   "execution_count": null,
   "id": "29dc1c83-e621-4859-ba64-3a8291364627",
   "metadata": {},
   "outputs": [],
   "source": [
    "pop_biz_by_state \\\n",
    "    .join(unpop_biz_by_state, on='state') \\\n",
    "    .withColumn('Ratio (%)', F.lit(100) * col('n_pop_biz') / (col('n_pop_biz') + col('n_unpop_biz'))) \\\n",
    "    .withColumn('Ratio (%)', F.format_number(col('Ratio (%)'), 2)) \\\n",
    "    .sort(col('Ratio (%)').desc()) \\\n",
    "    .show()"
   ]
  },
  {
   "cell_type": "markdown",
   "id": "2fdd3c33-3529-4403-97c8-3f18e86fe7c9",
   "metadata": {},
   "source": [
    "### What do they mean by elite?"
   ]
  },
  {
   "cell_type": "markdown",
   "id": "2975676d-cd4c-4b16-bc83-f9def25c6205",
   "metadata": {},
   "source": [
    "In this part, we focus on how elite users‘ review v.s. non-elite users' behave differently!\n",
    "\n",
    "Yelp [elite](https://www.yelp.com/elite) squad are those users in a diverse community of passionate writers, photographers, and adventurers. So how would they perform different from normal users in terms of word of choice, # of photos used per review? Let's find out!"
   ]
  },
  {
   "cell_type": "code",
   "execution_count": 13,
   "id": "c7e2257d-a867-4539-918d-28d8f188ed46",
   "metadata": {},
   "outputs": [
    {
     "name": "stdout",
     "output_type": "stream",
     "text": [
      "+--------------------+--------------------+\n",
      "|             user_id|               elite|\n",
      "+--------------------+--------------------+\n",
      "|qVc8ODYU5SZjKXVBg...|                2007|\n",
      "|j14WgRoU_-2ZE1aw1...|2009,2010,2011,20...|\n",
      "|2WnXYQFK0hXEoTxPt...|2009,2010,2011,20...|\n",
      "|SZDeASXq7o05mMNLs...|      2009,2010,2011|\n",
      "|hA5lMy-EnncsH4JoR...|                    |\n",
      "|q_QQ5kBBwlCcbL1s4...|2006,2007,2008,20...|\n",
      "|cxuxXkcihfCbqt5By...|                    |\n",
      "|E9kcWJdJUHuTKfQur...|                    |\n",
      "+--------------------+--------------------+\n",
      "only showing top 8 rows\n",
      "\n"
     ]
    }
   ],
   "source": [
    "user.select('user_id', 'elite').show(8)"
   ]
  },
  {
   "cell_type": "markdown",
   "id": "52b5b28c-c80e-4c4e-80d0-14ecaec6e561",
   "metadata": {},
   "source": [
    "**Step 1: Tag each review about whether it is sent by a elite user in his/her elite year!**"
   ]
  },
  {
   "cell_type": "code",
   "execution_count": 14,
   "id": "fff33dd1-46ab-40d8-9557-2c44dc1ef4f8",
   "metadata": {},
   "outputs": [],
   "source": [
    "user_elite_year = user.select('user_id', 'elite') \\\n",
    "    .withColumn('elite', F.regexp_replace('elite', ',20,20,', ',2020,')) \\\n",
    "    .withColumn('elite_year', explode(split(col(\"elite\"), \",\"))) \\\n",
    "    .filter(col('elite_year')!='')"
   ]
  },
  {
   "cell_type": "code",
   "execution_count": 15,
   "id": "e154b984-e02a-468f-ac51-6b8c3987a190",
   "metadata": {},
   "outputs": [
    {
     "name": "stdout",
     "output_type": "stream",
     "text": [
      "+----------------------+----------------------------------------------------------------+----------+\n",
      "|               user_id|                                                           elite|elite_year|\n",
      "+----------------------+----------------------------------------------------------------+----------+\n",
      "|qVc8ODYU5SZjKXVBgXdI7w|                                                            2007|      2007|\n",
      "|j14WgRoU_-2ZE1aw1dXrJg|2009,2010,2011,2012,2013,2014,2015,2016,2017,2018,2019,2020,2021|      2009|\n",
      "|j14WgRoU_-2ZE1aw1dXrJg|2009,2010,2011,2012,2013,2014,2015,2016,2017,2018,2019,2020,2021|      2010|\n",
      "|j14WgRoU_-2ZE1aw1dXrJg|2009,2010,2011,2012,2013,2014,2015,2016,2017,2018,2019,2020,2021|      2011|\n",
      "+----------------------+----------------------------------------------------------------+----------+\n",
      "only showing top 4 rows\n",
      "\n"
     ]
    }
   ],
   "source": [
    "user_elite_year.show(4, truncate=100)"
   ]
  },
  {
   "cell_type": "code",
   "execution_count": 16,
   "id": "b7bd63ce-6ee8-4363-88d6-3f0ee9d7096c",
   "metadata": {},
   "outputs": [
    {
     "name": "stderr",
     "output_type": "stream",
     "text": [
      "                                                                                \r"
     ]
    }
   ],
   "source": [
    "review_temp = review.withColumn('year', F.year(F.date_format(col(\"date\"), \"yyyy-MM-dd kk:hh:ss\")))\n",
    "review_elite_tagged = review_temp \\\n",
    "    .join(user_elite_year, on=review_temp.year == user_elite_year.elite_year, how='left') \\\n",
    "    .withColumn('is_elite_year', (F.when(col(\"elite_year\").isNull(), 0)\n",
    "                                   .when(col(\"elite_year\").isNotNull(), 1)\n",
    "                                   .otherwise(None))).rdd.toDF()"
   ]
  },
  {
   "cell_type": "markdown",
   "id": "2251d4a7-462a-4281-bf6d-d46a2f688ace",
   "metadata": {},
   "source": [
    "**Step 2: Calculate what are the word Tag each review about whether it is sent by a elite user in his/her elite year!**"
   ]
  },
  {
   "cell_type": "code",
   "execution_count": null,
   "id": "4ac79a90-0bc1-4be8-aa26-5df2917a0d9b",
   "metadata": {},
   "outputs": [],
   "source": []
  },
  {
   "cell_type": "code",
   "execution_count": 18,
   "id": "3fdf307e-3a17-48e7-89ae-1cb3efe66030",
   "metadata": {},
   "outputs": [
    {
     "name": "stderr",
     "output_type": "stream",
     "text": [
      "[Stage 61:>               (2 + 31) / 54][Stage 62:>                (0 + 1) / 54]\r"
     ]
    },
    {
     "ename": "KeyboardInterrupt",
     "evalue": "",
     "output_type": "error",
     "traceback": [
      "\u001b[0;31m---------------------------------------------------------------------------\u001b[0m",
      "\u001b[0;31mKeyboardInterrupt\u001b[0m                         Traceback (most recent call last)",
      "Input \u001b[0;32mIn [18]\u001b[0m, in \u001b[0;36m<cell line: 1>\u001b[0;34m()\u001b[0m\n\u001b[0;32m----> 1\u001b[0m \u001b[43mreview_elite_tagged\u001b[49m\u001b[38;5;241;43m.\u001b[39;49m\u001b[43mcount\u001b[49m\u001b[43m(\u001b[49m\u001b[43m)\u001b[49m\n",
      "File \u001b[0;32m/usr/lib/spark/python/pyspark/sql/dataframe.py:664\u001b[0m, in \u001b[0;36mDataFrame.count\u001b[0;34m(self)\u001b[0m\n\u001b[1;32m    654\u001b[0m \u001b[38;5;28;01mdef\u001b[39;00m \u001b[38;5;21mcount\u001b[39m(\u001b[38;5;28mself\u001b[39m):\n\u001b[1;32m    655\u001b[0m     \u001b[38;5;124;03m\"\"\"Returns the number of rows in this :class:`DataFrame`.\u001b[39;00m\n\u001b[1;32m    656\u001b[0m \n\u001b[1;32m    657\u001b[0m \u001b[38;5;124;03m    .. versionadded:: 1.3.0\u001b[39;00m\n\u001b[0;32m   (...)\u001b[0m\n\u001b[1;32m    662\u001b[0m \u001b[38;5;124;03m    2\u001b[39;00m\n\u001b[1;32m    663\u001b[0m \u001b[38;5;124;03m    \"\"\"\u001b[39;00m\n\u001b[0;32m--> 664\u001b[0m     \u001b[38;5;28;01mreturn\u001b[39;00m \u001b[38;5;28mint\u001b[39m(\u001b[38;5;28;43mself\u001b[39;49m\u001b[38;5;241;43m.\u001b[39;49m\u001b[43m_jdf\u001b[49m\u001b[38;5;241;43m.\u001b[39;49m\u001b[43mcount\u001b[49m\u001b[43m(\u001b[49m\u001b[43m)\u001b[49m)\n",
      "File \u001b[0;32m/opt/conda/miniconda3/lib/python3.8/site-packages/py4j/java_gateway.py:1303\u001b[0m, in \u001b[0;36mJavaMember.__call__\u001b[0;34m(self, *args)\u001b[0m\n\u001b[1;32m   1296\u001b[0m args_command, temp_args \u001b[38;5;241m=\u001b[39m \u001b[38;5;28mself\u001b[39m\u001b[38;5;241m.\u001b[39m_build_args(\u001b[38;5;241m*\u001b[39margs)\n\u001b[1;32m   1298\u001b[0m command \u001b[38;5;241m=\u001b[39m proto\u001b[38;5;241m.\u001b[39mCALL_COMMAND_NAME \u001b[38;5;241m+\u001b[39m\\\n\u001b[1;32m   1299\u001b[0m     \u001b[38;5;28mself\u001b[39m\u001b[38;5;241m.\u001b[39mcommand_header \u001b[38;5;241m+\u001b[39m\\\n\u001b[1;32m   1300\u001b[0m     args_command \u001b[38;5;241m+\u001b[39m\\\n\u001b[1;32m   1301\u001b[0m     proto\u001b[38;5;241m.\u001b[39mEND_COMMAND_PART\n\u001b[0;32m-> 1303\u001b[0m answer \u001b[38;5;241m=\u001b[39m \u001b[38;5;28;43mself\u001b[39;49m\u001b[38;5;241;43m.\u001b[39;49m\u001b[43mgateway_client\u001b[49m\u001b[38;5;241;43m.\u001b[39;49m\u001b[43msend_command\u001b[49m\u001b[43m(\u001b[49m\u001b[43mcommand\u001b[49m\u001b[43m)\u001b[49m\n\u001b[1;32m   1304\u001b[0m return_value \u001b[38;5;241m=\u001b[39m get_return_value(\n\u001b[1;32m   1305\u001b[0m     answer, \u001b[38;5;28mself\u001b[39m\u001b[38;5;241m.\u001b[39mgateway_client, \u001b[38;5;28mself\u001b[39m\u001b[38;5;241m.\u001b[39mtarget_id, \u001b[38;5;28mself\u001b[39m\u001b[38;5;241m.\u001b[39mname)\n\u001b[1;32m   1307\u001b[0m \u001b[38;5;28;01mfor\u001b[39;00m temp_arg \u001b[38;5;129;01min\u001b[39;00m temp_args:\n",
      "File \u001b[0;32m/opt/conda/miniconda3/lib/python3.8/site-packages/py4j/java_gateway.py:1033\u001b[0m, in \u001b[0;36mGatewayClient.send_command\u001b[0;34m(self, command, retry, binary)\u001b[0m\n\u001b[1;32m   1031\u001b[0m connection \u001b[38;5;241m=\u001b[39m \u001b[38;5;28mself\u001b[39m\u001b[38;5;241m.\u001b[39m_get_connection()\n\u001b[1;32m   1032\u001b[0m \u001b[38;5;28;01mtry\u001b[39;00m:\n\u001b[0;32m-> 1033\u001b[0m     response \u001b[38;5;241m=\u001b[39m \u001b[43mconnection\u001b[49m\u001b[38;5;241;43m.\u001b[39;49m\u001b[43msend_command\u001b[49m\u001b[43m(\u001b[49m\u001b[43mcommand\u001b[49m\u001b[43m)\u001b[49m\n\u001b[1;32m   1034\u001b[0m     \u001b[38;5;28;01mif\u001b[39;00m binary:\n\u001b[1;32m   1035\u001b[0m         \u001b[38;5;28;01mreturn\u001b[39;00m response, \u001b[38;5;28mself\u001b[39m\u001b[38;5;241m.\u001b[39m_create_connection_guard(connection)\n",
      "File \u001b[0;32m/opt/conda/miniconda3/lib/python3.8/site-packages/py4j/java_gateway.py:1200\u001b[0m, in \u001b[0;36mGatewayConnection.send_command\u001b[0;34m(self, command)\u001b[0m\n\u001b[1;32m   1196\u001b[0m     \u001b[38;5;28;01mraise\u001b[39;00m Py4JNetworkError(\n\u001b[1;32m   1197\u001b[0m         \u001b[38;5;124m\"\u001b[39m\u001b[38;5;124mError while sending\u001b[39m\u001b[38;5;124m\"\u001b[39m, e, proto\u001b[38;5;241m.\u001b[39mERROR_ON_SEND)\n\u001b[1;32m   1199\u001b[0m \u001b[38;5;28;01mtry\u001b[39;00m:\n\u001b[0;32m-> 1200\u001b[0m     answer \u001b[38;5;241m=\u001b[39m smart_decode(\u001b[38;5;28;43mself\u001b[39;49m\u001b[38;5;241;43m.\u001b[39;49m\u001b[43mstream\u001b[49m\u001b[38;5;241;43m.\u001b[39;49m\u001b[43mreadline\u001b[49m\u001b[43m(\u001b[49m\u001b[43m)\u001b[49m[:\u001b[38;5;241m-\u001b[39m\u001b[38;5;241m1\u001b[39m])\n\u001b[1;32m   1201\u001b[0m     logger\u001b[38;5;241m.\u001b[39mdebug(\u001b[38;5;124m\"\u001b[39m\u001b[38;5;124mAnswer received: \u001b[39m\u001b[38;5;132;01m{0}\u001b[39;00m\u001b[38;5;124m\"\u001b[39m\u001b[38;5;241m.\u001b[39mformat(answer))\n\u001b[1;32m   1202\u001b[0m     \u001b[38;5;28;01mif\u001b[39;00m answer\u001b[38;5;241m.\u001b[39mstartswith(proto\u001b[38;5;241m.\u001b[39mRETURN_MESSAGE):\n",
      "File \u001b[0;32m/opt/conda/miniconda3/lib/python3.8/socket.py:669\u001b[0m, in \u001b[0;36mSocketIO.readinto\u001b[0;34m(self, b)\u001b[0m\n\u001b[1;32m    667\u001b[0m \u001b[38;5;28;01mwhile\u001b[39;00m \u001b[38;5;28;01mTrue\u001b[39;00m:\n\u001b[1;32m    668\u001b[0m     \u001b[38;5;28;01mtry\u001b[39;00m:\n\u001b[0;32m--> 669\u001b[0m         \u001b[38;5;28;01mreturn\u001b[39;00m \u001b[38;5;28;43mself\u001b[39;49m\u001b[38;5;241;43m.\u001b[39;49m\u001b[43m_sock\u001b[49m\u001b[38;5;241;43m.\u001b[39;49m\u001b[43mrecv_into\u001b[49m\u001b[43m(\u001b[49m\u001b[43mb\u001b[49m\u001b[43m)\u001b[49m\n\u001b[1;32m    670\u001b[0m     \u001b[38;5;28;01mexcept\u001b[39;00m timeout:\n\u001b[1;32m    671\u001b[0m         \u001b[38;5;28mself\u001b[39m\u001b[38;5;241m.\u001b[39m_timeout_occurred \u001b[38;5;241m=\u001b[39m \u001b[38;5;28;01mTrue\u001b[39;00m\n",
      "\u001b[0;31mKeyboardInterrupt\u001b[0m: "
     ]
    }
   ],
   "source": [
    "review_elite_tagged.count()#.show()"
   ]
  },
  {
   "cell_type": "code",
   "execution_count": null,
   "id": "29b13e48-742f-4b1a-9367-b587ba8158d9",
   "metadata": {},
   "outputs": [],
   "source": [
    "document_frequency = review_elite_tagged \\\n",
    "    .limit(50000) \\\n",
    "    .withColumn('word', F.explode(F.split(\"text\", \" \"))) \\\n",
    "    .withColumn('word', F.lower('word')) \\\n",
    "    .groupby('word') \\\n",
    "    .count().rdd.toDF()"
   ]
  },
  {
   "cell_type": "code",
   "execution_count": null,
   "id": "c6c55fb0-078e-49dc-968e-84ccc4c30a35",
   "metadata": {},
   "outputs": [],
   "source": [
    "document_frequency.show()"
   ]
  },
  {
   "cell_type": "code",
   "execution_count": null,
   "id": "300792bd-04c4-4a47-8d57-bf066f2968b2",
   "metadata": {},
   "outputs": [],
   "source": [
    "term_frequency = review_elite_tagged \\\n",
    "    .limit(50000) \\\n",
    "    .withColumn('word', F.explode(F.split(\"text\", \" \"))) \\\n",
    "    .withColumn('word', F.lower('word')) \\\n",
    "    .groupby('is_elite_year', 'stars', 'word') \\\n",
    "    .count().rdd.toDF()"
   ]
  },
  {
   "cell_type": "code",
   "execution_count": null,
   "id": "0554a98f-80d4-4404-aa10-0f3e6d3e4fdb",
   "metadata": {},
   "outputs": [],
   "source": [
    "term_frequency.show()"
   ]
  }
 ],
 "metadata": {
  "kernelspec": {
   "display_name": "Python 3",
   "language": "python",
   "name": "python3"
  },
  "language_info": {
   "codemirror_mode": {
    "name": "ipython",
    "version": 3
   },
   "file_extension": ".py",
   "mimetype": "text/x-python",
   "name": "python",
   "nbconvert_exporter": "python",
   "pygments_lexer": "ipython3",
   "version": "3.8.13"
  }
 },
 "nbformat": 4,
 "nbformat_minor": 5
}
